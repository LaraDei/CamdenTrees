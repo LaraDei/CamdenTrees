{
 "cells": [
  {
   "cell_type": "markdown",
   "id": "38bcec7a-f9ab-48e8-9553-e9ded639a576",
   "metadata": {},
   "source": [
    "# Trees in Camden\n",
    "Use this notebook to complete your analysis.\n",
    "Enter code and comments after the TODOs.\n",
    "\n",
    "There are some code cells completed for you.  These are highlighted with a <font style=\"color:crimson;background-color:lemonchiffon\">TODO</font> comment.  You can use these to guide the subsequent tasks.  Other cells require you to read documentation or search for answers.  The markdown comments give you links to some useful documentation and articles.  Read the documentation, look at the examples provided in the documentation and then try to apply them to your data.\n",
    "\n",
    "Remember that you can find information on the pandas functions on the Pandas website https://pandas.pydata.org/pandas-docs/stable/reference/frame.html or directly in the notebook by putting a ? before or after the function name. for instance: `?df.head()` or `df['Maturity'].value_counts()?`"
   ]
  },
  {
   "cell_type": "markdown",
   "id": "71f2c016-f440-4601-8262-1d814315d1bb",
   "metadata": {},
   "source": [
    "## Imports\n",
    "Import the libraries we need to perform the analysis."
   ]
  },
  {
   "cell_type": "code",
   "execution_count": 101,
   "id": "26c7393c-3a3f-4224-8c88-10aa58310351",
   "metadata": {
    "ExecuteTime": {
     "end_time": "2023-12-14T17:42:28.687744200Z",
     "start_time": "2023-12-14T17:42:28.613256900Z"
    }
   },
   "outputs": [],
   "source": [
    "import pandas as pd\n",
    "import matplotlib.pyplot as plt"
   ]
  },
  {
   "cell_type": "markdown",
   "id": "ddcf618b-a928-498c-b07e-991c7eb09bb7",
   "metadata": {
    "tags": [],
    "toc-hr-collapsed": true
   },
   "source": [
    "## Task 2: Load Data and Perform Initial Exploration\n",
    "Load the data from the supplied data files.  The files are in different **file formats**, but Pandas can handle this.\n",
    "\n",
    "You should read the data in using the appropriate function:\n",
    "\n",
    "- [pandas.read_excel](https://pandas.pydata.org/pandas-docs/stable/reference/api/pandas.read_excel.html)\n",
    "- [pandas.read_csv](https://pandas.pydata.org/docs/reference/api/pandas.read_csv.html)\n",
    "- [pandas.read_json](https://pandas.pydata.org/pandas-docs/version/0.23.4/generated/pandas.read_json.html)\n",
    "\n",
    "You can then inspect the first few rows of the loaded dataframe:\n",
    "\n",
    "[pandas.DataFrame.head](https://pandas.pydata.org/docs/reference/api/pandas.DataFrame.head.html)\n",
    "\n",
    "You can get the number of rows and columns:\n",
    "\n",
    "[pandas.DataFrame.shape](https://pandas.pydata.org/pandas-docs/stable/reference/api/pandas.DataFrame.shape.html)\n",
    "\n",
    "You can get the list of column names:\n",
    "\n",
    "[pandas.DataFrame.columns](https://pandas.pydata.org/docs/reference/api/pandas.DataFrame.columns.html)\n",
    "\n",
    "And you can list the data types of the columns:\n",
    "\n",
    "[pandas.DataFrames.dtypes](https://pandas.pydata.org/pandas-docs/stable/reference/api/pandas.DataFrame.dtypes.html)\n",
    "\n",
    "I've done the first one (loading `\"camden_trees.xlsx\"`) for you.  Please load `\"camden_trees_environmental.csv\"` and `\"tree_common_names.json\"` and analyse them in the same way.\n"
   ]
  },
  {
   "cell_type": "markdown",
   "id": "be1b77e3-ef79-49da-a896-dafbc51a3e10",
   "metadata": {},
   "source": [
    "### 2.1 Trees\n",
    "The file `\"camden_trees.xlsx\"` is an Excel file, so we use the `read_excel()` function."
   ]
  },
  {
   "cell_type": "code",
   "execution_count": 2,
   "id": "dcc71d80-c6e5-41fa-bdd2-8a9c1c129cc7",
   "metadata": {
    "ExecuteTime": {
     "end_time": "2023-12-14T16:54:32.077290500Z",
     "start_time": "2023-12-14T16:54:05.439253800Z"
    }
   },
   "outputs": [],
   "source": [
    "# Create a Pandas dataframe called trees that contains the contents of the Excel file\n",
    "trees = pd.read_excel(\"https://s3.eu-west-1.amazonaws.com/course.oc-static.com/projects/DAN_UK_App_P3/camden_trees.xlsx\")"
   ]
  },
  {
   "cell_type": "markdown",
   "id": "13689979-f709-4e37-87bc-e005a9dfd0ea",
   "metadata": {},
   "source": [
    "We can now inspect the first few rows using `head()`.  By default, `head()` displays the first 5 rows."
   ]
  },
  {
   "cell_type": "code",
   "execution_count": 3,
   "id": "34c737a4-0666-450f-8db3-b14fd2c2fec5",
   "metadata": {
    "ExecuteTime": {
     "end_time": "2023-12-14T16:54:32.151231100Z",
     "start_time": "2023-12-14T16:54:32.078276400Z"
    }
   },
   "outputs": [
    {
     "data": {
      "text/plain": "  Identifier  Number Of Trees                   Site Name Contract Area  \\\n0   00060053              1.0    Russell Nurseries Estate       Housing   \n1   00057855              1.0           BRECKNOCK JMI (E)     Education   \n2   00059953              1.0  Estate 51 Ravenshaw Street       Housing   \n3   00059915              1.0           ROSARY RC JMI (E)     Education   \n4   00010762              1.0          Holly Lodge Estate       Housing   \n\n        Scientific Name Inspection Date Inspection Due Date  Height In Metres  \\\n0       Vacant Tree Pit             NaT                 NaN               NaN   \n1       Vacant Tree Pit      2019-07-17           2022/2023               NaN   \n2          Ficus carica             NaT                 NaN               5.0   \n3   Betula jacquemontii             NaT                 NaN               4.0   \n4  Ilex x altaclarensis      2017-06-14           2020/2021              14.0   \n\n   Spread In Metres  Diameter In Centimetres At Breast Height  Ward Code  \\\n0               NaN                                       NaN  E05000135   \n1               NaN                                       NaN  E05000131   \n2               4.0                                      10.0        NaN   \n3               1.0                                       6.0  E05000135   \n4               6.0                                      26.0  E05000137   \n\n        Ward Name  Easting  Northing  Longitude   Latitude  \\\n0  Hampstead Town   527305    185240  -0.165240  51.551693   \n1      Cantelowes   529923    184782  -0.127681  51.546984   \n2             NaN        0         0        NaN        NaN   \n3  Hampstead Town   527249    185261  -0.166051  51.551901   \n4        Highgate   528414    186770  -0.148704  51.565198   \n\n                 Location  \n0   (51.551693, -0.16524)  \n1  (51.546984, -0.127681)  \n2                     NaN  \n3  (51.551901, -0.166051)  \n4  (51.565198, -0.148704)  ",
      "text/html": "<div>\n<style scoped>\n    .dataframe tbody tr th:only-of-type {\n        vertical-align: middle;\n    }\n\n    .dataframe tbody tr th {\n        vertical-align: top;\n    }\n\n    .dataframe thead th {\n        text-align: right;\n    }\n</style>\n<table border=\"1\" class=\"dataframe\">\n  <thead>\n    <tr style=\"text-align: right;\">\n      <th></th>\n      <th>Identifier</th>\n      <th>Number Of Trees</th>\n      <th>Site Name</th>\n      <th>Contract Area</th>\n      <th>Scientific Name</th>\n      <th>Inspection Date</th>\n      <th>Inspection Due Date</th>\n      <th>Height In Metres</th>\n      <th>Spread In Metres</th>\n      <th>Diameter In Centimetres At Breast Height</th>\n      <th>Ward Code</th>\n      <th>Ward Name</th>\n      <th>Easting</th>\n      <th>Northing</th>\n      <th>Longitude</th>\n      <th>Latitude</th>\n      <th>Location</th>\n    </tr>\n  </thead>\n  <tbody>\n    <tr>\n      <th>0</th>\n      <td>00060053</td>\n      <td>1.0</td>\n      <td>Russell Nurseries Estate</td>\n      <td>Housing</td>\n      <td>Vacant Tree Pit</td>\n      <td>NaT</td>\n      <td>NaN</td>\n      <td>NaN</td>\n      <td>NaN</td>\n      <td>NaN</td>\n      <td>E05000135</td>\n      <td>Hampstead Town</td>\n      <td>527305</td>\n      <td>185240</td>\n      <td>-0.165240</td>\n      <td>51.551693</td>\n      <td>(51.551693, -0.16524)</td>\n    </tr>\n    <tr>\n      <th>1</th>\n      <td>00057855</td>\n      <td>1.0</td>\n      <td>BRECKNOCK JMI (E)</td>\n      <td>Education</td>\n      <td>Vacant Tree Pit</td>\n      <td>2019-07-17</td>\n      <td>2022/2023</td>\n      <td>NaN</td>\n      <td>NaN</td>\n      <td>NaN</td>\n      <td>E05000131</td>\n      <td>Cantelowes</td>\n      <td>529923</td>\n      <td>184782</td>\n      <td>-0.127681</td>\n      <td>51.546984</td>\n      <td>(51.546984, -0.127681)</td>\n    </tr>\n    <tr>\n      <th>2</th>\n      <td>00059953</td>\n      <td>1.0</td>\n      <td>Estate 51 Ravenshaw Street</td>\n      <td>Housing</td>\n      <td>Ficus carica</td>\n      <td>NaT</td>\n      <td>NaN</td>\n      <td>5.0</td>\n      <td>4.0</td>\n      <td>10.0</td>\n      <td>NaN</td>\n      <td>NaN</td>\n      <td>0</td>\n      <td>0</td>\n      <td>NaN</td>\n      <td>NaN</td>\n      <td>NaN</td>\n    </tr>\n    <tr>\n      <th>3</th>\n      <td>00059915</td>\n      <td>1.0</td>\n      <td>ROSARY RC JMI (E)</td>\n      <td>Education</td>\n      <td>Betula jacquemontii</td>\n      <td>NaT</td>\n      <td>NaN</td>\n      <td>4.0</td>\n      <td>1.0</td>\n      <td>6.0</td>\n      <td>E05000135</td>\n      <td>Hampstead Town</td>\n      <td>527249</td>\n      <td>185261</td>\n      <td>-0.166051</td>\n      <td>51.551901</td>\n      <td>(51.551901, -0.166051)</td>\n    </tr>\n    <tr>\n      <th>4</th>\n      <td>00010762</td>\n      <td>1.0</td>\n      <td>Holly Lodge Estate</td>\n      <td>Housing</td>\n      <td>Ilex x altaclarensis</td>\n      <td>2017-06-14</td>\n      <td>2020/2021</td>\n      <td>14.0</td>\n      <td>6.0</td>\n      <td>26.0</td>\n      <td>E05000137</td>\n      <td>Highgate</td>\n      <td>528414</td>\n      <td>186770</td>\n      <td>-0.148704</td>\n      <td>51.565198</td>\n      <td>(51.565198, -0.148704)</td>\n    </tr>\n  </tbody>\n</table>\n</div>"
     },
     "execution_count": 3,
     "metadata": {},
     "output_type": "execute_result"
    }
   ],
   "source": [
    "# Display the first few rows\n",
    "trees.head()"
   ]
  },
  {
   "cell_type": "markdown",
   "id": "2dc1c27b-7658-41be-92f5-6d1ee07f49c0",
   "metadata": {},
   "source": [
    "It's good to understand the size of the dataset we are dealing with.  The `shape` property does this for us."
   ]
  },
  {
   "cell_type": "code",
   "execution_count": 4,
   "id": "9e7f1cf1-4e79-4cdd-a6b8-0a41c16cb153",
   "metadata": {
    "ExecuteTime": {
     "end_time": "2023-12-14T16:54:32.151231100Z",
     "start_time": "2023-12-14T16:54:32.125220300Z"
    }
   },
   "outputs": [
    {
     "data": {
      "text/plain": "(23444, 17)"
     },
     "execution_count": 4,
     "metadata": {},
     "output_type": "execute_result"
    }
   ],
   "source": [
    "# Get the number of rows and columns\n",
    "trees.shape"
   ]
  },
  {
   "cell_type": "markdown",
   "id": "d499f569-4200-48e9-b0a5-b84fc72a228a",
   "metadata": {},
   "source": [
    "If there are lots of columns we can't always see all of them in the `head()` list above.  We can use the `columns` property to get a full list:"
   ]
  },
  {
   "cell_type": "code",
   "execution_count": 5,
   "id": "be4badda-f1c9-481c-a274-8251330cbc5a",
   "metadata": {
    "ExecuteTime": {
     "end_time": "2023-12-14T16:54:32.195140200Z",
     "start_time": "2023-12-14T16:54:32.141456400Z"
    }
   },
   "outputs": [
    {
     "data": {
      "text/plain": "Index(['Identifier', 'Number Of Trees', 'Site Name', 'Contract Area',\n       'Scientific Name', 'Inspection Date', 'Inspection Due Date',\n       'Height In Metres', 'Spread In Metres',\n       'Diameter In Centimetres At Breast Height', 'Ward Code', 'Ward Name',\n       'Easting', 'Northing', 'Longitude', 'Latitude', 'Location'],\n      dtype='object')"
     },
     "execution_count": 5,
     "metadata": {},
     "output_type": "execute_result"
    }
   ],
   "source": [
    "# Get a list of all the columns in the dataframe\n",
    "trees.columns"
   ]
  },
  {
   "cell_type": "markdown",
   "id": "7b184dfb-0498-43c0-afa7-9d4be449863a",
   "metadata": {},
   "source": [
    "In order to process the data properly, we should understand the data type for each column.  Pandas attempts to work this out for us, but sometimes we need to give it a bit of a hand.  We can use the `dtypes` property to list the data types.  Note that `object` is Pandas way of saying `string`, i.e. a text data type."
   ]
  },
  {
   "cell_type": "code",
   "execution_count": 6,
   "id": "f5b603ef-9ce1-4667-a672-5a86fe9daf1a",
   "metadata": {
    "ExecuteTime": {
     "end_time": "2023-12-14T16:54:32.313231800Z",
     "start_time": "2023-12-14T16:54:32.157216800Z"
    }
   },
   "outputs": [
    {
     "data": {
      "text/plain": "Identifier                                          object\nNumber Of Trees                                    float64\nSite Name                                           object\nContract Area                                       object\nScientific Name                                     object\nInspection Date                             datetime64[ns]\nInspection Due Date                                 object\nHeight In Metres                                   float64\nSpread In Metres                                   float64\nDiameter In Centimetres At Breast Height           float64\nWard Code                                           object\nWard Name                                           object\nEasting                                              int64\nNorthing                                             int64\nLongitude                                          float64\nLatitude                                           float64\nLocation                                            object\ndtype: object"
     },
     "execution_count": 6,
     "metadata": {},
     "output_type": "execute_result"
    }
   ],
   "source": [
    "# List the data types of each column\n",
    "trees.dtypes"
   ]
  },
  {
   "cell_type": "markdown",
   "id": "722d9b40-5f9c-4362-9b46-b052b2449898",
   "metadata": {},
   "source": [
    "### 2.2 Environmental\n",
    "The file `\"camden_trees_environmental.csv\"` is a csv file.  Use the appropriate function to load it into a Pandas DataFrame."
   ]
  },
  {
   "cell_type": "markdown",
   "id": "5585e3b9-4c1c-436e-a34f-f8f19a0cbd02",
   "metadata": {},
   "source": [
    "<div style=\"background-color:lemonchiffon; border:1px solid; padding:5px; margin:5px; font-weight:bold\"><font color=\"crimson\">\n",
    "TODO: Complete the following code cells\n",
    "    </font></div>"
   ]
  },
  {
   "cell_type": "code",
   "execution_count": 7,
   "id": "a12780eb-bcb5-4955-bc9b-28439ee81d22",
   "metadata": {
    "ExecuteTime": {
     "end_time": "2023-12-14T16:54:34.336069800Z",
     "start_time": "2023-12-14T16:54:32.171812700Z"
    }
   },
   "outputs": [],
   "source": [
    "# Create a Pandas dataframe called environmental that contains the contents of the csv file\n",
    "trees_environment = pd.read_csv(\"https://s3.eu-west-1.amazonaws.com/course.oc-static.com/projects/DAN_UK_App_P3/camden_trees_environmental.csv\")"
   ]
  },
  {
   "cell_type": "code",
   "execution_count": 8,
   "id": "4d6e254d-a3df-4004-b262-004923fdbf9a",
   "metadata": {
    "ExecuteTime": {
     "end_time": "2023-12-14T16:54:34.411872300Z",
     "start_time": "2023-12-14T16:54:34.339587600Z"
    }
   },
   "outputs": [
    {
     "data": {
      "text/plain": "  Identifier     Maturity Physiological Condition Tree Set To Be Removed  \\\n0   00055125     Juvenile                    Good                     No   \n1   00059429  Middle aged                    Fair                     No   \n2   00018254       Mature                    Fair                     No   \n3   00027155       Mature                    Fair                     No   \n4   00041326     Juvenile                    Good                     No   \n\n  Removal Reason  Capital Asset Value For Amenity Trees  \\\n0            NaN                                 115.07   \n1            NaN                                7518.08   \n2            NaN                               20419.63   \n3            NaN                               21447.74   \n4            NaN                                 524.30   \n\n   Carbon Storage In Kilograms  \\\n0                          1.6   \n1                          NaN   \n2                        426.4   \n3                        448.3   \n4                          9.9   \n\n   Gross Carbon Sequestration Per Year In Kilograms  \\\n0                                               0.5   \n1                                               NaN   \n2                                               8.8   \n3                                               9.6   \n4                                               1.4   \n\n   Pollution Removal Per Year In Grams  \n0                                  5.7  \n1                                  NaN  \n2                                215.2  \n3                                379.1  \n4                                 12.8  ",
      "text/html": "<div>\n<style scoped>\n    .dataframe tbody tr th:only-of-type {\n        vertical-align: middle;\n    }\n\n    .dataframe tbody tr th {\n        vertical-align: top;\n    }\n\n    .dataframe thead th {\n        text-align: right;\n    }\n</style>\n<table border=\"1\" class=\"dataframe\">\n  <thead>\n    <tr style=\"text-align: right;\">\n      <th></th>\n      <th>Identifier</th>\n      <th>Maturity</th>\n      <th>Physiological Condition</th>\n      <th>Tree Set To Be Removed</th>\n      <th>Removal Reason</th>\n      <th>Capital Asset Value For Amenity Trees</th>\n      <th>Carbon Storage In Kilograms</th>\n      <th>Gross Carbon Sequestration Per Year In Kilograms</th>\n      <th>Pollution Removal Per Year In Grams</th>\n    </tr>\n  </thead>\n  <tbody>\n    <tr>\n      <th>0</th>\n      <td>00055125</td>\n      <td>Juvenile</td>\n      <td>Good</td>\n      <td>No</td>\n      <td>NaN</td>\n      <td>115.07</td>\n      <td>1.6</td>\n      <td>0.5</td>\n      <td>5.7</td>\n    </tr>\n    <tr>\n      <th>1</th>\n      <td>00059429</td>\n      <td>Middle aged</td>\n      <td>Fair</td>\n      <td>No</td>\n      <td>NaN</td>\n      <td>7518.08</td>\n      <td>NaN</td>\n      <td>NaN</td>\n      <td>NaN</td>\n    </tr>\n    <tr>\n      <th>2</th>\n      <td>00018254</td>\n      <td>Mature</td>\n      <td>Fair</td>\n      <td>No</td>\n      <td>NaN</td>\n      <td>20419.63</td>\n      <td>426.4</td>\n      <td>8.8</td>\n      <td>215.2</td>\n    </tr>\n    <tr>\n      <th>3</th>\n      <td>00027155</td>\n      <td>Mature</td>\n      <td>Fair</td>\n      <td>No</td>\n      <td>NaN</td>\n      <td>21447.74</td>\n      <td>448.3</td>\n      <td>9.6</td>\n      <td>379.1</td>\n    </tr>\n    <tr>\n      <th>4</th>\n      <td>00041326</td>\n      <td>Juvenile</td>\n      <td>Good</td>\n      <td>No</td>\n      <td>NaN</td>\n      <td>524.30</td>\n      <td>9.9</td>\n      <td>1.4</td>\n      <td>12.8</td>\n    </tr>\n  </tbody>\n</table>\n</div>"
     },
     "execution_count": 8,
     "metadata": {},
     "output_type": "execute_result"
    }
   ],
   "source": [
    "# Display the first few rows\n",
    "trees_environment.head()"
   ]
  },
  {
   "cell_type": "code",
   "execution_count": 9,
   "id": "66c23391-628f-4612-936b-7f55c561fd1b",
   "metadata": {
    "ExecuteTime": {
     "end_time": "2023-12-14T16:54:34.473680800Z",
     "start_time": "2023-12-14T16:54:34.366714600Z"
    }
   },
   "outputs": [
    {
     "data": {
      "text/plain": "(23415, 9)"
     },
     "execution_count": 9,
     "metadata": {},
     "output_type": "execute_result"
    }
   ],
   "source": [
    "# Get the number of rows and columns\n",
    "trees_environment.shape"
   ]
  },
  {
   "cell_type": "code",
   "execution_count": 10,
   "id": "2ccce95e-0aec-4b3b-a961-5356606c2d60",
   "metadata": {
    "ExecuteTime": {
     "end_time": "2023-12-14T16:54:34.496130100Z",
     "start_time": "2023-12-14T16:54:34.381529900Z"
    }
   },
   "outputs": [
    {
     "data": {
      "text/plain": "Index(['Identifier', 'Maturity', 'Physiological Condition',\n       'Tree Set To Be Removed', 'Removal Reason',\n       'Capital Asset Value For Amenity Trees', 'Carbon Storage In Kilograms',\n       'Gross Carbon Sequestration Per Year In Kilograms',\n       'Pollution Removal Per Year In Grams'],\n      dtype='object')"
     },
     "execution_count": 10,
     "metadata": {},
     "output_type": "execute_result"
    }
   ],
   "source": [
    "# Get a list of all the columns in the dataframe\n",
    "trees_environment.columns"
   ]
  },
  {
   "cell_type": "code",
   "execution_count": 11,
   "id": "b32a0236-40fc-44d8-a0b1-d2afb3baba19",
   "metadata": {
    "ExecuteTime": {
     "end_time": "2023-12-14T16:54:34.523938800Z",
     "start_time": "2023-12-14T16:54:34.399798400Z"
    }
   },
   "outputs": [
    {
     "data": {
      "text/plain": "Identifier                                           object\nMaturity                                             object\nPhysiological Condition                              object\nTree Set To Be Removed                               object\nRemoval Reason                                       object\nCapital Asset Value For Amenity Trees               float64\nCarbon Storage In Kilograms                         float64\nGross Carbon Sequestration Per Year In Kilograms    float64\nPollution Removal Per Year In Grams                 float64\ndtype: object"
     },
     "execution_count": 11,
     "metadata": {},
     "output_type": "execute_result"
    }
   ],
   "source": [
    "# List the data types of each column\n",
    "trees_environment.dtypes"
   ]
  },
  {
   "cell_type": "markdown",
   "id": "35e2a8fe-944e-4ef0-b944-0a536f699455",
   "metadata": {},
   "source": [
    "<hr/>"
   ]
  },
  {
   "cell_type": "markdown",
   "id": "faa2e5f5-67d8-4382-bad0-549486826c3a",
   "metadata": {},
   "source": [
    "### 2.3 Common and Scientific Names\n",
    "The file `\"tree_common_names.json\"` is a json file.  Use the appropriate function to load it into a Pandas DataFrame."
   ]
  },
  {
   "cell_type": "markdown",
   "id": "c60ddc1e-1bc2-498b-83c8-296e182a5048",
   "metadata": {},
   "source": [
    "<div style=\"background-color:lemonchiffon; border:1px solid; padding:5px; margin:5px; font-weight:bold\"><font color=\"crimson\">\n",
    "TODO: Complete the following code cells\n",
    "    </font></div>"
   ]
  },
  {
   "cell_type": "code",
   "execution_count": 12,
   "id": "9d3eef7b-123a-4e3d-8d19-5808becb2d35",
   "metadata": {
    "ExecuteTime": {
     "end_time": "2023-12-14T16:54:36.073188700Z",
     "start_time": "2023-12-14T16:54:34.415496Z"
    }
   },
   "outputs": [],
   "source": [
    "# Create a Pandas dataframe called names that contains the contents of the json file\n",
    "trees_names = pd.read_json('https://s3.eu-west-1.amazonaws.com/course.oc-static.com/projects/DAN_UK_App_P3/tree_common_names.json')"
   ]
  },
  {
   "cell_type": "code",
   "execution_count": 13,
   "id": "5d05c25c-b462-481b-b8ca-485f4b5a6cec",
   "metadata": {
    "ExecuteTime": {
     "end_time": "2023-12-14T16:54:36.093163100Z",
     "start_time": "2023-12-14T16:54:36.075237200Z"
    }
   },
   "outputs": [
    {
     "data": {
      "text/plain": "              Scientific Name          Common Name\n0      Carpinus betulus Lucas  Hornbeam - European\n1            Prunus 'Pandora'  Cherry - Ornamental\n2  Tilia unidentified species                 Lime\n3   Rosa unidentified species                 None\n4               Cedrus libani     Cedar of Lebanon",
      "text/html": "<div>\n<style scoped>\n    .dataframe tbody tr th:only-of-type {\n        vertical-align: middle;\n    }\n\n    .dataframe tbody tr th {\n        vertical-align: top;\n    }\n\n    .dataframe thead th {\n        text-align: right;\n    }\n</style>\n<table border=\"1\" class=\"dataframe\">\n  <thead>\n    <tr style=\"text-align: right;\">\n      <th></th>\n      <th>Scientific Name</th>\n      <th>Common Name</th>\n    </tr>\n  </thead>\n  <tbody>\n    <tr>\n      <th>0</th>\n      <td>Carpinus betulus Lucas</td>\n      <td>Hornbeam - European</td>\n    </tr>\n    <tr>\n      <th>1</th>\n      <td>Prunus 'Pandora'</td>\n      <td>Cherry - Ornamental</td>\n    </tr>\n    <tr>\n      <th>2</th>\n      <td>Tilia unidentified species</td>\n      <td>Lime</td>\n    </tr>\n    <tr>\n      <th>3</th>\n      <td>Rosa unidentified species</td>\n      <td>None</td>\n    </tr>\n    <tr>\n      <th>4</th>\n      <td>Cedrus libani</td>\n      <td>Cedar of Lebanon</td>\n    </tr>\n  </tbody>\n</table>\n</div>"
     },
     "execution_count": 13,
     "metadata": {},
     "output_type": "execute_result"
    }
   ],
   "source": [
    "# Display the first few rows\n",
    "trees_names.head()"
   ]
  },
  {
   "cell_type": "code",
   "execution_count": 14,
   "id": "d6b7cc1e-1ec9-4a5e-a526-23143c0702f7",
   "metadata": {
    "ExecuteTime": {
     "end_time": "2023-12-14T16:54:36.156860800Z",
     "start_time": "2023-12-14T16:54:36.088511300Z"
    }
   },
   "outputs": [
    {
     "data": {
      "text/plain": "(589, 2)"
     },
     "execution_count": 14,
     "metadata": {},
     "output_type": "execute_result"
    }
   ],
   "source": [
    "# Get the number of rows and columns\n",
    "trees_names.shape"
   ]
  },
  {
   "cell_type": "code",
   "execution_count": 15,
   "id": "f349e0ba-c2d0-469b-9f16-530394e85446",
   "metadata": {
    "ExecuteTime": {
     "end_time": "2023-12-14T16:54:36.211105100Z",
     "start_time": "2023-12-14T16:54:36.107974800Z"
    }
   },
   "outputs": [
    {
     "data": {
      "text/plain": "Index(['Scientific Name', 'Common Name'], dtype='object')"
     },
     "execution_count": 15,
     "metadata": {},
     "output_type": "execute_result"
    }
   ],
   "source": [
    "# Get a list of all the columns in the dataframe\n",
    "trees_names.columns"
   ]
  },
  {
   "cell_type": "code",
   "execution_count": 16,
   "id": "aa722c8d-db42-4d95-85cc-eb3d87bcdc5a",
   "metadata": {
    "ExecuteTime": {
     "end_time": "2023-12-14T16:54:36.245416600Z",
     "start_time": "2023-12-14T16:54:36.123658800Z"
    }
   },
   "outputs": [
    {
     "data": {
      "text/plain": "Scientific Name    object\nCommon Name        object\ndtype: object"
     },
     "execution_count": 16,
     "metadata": {},
     "output_type": "execute_result"
    }
   ],
   "source": [
    "# List the data types of each column\n",
    "trees_names.dtypes"
   ]
  },
  {
   "cell_type": "markdown",
   "id": "17473375-5a50-4709-9d87-8ba11c738dc9",
   "metadata": {},
   "source": [
    "<hr/>"
   ]
  },
  {
   "cell_type": "markdown",
   "id": "5034de69-86fd-4332-9fbd-9ce160540ded",
   "metadata": {},
   "source": [
    "### 2.4 Review\n",
    "At the end of this task you should have a good basic understanding of the contents and overall shape of the different data files.  If you don't, do back and review the outputs above."
   ]
  },
  {
   "cell_type": "markdown",
   "id": "0ba2d5d3-ad1e-4961-a2c6-c6ecd1bcc9e0",
   "metadata": {
    "tags": []
   },
   "source": [
    "## Task 3: Further Inspect the Datasets\n",
    "The initial inspection gave you a very high-level understanding of the data.  We will now drill a bit deeper and try to understand the data column-by-column.\n",
    "\n",
    "For columns with a string data type (`object` in Pandas) we have **qualitative** data.  It would be good to know how many *different* values we have in the column, what those values are and the *count* how many of each different value we have.  This will help us understand if the qualitative variable is **binary**, **nominal** or **ordinal**.\n",
    "\n",
    "For columns with a numeric data type (`int` or `float`) we have **quantitative** data.  Usually integer type variables can the thought of as **discrete** and float type variables can be thought of as **continuous**.  It would be good to know some summary descriptive statistics for these columns.   \n",
    "\n",
    "If you are unsure of what these different data classifications mean, read this:\n",
    "\n",
    "[Types of Variables](https://openclassrooms.com/en/courses/6037301-perform-an-initial-data-analysis/6051886-discover-the-four-variable-types)\n",
    "\n",
    "You can get the list of values and counts for a column using this function:\n",
    "\n",
    "[pandas.Series.value_counts](https://pandas.pydata.org/docs/reference/api/pandas.Series.value_counts.html)\n",
    "\n",
    "You can get the descriptive statistics for a DataFrame using this function:\n",
    "\n",
    "[pandas.DataFrame.describe](https://pandas.pydata.org/pandas-docs/stable/reference/api/pandas.DataFrame.describe.html)\n",
    "\n",
    "Note that Pandas may treat integer columns as floats if there are null values in the columns.  So if you see a float data type it might be worth checking the actual values to confirm if it really is a float or if it really is an int with nulls.  You can check the actual values with:\n",
    "\n",
    "[pandas.Series.unique](https://pandas.pydata.org/docs/reference/api/pandas.Series.unique.html)\n",
    "\n"
   ]
  },
  {
   "cell_type": "markdown",
   "id": "9899c07e-0430-49db-875a-6d5a629d6887",
   "metadata": {},
   "source": [
    "### 3.1 Further Inspect the Trees Dataset\n",
    "Let's start with the trees' dataset.\n"
   ]
  },
  {
   "cell_type": "markdown",
   "id": "e220daf9-b12b-4d67-9253-6f61b1952e2f",
   "metadata": {},
   "source": [
    "#### 3.1.a Counts of Values for String Types Columns\n",
    "Go through each column that is a string (object) type and count the number of rows for each value in the column.  After each one, classify the data as binary, nominal or ordinal using a markdown comment.\n",
    "\n",
    "I've done the first one for you.\n"
   ]
  },
  {
   "cell_type": "markdown",
   "id": "3dd0dd30-406d-4635-888b-4157fa5e3f37",
   "metadata": {},
   "source": [
    "**Site Name**"
   ]
  },
  {
   "cell_type": "code",
   "execution_count": 17,
   "id": "3a4a0915-8d0e-45a2-a919-6b9fd49160da",
   "metadata": {
    "ExecuteTime": {
     "end_time": "2023-12-14T16:54:36.308977900Z",
     "start_time": "2023-12-14T16:54:36.139363400Z"
    }
   },
   "outputs": [
    {
     "data": {
      "text/plain": "Site Name\nWATERLOW PARK (LS)                         920\nAlexandra & Ainsworth Estate               289\nBelsize nature reserve, Russell Nursery    278\nHolly Lodge Estate                         272\nLINCOLN'S INN FIELDS, GARDENS (LS)         193\n                                          ... \nGOLDINGTON CRESCENT                          1\nALLCROFT ROAD                                1\nWOBURN WALK, LAND BEHIND 4-18                1\nKILBURN PRIORY                               1\nGOODGE PLACE                                 1\nName: count, Length: 1135, dtype: int64"
     },
     "execution_count": 17,
     "metadata": {},
     "output_type": "execute_result"
    }
   ],
   "source": [
    "# List of values in Site Name column and their counts\n",
    "site_name_counts = trees[\"Site Name\"].value_counts()\n",
    "site_name_counts"
   ]
  },
  {
   "cell_type": "markdown",
   "id": "9117ae6f-8ecb-429f-9e1e-84931d1291c2",
   "metadata": {},
   "source": [
    "Site Name is **qualitative nominal**."
   ]
  },
  {
   "cell_type": "markdown",
   "id": "62f1b4ef-e76a-4464-af20-70a31385091f",
   "metadata": {},
   "source": [
    "Now do the same on the other string columns.  Use `value_counts()` and then classify as binary, ordered or unordered using a markdown comment.  As you do each one, stop and look at the values and counts and think about how the data in the column might be useful for supporting the council's initiatives.  Don't just treat this as a mechanical copy/paste task. The objective is, after all, to get really intimate with the data!"
   ]
  },
  {
   "cell_type": "markdown",
   "id": "51845db9-18f6-4373-a8fc-e19492568561",
   "metadata": {},
   "source": [
    "<div style=\"background-color:lemonchiffon; border:1px solid; padding:5px; margin:5px; font-weight:bold\"><font color=\"crimson\">\n",
    "TODO: Enter your code below.  Use one code cell per column and then add a markdown cell after each one to classify the column as in the above example.  Add as many cells as you need.\n",
    "    </font></div>"
   ]
  },
  {
   "cell_type": "code",
   "execution_count": 18,
   "id": "30f79dcc-0c78-407e-9479-131db91b2400",
   "metadata": {
    "ExecuteTime": {
     "end_time": "2023-12-14T16:54:36.440111800Z",
     "start_time": "2023-12-14T16:54:36.181657400Z"
    }
   },
   "outputs": [
    {
     "data": {
      "text/plain": "Identifier\n00000999    2\n00060087    2\n00022744    2\n00032549    2\n00022674    2\n           ..\n00046158    1\n00058373    1\n00059181    1\n00002274    1\n00013369    1\nName: count, Length: 23438, dtype: int64"
     },
     "execution_count": 18,
     "metadata": {},
     "output_type": "execute_result"
    }
   ],
   "source": [
    "identifier_counts =trees[\"Identifier\"].value_counts()\n",
    "identifier_counts"
   ]
  },
  {
   "cell_type": "markdown",
   "source": [
    "Identifier is **qualitative nominal**."
   ],
   "metadata": {
    "collapsed": false
   },
   "id": "8299f62cb84fa31c"
  },
  {
   "cell_type": "code",
   "execution_count": 19,
   "id": "1f38b812-f955-481d-8964-55ce58be0290",
   "metadata": {
    "ExecuteTime": {
     "end_time": "2023-12-14T16:54:36.480503500Z",
     "start_time": "2023-12-14T16:54:36.200414600Z"
    }
   },
   "outputs": [
    {
     "data": {
      "text/plain": "Contract Area\nHighways              10062\nHousing                7500\nParks                  4330\nEducation              1288\nCorporate Landlord      264\nName: count, dtype: int64"
     },
     "execution_count": 19,
     "metadata": {},
     "output_type": "execute_result"
    }
   ],
   "source": [
    "contract_area_counts = trees[\"Contract Area\"].value_counts()\n",
    "contract_area_counts"
   ]
  },
  {
   "cell_type": "markdown",
   "source": [
    "Contract Area is **qualitative ordinal**."
   ],
   "metadata": {
    "collapsed": false
   },
   "id": "3b85b73e1079cfd7"
  },
  {
   "cell_type": "code",
   "execution_count": 20,
   "outputs": [
    {
     "data": {
      "text/plain": "Scientific Name\nPlatanus x hispanica                                 3340\nTilia europaea                                       1468\nAcer pseudoplatanus                                   941\nBetula pendula                                        765\nFraxinus excelsior                                    754\n                                                     ... \nVacant Tree Pit (planned: Populus tremula)              1\nLiriodendron fastigiata                                 1\nSequoia sempervirens                                    1\nSorbus x hybrida                                        1\nVacant Tree Pit (planned: Acer rubrum 'Amstrong')       1\nName: count, Length: 543, dtype: int64"
     },
     "execution_count": 20,
     "metadata": {},
     "output_type": "execute_result"
    }
   ],
   "source": [
    "scientific_name_counts = trees[\"Scientific Name\"].value_counts()\n",
    "scientific_name_counts"
   ],
   "metadata": {
    "collapsed": false,
    "ExecuteTime": {
     "end_time": "2023-12-14T16:54:36.482690Z",
     "start_time": "2023-12-14T16:54:36.221080500Z"
    }
   },
   "id": "77d47cecdfec8205"
  },
  {
   "cell_type": "markdown",
   "source": [
    "Scientific Name is **qualitative nominal**."
   ],
   "metadata": {
    "collapsed": false
   },
   "id": "6bcc8a770aecefb9"
  },
  {
   "cell_type": "code",
   "execution_count": 21,
   "outputs": [
    {
     "data": {
      "text/plain": "Ward Code\nE05000137    2799\nE05000143    1832\nE05000134    1541\nE05000140    1540\nE05000139    1463\nE05000136    1424\nE05000135    1340\nE05000138    1293\nE05000132    1284\nE05000131    1231\nE05000133    1229\nE05000129    1008\nE05000142     989\nE05000144     978\nE05000130     899\nE05000145     853\nE05000141     824\nE05000128     691\nName: count, dtype: int64"
     },
     "execution_count": 21,
     "metadata": {},
     "output_type": "execute_result"
    }
   ],
   "source": [
    "ward_code_counts = trees[\"Ward Code\"].value_counts()\n",
    "ward_code_counts"
   ],
   "metadata": {
    "collapsed": false,
    "ExecuteTime": {
     "end_time": "2023-12-14T16:54:36.680394Z",
     "start_time": "2023-12-14T16:54:36.233593800Z"
    }
   },
   "id": "518accaadbb1ff06"
  },
  {
   "cell_type": "markdown",
   "source": [
    "Ward Code is **qualitative ordinal**."
   ],
   "metadata": {
    "collapsed": false
   },
   "id": "a8c3d9b3f30a4146"
  },
  {
   "cell_type": "code",
   "execution_count": 22,
   "outputs": [
    {
     "data": {
      "text/plain": "Ward Name\nHighgate                          2799\nSt Pancras and Somers Town        1832\nGospel Oak                        1541\nKilburn                           1540\nKentish Town                      1463\nHaverstock                        1424\nHampstead Town                    1340\nHolborn and Covent Garden         1293\nFortune Green                     1284\nCantelowes                        1231\nFrognal and Fitzjohns             1229\nBloomsbury                        1008\nRegent's Park                      989\nSwiss Cottage                      978\nCamden Town with Primrose Hill     899\nWest Hampstead                     853\nKing's Cross                       824\nBelsize                            691\nName: count, dtype: int64"
     },
     "execution_count": 22,
     "metadata": {},
     "output_type": "execute_result"
    }
   ],
   "source": [
    "ward_name_counts = trees[\"Ward Name\"].value_counts()\n",
    "ward_name_counts"
   ],
   "metadata": {
    "collapsed": false,
    "ExecuteTime": {
     "end_time": "2023-12-14T16:54:36.681400200Z",
     "start_time": "2023-12-14T16:54:36.246422500Z"
    }
   },
   "id": "e80ccd5bfe3f300"
  },
  {
   "cell_type": "markdown",
   "source": [
    "Ward Name is **qualitative ordinal**."
   ],
   "metadata": {
    "collapsed": false
   },
   "id": "35924668cee3c455"
  },
  {
   "cell_type": "code",
   "execution_count": 23,
   "outputs": [
    {
     "data": {
      "text/plain": "count                      23388\nunique                     23262\ntop       (51.556205, -0.173776)\nfreq                           3\nName: Location, dtype: object"
     },
     "execution_count": 23,
     "metadata": {},
     "output_type": "execute_result"
    }
   ],
   "source": [
    "location_counts = trees[\"Location\"].describe()\n",
    "location_counts"
   ],
   "metadata": {
    "collapsed": false,
    "ExecuteTime": {
     "end_time": "2023-12-14T16:54:36.683405300Z",
     "start_time": "2023-12-14T16:54:36.264125900Z"
    }
   },
   "id": "b9fb64f4d1fd9d8d"
  },
  {
   "cell_type": "markdown",
   "source": [
    "Location is **qualitative ordinal**."
   ],
   "metadata": {
    "collapsed": false
   },
   "id": "bb051501b3fb06e9"
  },
  {
   "cell_type": "code",
   "execution_count": 24,
   "outputs": [
    {
     "data": {
      "text/plain": "count         23043\nunique           13\ntop       2022/2023\nfreq           7921\nName: Inspection Due Date, dtype: object"
     },
     "execution_count": 24,
     "metadata": {},
     "output_type": "execute_result"
    }
   ],
   "source": [
    "inspection_due_date_counts = trees[\"Inspection Due Date\"].describe()\n",
    "inspection_due_date_counts"
   ],
   "metadata": {
    "collapsed": false,
    "ExecuteTime": {
     "end_time": "2023-12-14T16:54:36.683918500Z",
     "start_time": "2023-12-14T16:54:36.294954900Z"
    }
   },
   "id": "4fafad7efae4b14c"
  },
  {
   "cell_type": "markdown",
   "source": [
    "Inspection Due Date is **qualitative nominal**."
   ],
   "metadata": {
    "collapsed": false
   },
   "id": "e5885d84225d67c"
  },
  {
   "cell_type": "markdown",
   "id": "098f1891-aa39-4304-9845-13cf7041d27f",
   "metadata": {},
   "source": [
    "<hr/>"
   ]
  },
  {
   "cell_type": "markdown",
   "id": "65820ccc-8566-4b63-b141-7dffa8e9d067",
   "metadata": {},
   "source": [
    "#### 3.1.b Descriptive Stats for Numeric Type Columns\n",
    "Use the `describe()` function to get the descriptive stats for the numeric columns.\n",
    "\n",
    "For each column, classify the column as discrete or continuous (use the data type to guide you, but check any floats to confirm whether they are really floats or just ints with null values.  Use `pandas.Series.unique()` to check this).\n"
   ]
  },
  {
   "cell_type": "markdown",
   "id": "bef50831-d839-4dd0-833e-cabfda83cba4",
   "metadata": {},
   "source": [
    "<div style=\"background-color:lemonchiffon; border:1px solid; padding:5px; margin:5px; font-weight:bold\"><font color=\"crimson\">\n",
    "TODO: Complete the following code cells\n",
    "    </font></div>"
   ]
  },
  {
   "cell_type": "code",
   "execution_count": 25,
   "id": "0f449063-a7c5-4526-a057-fd20bd17ba6f",
   "metadata": {
    "ExecuteTime": {
     "end_time": "2023-12-14T16:54:36.725649300Z",
     "start_time": "2023-12-14T16:54:36.309988100Z"
    }
   },
   "outputs": [
    {
     "data": {
      "text/plain": "count    23422.000000\nmean         1.100034\nstd          1.288041\nmin          0.000000\n25%          1.000000\n50%          1.000000\n75%          1.000000\nmax         67.000000\nName: Number Of Trees, dtype: float64"
     },
     "execution_count": 25,
     "metadata": {},
     "output_type": "execute_result"
    }
   ],
   "source": [
    "# Get the descriptive stats for the numeric columns\n",
    "num_of_trees_stats = trees[\"Number Of Trees\"].describe()\n",
    "num_of_trees_stats"
   ]
  },
  {
   "cell_type": "code",
   "execution_count": 26,
   "outputs": [
    {
     "data": {
      "text/plain": "count                            23043\nmean     2018-07-16 11:54:05.671136512\nmin                1999-01-16 00:00:00\n25%                2017-08-17 00:00:00\n50%                2018-07-26 00:00:00\n75%                2019-05-20 00:00:00\nmax                2020-03-01 00:00:00\nName: Inspection Date, dtype: object"
     },
     "execution_count": 26,
     "metadata": {},
     "output_type": "execute_result"
    }
   ],
   "source": [
    "inspection_date_stats = trees[\"Inspection Date\"].describe()\n",
    "inspection_date_stats"
   ],
   "metadata": {
    "collapsed": false,
    "ExecuteTime": {
     "end_time": "2023-12-14T16:54:36.726502900Z",
     "start_time": "2023-12-14T16:54:36.325127700Z"
    }
   },
   "id": "10e9a20f570b707f"
  },
  {
   "cell_type": "code",
   "execution_count": 27,
   "outputs": [
    {
     "data": {
      "text/plain": "count    23006.000000\nmean        10.307029\nstd          6.325293\nmin          0.000000\n25%          5.000000\n50%          9.000000\n75%         15.000000\nmax        127.000000\nName: Height In Metres, dtype: float64"
     },
     "execution_count": 27,
     "metadata": {},
     "output_type": "execute_result"
    }
   ],
   "source": [
    "height_in_metres_stats = trees[\"Height In Metres\"].describe()\n",
    "height_in_metres_stats"
   ],
   "metadata": {
    "collapsed": false,
    "ExecuteTime": {
     "end_time": "2023-12-14T16:54:36.727511400Z",
     "start_time": "2023-12-14T16:54:36.340820100Z"
    }
   },
   "id": "92dd66c0c968da2"
  },
  {
   "cell_type": "code",
   "execution_count": 28,
   "outputs": [
    {
     "data": {
      "text/plain": "count    23006.000000\nmean         5.997612\nstd          4.132379\nmin          0.000000\n25%          3.000000\n50%          5.000000\n75%          8.000000\nmax         88.000000\nName: Spread In Metres, dtype: float64"
     },
     "execution_count": 28,
     "metadata": {},
     "output_type": "execute_result"
    }
   ],
   "source": [
    "spread_in_meters_stats = trees[\"Spread In Metres\"].describe()\n",
    "spread_in_meters_stats"
   ],
   "metadata": {
    "collapsed": false,
    "ExecuteTime": {
     "end_time": "2023-12-14T16:54:36.727511400Z",
     "start_time": "2023-12-14T16:54:36.356999Z"
    }
   },
   "id": "fc5c53497e3daa0c"
  },
  {
   "cell_type": "code",
   "execution_count": 29,
   "outputs": [
    {
     "data": {
      "text/plain": "count    23005.000000\nmean        32.595262\nstd         26.149994\nmin          0.000000\n25%         12.000000\n50%         27.000000\n75%         46.000000\nmax        228.000000\nName: Diameter In Centimetres At Breast Height, dtype: float64"
     },
     "execution_count": 29,
     "metadata": {},
     "output_type": "execute_result"
    }
   ],
   "source": [
    "diameter_in_cent_stats = trees[\"Diameter In Centimetres At Breast Height\"].describe()\n",
    "diameter_in_cent_stats"
   ],
   "metadata": {
    "collapsed": false,
    "ExecuteTime": {
     "end_time": "2023-12-14T16:54:36.729062400Z",
     "start_time": "2023-12-14T16:54:36.370265400Z"
    }
   },
   "id": "d3c854cf94ecf073"
  },
  {
   "cell_type": "code",
   "execution_count": 30,
   "outputs": [
    {
     "data": {
      "text/plain": "count     23444.000000\nmean     526762.518171\nstd       25835.857212\nmin           0.000000\n25%      526583.750000\n50%      528456.500000\n75%      529369.000000\nmax      531514.000000\nName: Easting, dtype: float64"
     },
     "execution_count": 30,
     "metadata": {},
     "output_type": "execute_result"
    }
   ],
   "source": [
    "easting_stats = trees[\"Easting\"].describe()\n",
    "easting_stats"
   ],
   "metadata": {
    "collapsed": false,
    "ExecuteTime": {
     "end_time": "2023-12-14T16:54:36.741203800Z",
     "start_time": "2023-12-14T16:54:36.389583900Z"
    }
   },
   "id": "de4d516b927ce7b4"
  },
  {
   "cell_type": "code",
   "execution_count": 31,
   "outputs": [
    {
     "data": {
      "text/plain": "count     23444.000000\nmean     184085.188662\nstd        9121.059755\nmin           0.000000\n25%      183665.000000\n50%      184690.000000\n75%      185481.000000\nmax      196188.000000\nName: Northing, dtype: float64"
     },
     "execution_count": 31,
     "metadata": {},
     "output_type": "execute_result"
    }
   ],
   "source": [
    "northing_stats = trees[\"Northing\"].describe()\n",
    "northing_stats"
   ],
   "metadata": {
    "collapsed": false,
    "ExecuteTime": {
     "end_time": "2023-12-14T16:54:36.742211700Z",
     "start_time": "2023-12-14T16:54:36.406193300Z"
    }
   },
   "id": "252c669261f0784e"
  },
  {
   "cell_type": "code",
   "execution_count": 32,
   "outputs": [
    {
     "data": {
      "text/plain": "count    23388.000000\nmean        -0.155145\nstd          0.025058\nmin         -0.261719\n25%         -0.175734\n50%         -0.148478\n75%         -0.135978\nmax         -0.105858\nName: Longitude, dtype: float64"
     },
     "execution_count": 32,
     "metadata": {},
     "output_type": "execute_result"
    }
   ],
   "source": [
    "longitude_stats = trees[\"Longitude\"].describe()\n",
    "longitude_stats"
   ],
   "metadata": {
    "collapsed": false,
    "ExecuteTime": {
     "end_time": "2023-12-14T16:54:36.934732500Z",
     "start_time": "2023-12-14T16:54:36.422600100Z"
    }
   },
   "id": "5b959748537cfd61"
  },
  {
   "cell_type": "code",
   "execution_count": 33,
   "outputs": [
    {
     "data": {
      "text/plain": "count    23388.000000\nmean        51.545115\nstd          0.013067\nmin         51.512858\n25%         51.537472\n50%         51.546669\n75%         51.554032\nmax         51.650843\nName: Latitude, dtype: float64"
     },
     "execution_count": 33,
     "metadata": {},
     "output_type": "execute_result"
    }
   ],
   "source": [
    "latitude_stats = trees[\"Latitude\"].describe()\n",
    "latitude_stats"
   ],
   "metadata": {
    "collapsed": false,
    "ExecuteTime": {
     "end_time": "2023-12-14T16:54:36.970529300Z",
     "start_time": "2023-12-14T16:54:36.438020400Z"
    }
   },
   "id": "b284897f232ad318"
  },
  {
   "cell_type": "markdown",
   "source": [
    "# Remind ourselves of the data types"
   ],
   "metadata": {
    "collapsed": false
   },
   "id": "a8783c9a92702003"
  },
  {
   "cell_type": "markdown",
   "source": [
    "Number Of Trees is a **float**\n",
    "Inspection Date is  **date and time**\n",
    "Height In Metres is a **float**\n",
    "Spread In Metres is a **float**\n",
    "Diameter In Centimetres At Breast Height is a **float**\n",
    "Easting is an **integer**\n",
    "Northing is an **integer**\n",
    "Longitude is a **float**\n",
    "Latitude is a **float**"
   ],
   "metadata": {
    "collapsed": false
   },
   "id": "ee63b7f8bfacca29"
  },
  {
   "cell_type": "markdown",
   "id": "f8139d4e-5890-4d4d-bf64-850c9f783710",
   "metadata": {},
   "source": [
    "<hr/>\n",
    "\n",
    "Find out if floats are really floats or ints with nulls.\n",
    "\n",
    "<div style=\"background-color:lemonchiffon; border:1px solid; padding:5px; margin:5px; font-weight:bold\"><font color=\"crimson\">\n",
    "TODO: Enter your code below.  Use one code cell per column.   Add as many cells as you need.\n",
    "    </font></div>"
   ]
  },
  {
   "cell_type": "code",
   "execution_count": 34,
   "id": "d1b425fc-edd1-4bfd-9766-6bd300bd2968",
   "metadata": {
    "ExecuteTime": {
     "end_time": "2023-12-14T16:54:36.970529300Z",
     "start_time": "2023-12-14T16:54:36.452185Z"
    }
   },
   "outputs": [
    {
     "data": {
      "text/plain": "array([ 1.,  2.,  3.,  0., nan,  5.,  6.,  7., 18.,  8., 65.,  4., 10.,\n        9., 11., 50., 12., 15., 52., 40., 33., 13., 20., 67., 21., 32.,\n       24., 26., 16., 25., 51.])"
     },
     "execution_count": 34,
     "metadata": {},
     "output_type": "execute_result"
    }
   ],
   "source": [
    "num_of_trees_nulls = pd.Series.unique(trees[\"Number Of Trees\"])\n",
    "num_of_trees_nulls"
   ]
  },
  {
   "cell_type": "code",
   "execution_count": 35,
   "id": "a463c666-709d-4821-b0d0-815ce6810bd9",
   "metadata": {
    "ExecuteTime": {
     "end_time": "2023-12-14T16:54:37.045172700Z",
     "start_time": "2023-12-14T16:54:36.471366500Z"
    }
   },
   "outputs": [
    {
     "data": {
      "text/plain": "array([  nan,   5. ,   4. ,  14. ,   9. ,   0. ,   2. ,   2.5,   8. ,\n        13. ,  17. ,  10. ,   3. ,  19. ,   7. ,   6. ,   1.8,  15. ,\n        12. ,   1.5,  16. ,  20. ,  21. ,  24. ,  25. ,   2.7,  18. ,\n        11. ,  26. ,  22. ,   0.5,  16.1,  27. ,  28. ,   2.3,  22.3,\n        38. ,  15.5,  29. ,  23. ,  34. ,   3.5,   2.6,   1. ,   5.5,\n        22.5,   2.2,  36. ,  31. ,  96. ,  13.6, 127. ,  14.7,   4.5,\n        30. ,  35. ,  32. ,   9.4,  11.8,  33. ,  40. ,   2.1,   6.5,\n        41. ,  23.1,  37. ,  39. ,  12.5,   7.5,  13.7,  31.6,  23.8,\n         0.2,  12.3,  15.7,   6.8,   9.3,   3.8,  24.9,  17.4,   2.8,\n         3.2,  13.9,  12.4,  10.2,  10.8,  24.5,  30.4,   9.8,  11.4,\n        23.4,   3.7,  11.6,   7.7,   8.3,   3.6,  17.5,  19.5])"
     },
     "execution_count": 35,
     "metadata": {},
     "output_type": "execute_result"
    }
   ],
   "source": [
    "pd.Series.unique(trees[\"Height In Metres\"])"
   ]
  },
  {
   "cell_type": "code",
   "execution_count": 36,
   "id": "81ec49ca-b8dc-4c4f-ae1f-2fd3368330e8",
   "metadata": {
    "ExecuteTime": {
     "end_time": "2023-12-14T16:54:37.046166500Z",
     "start_time": "2023-12-14T16:54:36.506776800Z"
    }
   },
   "outputs": [
    {
     "data": {
      "text/plain": "array([  nan,  4.  ,  1.  ,  6.  ,  7.  ,  0.  ,  1.5 ,  5.  ,  9.  ,\n       10.  ,  3.  ,  2.  , 13.  ,  2.5 , 12.  , 15.  , 14.  ,  8.  ,\n       11.  ,  0.6 ,  1.8 , 17.  , 20.  , 18.  , 16.  , 22.  , 19.  ,\n        5.5 , 26.  ,  1.4 , 23.  , 21.  , 28.  ,  1.2 ,  0.5 ,  3.5 ,\n       24.  ,  1.3 ,  1.6 , 30.  ,  1.7 , 27.  ,  4.2 , 11.02,  0.7 ,\n        6.5 ,  4.5 , 31.  , 25.  ,  0.8 ,  0.3 ,  2.2 ,  2.8 ,  1.65,\n       29.  , 88.  ])"
     },
     "execution_count": 36,
     "metadata": {},
     "output_type": "execute_result"
    }
   ],
   "source": [
    "pd.Series.unique(trees[\"Spread In Metres\"])"
   ]
  },
  {
   "cell_type": "code",
   "execution_count": 37,
   "id": "ece0e5ee-9b62-43b7-ae9b-1c71086736f4",
   "metadata": {
    "ExecuteTime": {
     "end_time": "2023-12-14T16:54:37.047177500Z",
     "start_time": "2023-12-14T16:54:36.530636200Z"
    }
   },
   "outputs": [
    {
     "data": {
      "text/plain": "array([  nan,  10. ,   6. ,  26. ,  29. ,   5. ,   0. ,   4. ,  12. ,\n        59. ,  52. ,  23. ,  50. ,  63. ,  15. ,   3. ,  49. ,  42. ,\n        14. ,  19. ,   9. ,  70. ,  32. ,  28. ,  34. ,  20. ,  17. ,\n        27. ,  37. ,   8. ,  45. ,  18. , 119. ,   7. ,  38. ,  55. ,\n        41. ,  75. ,  31. ,  25. ,  11. ,  30. ,  43. ,  68. ,  92. ,\n        16. ,  35. ,  58. ,  72. ,  64. ,  13. ,  61. ,  69. ,  33. ,\n        47. ,  67. , 109. , 106. ,  24. ,  51. ,  40. ,  22. ,  60. ,\n        39. ,  46. ,  57. ,  21. ,  54. , 117. ,  44. ,  82. , 114. ,\n        65. ,  84. , 118. ,   1. ,  89. ,  53. ,  36. ,  93. ,  88. ,\n        86. , 163. ,  66. ,  81. ,  74. , 100. ,  48. ,  73. ,  95. ,\n       129. ,  62. ,  85. ,  56. ,   3.5, 161. ,  71. , 105. , 102. ,\n        80. ,  87. , 101. ,  76. , 113. , 108. , 160. , 132. ,  90. ,\n       145. , 130. ,  79. , 228. , 110. ,  83. ,  78. , 122. , 170. ,\n       115. ,   2. ,  77. , 107. ,  96. , 126. ,  91. , 104. , 158. ,\n        99. ,  94. ,  16.5, 127. , 151. , 103. , 112. ,  98. ,  97. ,\n       136. , 125. , 111. , 124. , 139. , 156. , 120. , 148. , 144. ,\n       140. , 121. , 143. ,  17.5, 154. , 159. , 142. , 197. , 123. ,\n       149. , 155. , 191. , 131. , 147. , 162. , 116. , 152. , 153. ,\n       165. , 137. , 200. , 177. , 133. , 128. , 134. ,  11.5, 135. ,\n       150. , 187. , 210. , 166. , 138. ,  10.5, 206. , 141. , 209. ,\n       184. , 173. , 192. ,   7.5, 194. , 157. , 146. , 185. ])"
     },
     "execution_count": 37,
     "metadata": {},
     "output_type": "execute_result"
    }
   ],
   "source": [
    "pd.Series.unique(trees[\"Diameter In Centimetres At Breast Height\"])"
   ]
  },
  {
   "cell_type": "code",
   "execution_count": 38,
   "outputs": [
    {
     "data": {
      "text/plain": "array([527305, 529923,      0, ..., 527733, 524398, 525944], dtype=int64)"
     },
     "execution_count": 38,
     "metadata": {},
     "output_type": "execute_result"
    }
   ],
   "source": [
    "pd.Series.unique(trees[\"Easting\"])"
   ],
   "metadata": {
    "collapsed": false,
    "ExecuteTime": {
     "end_time": "2023-12-14T16:54:37.047177500Z",
     "start_time": "2023-12-14T16:54:36.544047400Z"
    }
   },
   "id": "c9a7cb5f273727b5"
  },
  {
   "cell_type": "code",
   "execution_count": 39,
   "outputs": [
    {
     "data": {
      "text/plain": "array([185240, 184782,      0, ..., 185755, 187062, 187313], dtype=int64)"
     },
     "execution_count": 39,
     "metadata": {},
     "output_type": "execute_result"
    }
   ],
   "source": [
    "pd.Series.unique(trees[\"Northing\"])"
   ],
   "metadata": {
    "collapsed": false,
    "ExecuteTime": {
     "end_time": "2023-12-14T16:54:37.048156700Z",
     "start_time": "2023-12-14T16:54:36.560674200Z"
    }
   },
   "id": "3be5f0c67ef20d41"
  },
  {
   "cell_type": "code",
   "execution_count": 40,
   "outputs": [
    {
     "data": {
      "text/plain": "array([-0.16524 , -0.127681,       nan, ..., -0.196884, -0.204206,\n       -0.173397])"
     },
     "execution_count": 40,
     "metadata": {},
     "output_type": "execute_result"
    }
   ],
   "source": [
    "pd.Series.unique(trees[\"Longitude\"])"
   ],
   "metadata": {
    "collapsed": false,
    "ExecuteTime": {
     "end_time": "2023-12-14T16:54:37.049171600Z",
     "start_time": "2023-12-14T16:54:36.576793200Z"
    }
   },
   "id": "d7f20d5d29b773ac"
  },
  {
   "cell_type": "code",
   "execution_count": 41,
   "outputs": [
    {
     "data": {
      "text/plain": "array([51.551693, 51.546984,       nan, ..., 51.54329 , 51.545726,\n       51.531863])"
     },
     "execution_count": 41,
     "metadata": {},
     "output_type": "execute_result"
    }
   ],
   "source": [
    "pd.Series.unique(trees[\"Latitude\"])"
   ],
   "metadata": {
    "collapsed": false,
    "ExecuteTime": {
     "end_time": "2023-12-14T16:54:37.049171600Z",
     "start_time": "2023-12-14T16:54:36.588907900Z"
    }
   },
   "id": "9d3c69b2538e1a6c"
  },
  {
   "cell_type": "markdown",
   "id": "27c930e8-f1f0-45d1-851a-ac41f43fbdcd",
   "metadata": {},
   "source": [
    "\n",
    "<hr/>"
   ]
  },
  {
   "cell_type": "markdown",
   "id": "de74dc7d-a346-42ba-9def-8d07b1ef1e0c",
   "metadata": {},
   "source": [
    "Classify the columns as discrete or continuous.\n",
    "\n",
    "<div style=\"background-color:lemonchiffon; border:1px solid; padding:5px; margin:5px; font-weight:bold\"><font color=\"crimson\">\n",
    "TODO: Enter markdown below.\n",
    "</div>"
   ]
  },
  {
   "cell_type": "markdown",
   "id": "5a7931f5-fac2-4181-84d6-b4999e983057",
   "metadata": {},
   "source": [
    "\n",
    "ENTER AS MARKDOWN HERE"
   ]
  },
  {
   "cell_type": "markdown",
   "source": [
    "Number Of Trees is **discrete**"
   ],
   "metadata": {
    "collapsed": false
   },
   "id": "3c763884598970e8"
  },
  {
   "cell_type": "markdown",
   "source": [
    "Inspection Date is **continuous**"
   ],
   "metadata": {
    "collapsed": false
   },
   "id": "d5f6ad185b52bd7c"
  },
  {
   "cell_type": "markdown",
   "source": [
    "Height In Metres is **continuous**"
   ],
   "metadata": {
    "collapsed": false
   },
   "id": "e880b8246577b872"
  },
  {
   "cell_type": "markdown",
   "source": [
    "Spread In Metres is **continuous**"
   ],
   "metadata": {
    "collapsed": false
   },
   "id": "3b4884172d7b1e20"
  },
  {
   "cell_type": "markdown",
   "source": [
    "Diameter In Centimetres At Breast Height **continuous**"
   ],
   "metadata": {
    "collapsed": false
   },
   "id": "5f47374f6f16dedd"
  },
  {
   "cell_type": "markdown",
   "source": [
    "Easting is **continuous**"
   ],
   "metadata": {
    "collapsed": false
   },
   "id": "75261b89646ac413"
  },
  {
   "cell_type": "markdown",
   "source": [
    "Northing is **continuous**"
   ],
   "metadata": {
    "collapsed": false
   },
   "id": "bf908d9fdbca255d"
  },
  {
   "cell_type": "markdown",
   "source": [
    "Longitude is **continuous**"
   ],
   "metadata": {
    "collapsed": false
   },
   "id": "bfa6c1b669c65e73"
  },
  {
   "cell_type": "markdown",
   "source": [
    "Latitude is **continuous**"
   ],
   "metadata": {
    "collapsed": false
   },
   "id": "430f6c50455465c8"
  },
  {
   "cell_type": "markdown",
   "id": "4ee2e405-e35f-49d7-bcd6-00c12d31fa8d",
   "metadata": {},
   "source": [
    "<hr/>"
   ]
  },
  {
   "cell_type": "markdown",
   "id": "90c6e10d-2f2e-4003-b983-f60870b6fc1a",
   "metadata": {},
   "source": [
    "### 3.2 Further Inspect the Environmental Dataset\n",
    "Now repeat the above for the environmental dataset.\n",
    "\n",
    "#### 3.2.a Counts of Values for String Type Columns \n",
    "For each string column in the environmental dataset show the counts of the unique values."
   ]
  },
  {
   "cell_type": "markdown",
   "id": "f077e892-01db-426e-9cae-e59a6b0940be",
   "metadata": {},
   "source": [
    "<div style=\"background-color:lemonchiffon; border:1px solid; padding:5px; margin:5px; font-weight:bold\"><font color=\"crimson\">\n",
    "    TODO: Enter your code below.  Use one code cell per column and then add a markdown cell after each one to classify the column.  Add as many cells as you need.\n",
    "</font></div>"
   ]
  },
  {
   "cell_type": "code",
   "execution_count": 42,
   "outputs": [
    {
     "data": {
      "text/plain": "Identifier\n00055125    1\n00001681    1\n00008539    1\n00019552    1\n00032062    1\n           ..\n00013724    1\n00005978    1\n00017336    1\n00014229    1\n00001786    1\nName: count, Length: 23415, dtype: int64"
     },
     "execution_count": 42,
     "metadata": {},
     "output_type": "execute_result"
    }
   ],
   "source": [
    "identifier_environment = trees_environment[\"Identifier\"].value_counts()\n",
    "identifier_environment"
   ],
   "metadata": {
    "collapsed": false,
    "ExecuteTime": {
     "end_time": "2023-12-14T16:54:37.050159800Z",
     "start_time": "2023-12-14T16:54:36.606714300Z"
    }
   },
   "id": "5f57352b694dc33a"
  },
  {
   "cell_type": "markdown",
   "source": [
    "Identifier is **qualitative nominal**."
   ],
   "metadata": {
    "collapsed": false
   },
   "id": "7e94b2ad2328a04e"
  },
  {
   "cell_type": "code",
   "execution_count": 43,
   "id": "044f2b73-aa4b-4a10-8546-e3149d39d817",
   "metadata": {
    "ExecuteTime": {
     "end_time": "2023-12-14T16:54:37.050709200Z",
     "start_time": "2023-12-14T16:54:36.622817700Z"
    }
   },
   "outputs": [
    {
     "data": {
      "text/plain": "Maturity\nMature            10225\nMiddle aged        7779\nJuvenile           4393\nNot Applicable      377\nOver Mature         191\nVeteran              41\nName: count, dtype: int64"
     },
     "execution_count": 43,
     "metadata": {},
     "output_type": "execute_result"
    }
   ],
   "source": [
    "maturity_counts = trees_environment[\"Maturity\"].value_counts()\n",
    "maturity_counts"
   ]
  },
  {
   "cell_type": "markdown",
   "source": [
    "Maturity is **qualitative ordinal**."
   ],
   "metadata": {
    "collapsed": false
   },
   "id": "2630c4cb413c1fbe"
  },
  {
   "cell_type": "code",
   "execution_count": 44,
   "id": "089c3831-ae1e-47f9-a907-45260efe3d56",
   "metadata": {
    "ExecuteTime": {
     "end_time": "2023-12-14T16:54:37.050709200Z",
     "start_time": "2023-12-14T16:54:36.638037Z"
    }
   },
   "outputs": [
    {
     "data": {
      "text/plain": "Physiological Condition\nGood              12910\nFair               9183\nPoor                357\nNot applicable      249\nDead                236\nExcellent             8\nName: count, dtype: int64"
     },
     "execution_count": 44,
     "metadata": {},
     "output_type": "execute_result"
    }
   ],
   "source": [
    "physiological_condition_counts = trees_environment[\"Physiological Condition\"].value_counts()\n",
    "physiological_condition_counts"
   ]
  },
  {
   "cell_type": "markdown",
   "source": [
    "Physiological Condition is **qualitative ordinal**."
   ],
   "metadata": {
    "collapsed": false
   },
   "id": "c0bf25ecf4a8ed09"
  },
  {
   "cell_type": "code",
   "execution_count": 45,
   "outputs": [
    {
     "data": {
      "text/plain": "Tree Set To Be Removed\nNo     23331\nYes       84\nName: count, dtype: int64"
     },
     "execution_count": 45,
     "metadata": {},
     "output_type": "execute_result"
    }
   ],
   "source": [
    "trees_to_be_removed_counts = trees_environment[\"Tree Set To Be Removed\"].value_counts()\n",
    "trees_to_be_removed_counts"
   ],
   "metadata": {
    "collapsed": false,
    "ExecuteTime": {
     "end_time": "2023-12-14T16:54:37.051754600Z",
     "start_time": "2023-12-14T16:54:36.655661200Z"
    }
   },
   "id": "2805f40ed4cbe2a3"
  },
  {
   "cell_type": "markdown",
   "source": [
    "Tree Set To Be Removed is **qualitative binary**."
   ],
   "metadata": {
    "collapsed": false
   },
   "id": "632adc5ec0a8356f"
  },
  {
   "cell_type": "code",
   "execution_count": 46,
   "outputs": [
    {
     "data": {
      "text/plain": "Removal Reason\nDead, dying                    30\nBasal decay                    17\nTrunk decay                    10\nTree defect                     5\nCrown die-back                  5\nDog damage                      3\nUnsuitable location             3\nNewly planted tree failure      2\nCoppiced stump                  1\nTouching building/structure     1\nCrown decay                     1\nSplit trunk                     1\nBroken/split branch             1\nClimber                         1\nNo defects - work required      1\nSuppressed                      1\nATRD                            1\nName: count, dtype: int64"
     },
     "execution_count": 46,
     "metadata": {},
     "output_type": "execute_result"
    }
   ],
   "source": [
    "removal_reason_counts = trees_environment[\"Removal Reason\"].value_counts()\n",
    "removal_reason_counts"
   ],
   "metadata": {
    "collapsed": false,
    "ExecuteTime": {
     "end_time": "2023-12-14T16:54:37.098566500Z",
     "start_time": "2023-12-14T16:54:36.671183300Z"
    }
   },
   "id": "a7e69df2c8c386af"
  },
  {
   "cell_type": "markdown",
   "source": [
    "Removal Reason is **qualitative ordinal**."
   ],
   "metadata": {
    "collapsed": false
   },
   "id": "d11b99427bc507ee"
  },
  {
   "cell_type": "markdown",
   "id": "fa84e8d1-57aa-483b-bb38-e54a07e6aff8",
   "metadata": {},
   "source": [
    "<hr/>"
   ]
  },
  {
   "cell_type": "markdown",
   "id": "5c9ae370-ab1f-43f3-ba17-5dd062a2cbf1",
   "metadata": {},
   "source": [
    "#### 3.2.b Descriptive Stats for Numeric Type Columns\n",
    "For each numeric column in the environmental dataset show the descriptive stats"
   ]
  },
  {
   "cell_type": "markdown",
   "id": "eafafa68-7cf4-4f9d-bbe1-7513151aa727",
   "metadata": {},
   "source": [
    "<div style=\"background-color:lemonchiffon; border:1px solid; padding:5px; margin:5px; font-weight:bold\"><font color=\"crimson\">\n",
    "TODO: Complete the following code cells\n",
    "    </font></div>"
   ]
  },
  {
   "cell_type": "code",
   "execution_count": 47,
   "id": "4380cd76-3b4c-4488-8b5d-b8429c747228",
   "metadata": {
    "ExecuteTime": {
     "end_time": "2023-12-14T16:54:37.111270900Z",
     "start_time": "2023-12-14T16:54:36.686449200Z"
    }
   },
   "outputs": [
    {
     "data": {
      "text/plain": "count     22982.000000\nmean      14056.393047\nstd       24803.806595\nmin           0.000000\n25%        1035.650000\n50%        5443.660000\n75%       16781.420000\nmax      504725.720000\nName: Capital Asset Value For Amenity Trees, dtype: float64"
     },
     "execution_count": 47,
     "metadata": {},
     "output_type": "execute_result"
    }
   ],
   "source": [
    "# Get the descriptive stats for all numeric columns\n",
    "trees_environment[\"Capital Asset Value For Amenity Trees\"].describe()"
   ]
  },
  {
   "cell_type": "code",
   "execution_count": 48,
   "outputs": [
    {
     "data": {
      "text/plain": "count    20555.000000\nmean       467.465454\nstd        844.926555\nmin          0.500000\n25%         24.800000\n50%        163.900000\n75%        497.300000\nmax       6000.000000\nName: Carbon Storage In Kilograms, dtype: float64"
     },
     "execution_count": 48,
     "metadata": {},
     "output_type": "execute_result"
    }
   ],
   "source": [
    "trees_environment[\"Carbon Storage In Kilograms\"].describe()"
   ],
   "metadata": {
    "collapsed": false,
    "ExecuteTime": {
     "end_time": "2023-12-14T16:54:37.112270600Z",
     "start_time": "2023-12-14T16:54:36.700401500Z"
    }
   },
   "id": "75a69c4d8e041150"
  },
  {
   "cell_type": "code",
   "execution_count": 49,
   "outputs": [
    {
     "data": {
      "text/plain": "count    20555.000000\nmean         8.675057\nstd          8.681446\nmin          0.000000\n25%          2.200000\n50%          6.100000\n75%         11.700000\nmax         53.800000\nName: Gross Carbon Sequestration Per Year In Kilograms, dtype: float64"
     },
     "execution_count": 49,
     "metadata": {},
     "output_type": "execute_result"
    }
   ],
   "source": [
    "trees_environment[\"Gross Carbon Sequestration Per Year In Kilograms\"].describe()"
   ],
   "metadata": {
    "collapsed": false,
    "ExecuteTime": {
     "end_time": "2023-12-14T16:54:37.209216100Z",
     "start_time": "2023-12-14T16:54:36.716346900Z"
    }
   },
   "id": "bd3dc7f277e2ee5"
  },
  {
   "cell_type": "code",
   "execution_count": 50,
   "outputs": [
    {
     "data": {
      "text/plain": "count    20555.000000\nmean       217.740316\nstd        306.751920\nmin          0.300000\n25%         29.300000\n50%        108.100000\n75%        297.600000\nmax       8223.700000\nName: Pollution Removal Per Year In Grams, dtype: float64"
     },
     "execution_count": 50,
     "metadata": {},
     "output_type": "execute_result"
    }
   ],
   "source": [
    "trees_environment[\"Pollution Removal Per Year In Grams\"].describe()"
   ],
   "metadata": {
    "collapsed": false,
    "ExecuteTime": {
     "end_time": "2023-12-14T16:54:37.237101700Z",
     "start_time": "2023-12-14T16:54:36.732357800Z"
    }
   },
   "id": "4e15bcf82574ddda"
  },
  {
   "cell_type": "markdown",
   "source": [
    "# Remind ourselves of the data types"
   ],
   "metadata": {
    "collapsed": false
   },
   "id": "836d503421f47ea3"
  },
  {
   "cell_type": "markdown",
   "source": [
    "Capital Asset Value For Amenity Trees is a **float**\n",
    "Carbon Storage In Kilograms **float**\n",
    "Gross Carbon Sequestration Per Year In Kilograms **float**\n",
    "Pollution Removal Per Year In Grams **float**"
   ],
   "metadata": {
    "collapsed": false
   },
   "id": "deafaa9f24b55688"
  },
  {
   "cell_type": "markdown",
   "id": "eb227586-d79a-46b9-a665-854b330a4c72",
   "metadata": {},
   "source": [
    "<hr/>\n",
    "\n",
    "Find out if floats are really floats or ints with nulls.\n",
    "\n",
    "<div style=\"background-color:lemonchiffon; border:1px solid; padding:5px; margin:5px; font-weight:bold\"><font color=\"crimson\">\n",
    "TODO: Enter your code below.  Use one code cell per column.   Add as many cells as you need.\n",
    "    </font></div>"
   ]
  },
  {
   "cell_type": "code",
   "execution_count": 51,
   "id": "20d9ddc5-3be9-4836-bc1a-5974d9b6b6b8",
   "metadata": {
    "ExecuteTime": {
     "end_time": "2023-12-14T16:54:37.237101700Z",
     "start_time": "2023-12-14T16:54:36.749231300Z"
    }
   },
   "outputs": [
    {
     "data": {
      "text/plain": "array([1.1507000e+02, 7.5180800e+03, 2.0419630e+04, ..., 3.3664130e+04,\n       3.6269450e+04, 1.4801215e+05])"
     },
     "execution_count": 51,
     "metadata": {},
     "output_type": "execute_result"
    }
   ],
   "source": [
    "pd.Series.unique(trees_environment[\"Capital Asset Value For Amenity Trees\"])"
   ]
  },
  {
   "cell_type": "code",
   "execution_count": 52,
   "id": "0ac2cda7-cc1c-4a51-935e-033958ee9072",
   "metadata": {
    "ExecuteTime": {
     "end_time": "2023-12-14T16:54:37.244042400Z",
     "start_time": "2023-12-14T16:54:36.762031900Z"
    }
   },
   "outputs": [
    {
     "data": {
      "text/plain": "array([1.6000e+00,        nan, 4.2640e+02, ..., 4.7233e+03, 3.7305e+03,\n       4.8100e+02])"
     },
     "execution_count": 52,
     "metadata": {},
     "output_type": "execute_result"
    }
   ],
   "source": [
    "pd.Series.unique(trees_environment[\"Carbon Storage In Kilograms\"])"
   ]
  },
  {
   "cell_type": "code",
   "execution_count": 53,
   "id": "5503930d-debf-40d0-b845-e00adc7ac40b",
   "metadata": {
    "ExecuteTime": {
     "end_time": "2023-12-14T16:54:37.246033100Z",
     "start_time": "2023-12-14T16:54:36.778622800Z"
    }
   },
   "outputs": [
    {
     "data": {
      "text/plain": "array([ 0.5,  nan,  8.8,  9.6,  1.4, 10.1,  0.8,  7.9, 24.2,  2.4,  0.9,\n        3. , 14.6,  8.1,  4.1,  1.8, 18.8, 24.4, 13.4,  4.3,  6.5,  1.3,\n        0.6,  2.5, 13.1,  2.1,  3.9, 15.9,  1. ,  6.6,  0.4,  3.4,  2.9,\n       28.7,  0.7,  1.5, 12.5, 25.4, 11.2,  9. , 23.9,  4.4, 11.5, 11. ,\n        8.4, 10.9, 10.7,  6.9,  7. ,  3.8,  3.2,  6.1,  8.6, 30.2,  3.7,\n       15. , 30.4,  7.6, 20.1, 10.2,  8.3, 39.9,  0.3,  4.9, 14.3, 13.5,\n       16.7,  8.9,  1.6,  4.2,  3.6,  4. ,  6.7,  0.1, 19.7, 24.6,  6.4,\n        5.4,  5.9, 12.2,  7.3, 13. ,  7.1, 36.9,  9.3, 18.2, 10. ,  4.7,\n        5. , 29.8, 17.8, 18.5, 17.6,  7.2,  4.8,  5.6,  5.3, 10.5, 12.9,\n        9.4,  7.8,  1.1, 19.2, 37.3,  2.7, 12.8, 17. , 15.5, 27.6, 34.2,\n        5.7,  5.8, 17.3, 20.4,  9.9, 15.6,  7.4, 11.8,  9.2,  2.6, 21.7,\n       11.3, 10.8, 29.4, 23.1, 26.5,  1.2, 10.6, 33.6, 23.6, 11.7, 17.4,\n       15.1, 16.6,  2.3, 13.3, 16.3, 18.3, 10.4, 19. ,  1.7,  3.3, 14.1,\n        5.5, 12.6, 14.5,  3.5,  8.7, 36.6, 17.7,  5.1, 21.1, 20.2,  7.7,\n       15.2,  7.5, 30.5, 13.8,  4.6, 39.2, 37.8, 13.2, 51. , 11.6,  6.8,\n       21. ,  5.2,  8. ,  4.5, 15.3, 13.7, 18. ,  6.3,  2. ,  2.8,  9.1,\n        6. , 12.4, 11.4, 18.6,  1.9, 23.5, 18.9, 26.2, 12.1, 41.7,  2.2,\n       14.7, 14.4,  9.7, 23. , 22.1, 15.7, 12. , 14.8, 19.9, 29.7, 11.1,\n       19.6, 12.7, 31.9, 33.2, 19.1,  6.2, 28.4, 27. , 17.5, 16.4, 27.7,\n       38.4, 43.9, 35.4,  8.2, 37.1, 29.5, 22.2, 17.1, 26.3, 21.2, 20.5,\n       11.9, 31.3, 14.2,  8.5, 26.8,  0.2, 16.8, 35.6, 20.8, 22.3, 19.4,\n       20. , 14. , 36.1, 20.9, 15.8, 14.9,  9.5, 28.3, 16.9,  3.1, 37.6,\n       34.7, 17.9, 35.3,  9.8, 16.5, 21.4, 19.3, 28.5, 29. , 33.5, 40.7,\n       28.6, 13.6, 27.1, 26.7, 13.9, 21.3, 23.8, 35.1, 40.5, 32.9, 18.1,\n       37. , 20.6, 35.2, 12.3, 41.8, 22.7, 21.5, 35.7, 32.4, 16.1, 31.1,\n       25.3, 26. , 23.4, 30.1, 42.1, 36.5, 10.3, 44.3, 16. , 23.2, 28.8,\n       21.9, 32. , 30.3, 15.4, 24.3, 26.9, 25.8, 28.2, 22.8, 42.3, 33.9,\n       25.6, 38.6, 18.4, 31.2, 32.7, 28. , 30.6, 42. , 27.3, 33.8, 21.6,\n       33.3, 35.9, 24. , 40.6, 42.7, 31.5, 22.5, 20.7, 33.1, 35.5, 27.5,\n       24.8, 26.4, 22.6, 18.7, 32.6, 36.4, 16.2, 38.5, 22.4, 22.9, 29.2,\n       25.9, 19.5, 24.5, 20.3, 27.9, 29.6, 25. , 27.4, 30.7, 25.1, 34.6,\n       38. , 34.4, 36.7, 34.1, 32.5, 27.8, 32.8, 43.1, 17.2, 37.5, 39.3,\n       29.1, 30.8, 34.8, 29.9, 38.3, 23.3, 21.8, 41.3, 38.7, 36.3, 30. ,\n       41.5, 37.2, 24.9, 19.8, 28.9, 42.2, 39.5, 31.8, 37.4, 24.1,  0. ,\n       37.7, 32.3, 36.8, 27.2, 24.7, 36.2, 39.7, 42.9, 49.5, 31.6, 38.9,\n       40.9, 44.2, 32.1, 42.5, 25.7, 35.8, 38.2, 40.8, 35. , 34. , 31.7,\n       40.1, 26.1, 25.2, 39. , 41.1, 33.4, 32.2, 43.3, 33.7, 26.6, 39.1,\n       41.4, 43.2, 31. , 41.9, 41. , 42.4, 43. , 40.3, 40.2, 29.3, 31.4,\n       22. , 42.8, 43.7, 23.7, 34.5, 41.6, 39.6, 39.8, 37.9, 43.8, 42.6,\n       41.2, 43.6, 36. , 39.4, 43.5, 25.5, 38.1, 34.9, 28.1, 43.4, 53.8,\n       30.9, 40.4, 34.3, 45.5, 52.7, 40. , 38.8, 44.9, 33. ])"
     },
     "execution_count": 53,
     "metadata": {},
     "output_type": "execute_result"
    }
   ],
   "source": [
    "pd.Series.unique(trees_environment['Gross Carbon Sequestration Per Year In Kilograms'])"
   ]
  },
  {
   "cell_type": "code",
   "execution_count": 54,
   "id": "2a1ad19d-b9d9-4752-a876-c39121829f22",
   "metadata": {
    "ExecuteTime": {
     "end_time": "2023-12-14T16:54:37.247071400Z",
     "start_time": "2023-12-14T16:54:36.803556500Z"
    }
   },
   "outputs": [
    {
     "data": {
      "text/plain": "array([  5.7,   nan, 215.2, ...,   8. , 399.9,  60.1])"
     },
     "execution_count": 54,
     "metadata": {},
     "output_type": "execute_result"
    }
   ],
   "source": [
    "pd.Series.unique(trees_environment[\"Pollution Removal Per Year In Grams\"])"
   ]
  },
  {
   "cell_type": "markdown",
   "id": "6d550cf1-defa-4c65-9fcf-7d334a0c8899",
   "metadata": {},
   "source": [
    "<hr/>"
   ]
  },
  {
   "cell_type": "markdown",
   "id": "8bda5350-317b-43c1-91b1-71aeedf06ed3",
   "metadata": {},
   "source": [
    "\n",
    "Classify the columns as discrete or continuous.\n",
    "\n",
    "<div style=\"background-color:lemonchiffon; border:1px solid; padding:5px; margin:5px; font-weight:bold\"><font color=\"crimson\">\n",
    "TODO: Enter markdown below.\n",
    "    </font></div>\n"
   ]
  },
  {
   "cell_type": "markdown",
   "source": [
    "Capital Asset Value For Amenity Trees is **continuous**"
   ],
   "metadata": {
    "collapsed": false
   },
   "id": "adf4b2489d31c3dd"
  },
  {
   "cell_type": "markdown",
   "source": [
    "Carbon Storage In Kilograms is **continuous**"
   ],
   "metadata": {
    "collapsed": false
   },
   "id": "34ffaceab96b6c79"
  },
  {
   "cell_type": "markdown",
   "source": [
    "Gross Carbon Sequestration Per Year In Kilograms is **continuous**"
   ],
   "metadata": {
    "collapsed": false
   },
   "id": "c9b310360cce4064"
  },
  {
   "cell_type": "markdown",
   "source": [
    "Pollution Removal Per Year In Grams is **continuous**"
   ],
   "metadata": {
    "collapsed": false
   },
   "id": "c390ecfcff3b8c88"
  },
  {
   "cell_type": "markdown",
   "id": "1467aacd-ee75-46c9-b1d9-753c78869723",
   "metadata": {},
   "source": [
    "<hr/>"
   ]
  },
  {
   "cell_type": "markdown",
   "id": "5edacbd1-2ef6-4719-acc7-2d8f630d4195",
   "metadata": {},
   "source": [
    "### 3.3 Further Inspect the Common Names Dataset\n",
    "Now repeat the above for the common names' dataset.\n",
    "\n",
    "#### 3.3.a (Names) Counts of Values for String Type Columns \n",
    "For each string column in the common names dataset show the counts of the unique values.\n",
    "\n",
    "<div style=\"background-color:lemonchiffon; border:1px solid; padding:5px; margin:5px; font-weight:bold\"><font color=\"crimson\">\n",
    "<font color=\"crimson\">TODO: Enter your code below.  Use one code cell per column and then add a markdown cell after each one to classify the column.  Add as many cells as you need.</font>\n",
    "    </font></div>\n"
   ]
  },
  {
   "cell_type": "code",
   "execution_count": 55,
   "id": "0c83c5e3-e84a-4e29-a05c-2c10b7d5dfb0",
   "metadata": {
    "ExecuteTime": {
     "end_time": "2023-12-14T16:54:37.247071400Z",
     "start_time": "2023-12-14T16:54:36.824953600Z"
    }
   },
   "outputs": [
    {
     "data": {
      "text/plain": "Scientific Name\nCupressocyparis leylandii                             2\nLarix decidua                                         2\nSalix fragilis                                        2\nAlnus cordata                                         2\nPopulus nigra                                         2\n                                                     ..\nPyrus salicifolia 'Pendula'                           1\nChamaecyparis lawsoniana 'unid                        1\nPlatanus x hispanica Tremonia                         1\nVacant Tree Pit (planned: Gymnocladus dioicus)        1\nVacant Tree Pit (planned: Liquidambar styraciflua)    1\nName: count, Length: 560, dtype: int64"
     },
     "execution_count": 55,
     "metadata": {},
     "output_type": "execute_result"
    }
   ],
   "source": [
    "trees_names[\"Scientific Name\"].value_counts()"
   ]
  },
  {
   "cell_type": "markdown",
   "source": [
    "Scientific Name is **qualitative nominal**"
   ],
   "metadata": {
    "collapsed": false
   },
   "id": "f47c17e75eb64172"
  },
  {
   "cell_type": "code",
   "execution_count": 56,
   "id": "6e144307-026e-45ee-b0d2-025b7b5f3d9c",
   "metadata": {
    "ExecuteTime": {
     "end_time": "2023-12-14T16:54:37.251618500Z",
     "start_time": "2023-12-14T16:54:36.844633500Z"
    }
   },
   "outputs": [
    {
     "data": {
      "text/plain": "Common Name\nCherry                         12\nRowan                          10\nMagnolia                       10\nVacant Tree Pit (planned: )    10\nApple - Crab                    9\n                               ..\nPittosporum                     1\nBirch - Purple                  1\nMaple - Column Norway           1\nMaple - Crimson King Norway     1\nCastlewellan gold               1\nName: count, Length: 431, dtype: int64"
     },
     "execution_count": 56,
     "metadata": {},
     "output_type": "execute_result"
    }
   ],
   "source": [
    "trees_names[\"Common Name\"].value_counts()"
   ]
  },
  {
   "cell_type": "markdown",
   "source": [
    "Common Name is **qualitative nominal**"
   ],
   "metadata": {
    "collapsed": false
   },
   "id": "d1abed6ba37948cd"
  },
  {
   "cell_type": "markdown",
   "id": "2778e230-5042-42eb-b51a-022a1c9710cc",
   "metadata": {},
   "source": [
    "<hr/>\n"
   ]
  },
  {
   "cell_type": "markdown",
   "id": "8b9a614c-0c3f-41f1-9b30-7259bcb3a2d3",
   "metadata": {},
   "source": [
    "#### 3.3.b (Names) Descriptive Stats for Numeric Type Columns\n",
    "There are no numeric columns."
   ]
  },
  {
   "cell_type": "markdown",
   "id": "8641574f-7ee8-4cac-98d9-4c33a54891af",
   "metadata": {
    "tags": []
   },
   "source": [
    "## Task 4: Identify Missing Values\n",
    "Find the number of missing values in each column.  Missing values can indicate data quality issues.  Missing are nulls in our data.  But sometimes zero values indicate missing values.  For example, a zero value for a tree height is clearly not valid, so should be considered missing.\n",
    "\n",
    "Use these functions to find rows that have missing and zero values:\n",
    "\n",
    "- [pandas.DataFrame.isnull](https://pandas.pydata.org/docs/reference/api/pandas.DataFrame.isnull.html)\n",
    "- [pandas.DataFrame.isin](https://pandas.pydata.org/docs/reference/api/pandas.DataFrame.isin.html)\n",
    "- [pandas.DataFrame.mean](https://pandas.pydata.org/pandas-docs/stable/reference/api/pandas.DataFrame.mean.html)\n",
    "- [pandas.DataFrame.sum](https://pandas.pydata.org/docs/reference/api/pandas.DataFrame.sum.html)\n",
    "\n",
    "As you go through this task, think about the possible impact of the missing values on the ability of the data to deliver on the council's initiatives.  There is no absolute answer to \"how many missing values is too many\".  It depends on the context of what you intend to do with the data.  Try to make an interpretation based on your understanding of the requirements."
   ]
  },
  {
   "cell_type": "markdown",
   "id": "5ee7f2e0-20bf-4249-9f5d-57ab6cc0fa30",
   "metadata": {},
   "source": [
    "### 4.1 Missing Values for the Trees Dataset\n",
    "I've shown you how to do this for the trees' dataset."
   ]
  },
  {
   "cell_type": "code",
   "execution_count": 57,
   "id": "0bd1e712-9211-44f8-a22c-fb1df46c1961",
   "metadata": {
    "ExecuteTime": {
     "end_time": "2023-12-14T16:54:37.253070700Z",
     "start_time": "2023-12-14T16:54:36.855939400Z"
    }
   },
   "outputs": [
    {
     "data": {
      "text/plain": "Identifier                                  0.000000\nNumber Of Trees                             0.093841\nSite Name                                   0.000000\nContract Area                               0.000000\nScientific Name                             0.000000\nInspection Date                             1.710459\nInspection Due Date                         1.710459\nHeight In Metres                            1.868282\nSpread In Metres                            1.868282\nDiameter In Centimetres At Breast Height    1.872547\nWard Code                                   0.963999\nWard Name                                   0.963999\nEasting                                     0.000000\nNorthing                                    0.000000\nLongitude                                   0.238867\nLatitude                                    0.238867\nLocation                                    0.238867\ndtype: float64"
     },
     "execution_count": 57,
     "metadata": {},
     "output_type": "execute_result"
    }
   ],
   "source": [
    "# Percentage of null values\n",
    "nullPercentInTrees = trees.isnull().mean()*100\n",
    "nullPercentInTrees"
   ]
  },
  {
   "cell_type": "code",
   "execution_count": 58,
   "id": "afbf5093-5716-440a-8f89-eeb6a5d66662",
   "metadata": {
    "ExecuteTime": {
     "end_time": "2023-12-14T16:54:37.253070700Z",
     "start_time": "2023-12-14T16:54:36.871742900Z"
    }
   },
   "outputs": [
    {
     "data": {
      "text/plain": "Identifier                                    0\nNumber Of Trees                              22\nSite Name                                     0\nContract Area                                 0\nScientific Name                               0\nInspection Date                             401\nInspection Due Date                         401\nHeight In Metres                            438\nSpread In Metres                            438\nDiameter In Centimetres At Breast Height    439\nWard Code                                   226\nWard Name                                   226\nEasting                                       0\nNorthing                                      0\nLongitude                                    56\nLatitude                                     56\nLocation                                     56\ndtype: int64"
     },
     "execution_count": 58,
     "metadata": {},
     "output_type": "execute_result"
    }
   ],
   "source": [
    "# Number of null values\n",
    "nullValInTrees = trees.isnull().sum()\n",
    "nullValInTrees"
   ]
  },
  {
   "cell_type": "code",
   "execution_count": 59,
   "id": "cde99d54-297d-41d8-954d-94ba2e08a2c5",
   "metadata": {
    "ExecuteTime": {
     "end_time": "2023-12-14T16:54:37.580466800Z",
     "start_time": "2023-12-14T16:54:36.886742500Z"
    }
   },
   "outputs": [
    {
     "data": {
      "text/plain": "Identifier                                  0.000000\nNumber Of Trees                             0.396690\nSite Name                                   0.000000\nContract Area                               0.000000\nScientific Name                             0.000000\nInspection Date                             0.000000\nInspection Due Date                         0.000000\nHeight In Metres                            0.733663\nSpread In Metres                            1.181539\nDiameter In Centimetres At Breast Height    1.164477\nWard Code                                   0.000000\nWard Name                                   0.000000\nEasting                                     0.238867\nNorthing                                    0.238867\nLongitude                                   0.000000\nLatitude                                    0.000000\nLocation                                    0.000000\ndtype: float64"
     },
     "execution_count": 59,
     "metadata": {},
     "output_type": "execute_result"
    }
   ],
   "source": [
    "# Percentage of zero values\n",
    "zeroPercentInTrees = trees.isin([0]).mean()*100\n",
    "zeroPercentInTrees"
   ]
  },
  {
   "cell_type": "code",
   "execution_count": 60,
   "id": "d0947b5d-8978-46d8-8d57-252d29c25ca8",
   "metadata": {
    "ExecuteTime": {
     "end_time": "2023-12-14T16:54:37.664226700Z",
     "start_time": "2023-12-14T16:54:36.965119700Z"
    }
   },
   "outputs": [
    {
     "data": {
      "text/plain": "Identifier                                    0\nNumber Of Trees                              93\nSite Name                                     0\nContract Area                                 0\nScientific Name                               0\nInspection Date                               0\nInspection Due Date                           0\nHeight In Metres                            172\nSpread In Metres                            277\nDiameter In Centimetres At Breast Height    273\nWard Code                                     0\nWard Name                                     0\nEasting                                      56\nNorthing                                     56\nLongitude                                     0\nLatitude                                      0\nLocation                                      0\ndtype: int64"
     },
     "execution_count": 60,
     "metadata": {},
     "output_type": "execute_result"
    }
   ],
   "source": [
    "# Number of zero values\n",
    "zeroNumInTrees = trees.isin([0]).sum()\n",
    "zeroNumInTrees"
   ]
  },
  {
   "cell_type": "code",
   "execution_count": 61,
   "id": "de03ea2b-8ea2-48ff-b620-d9fd16290c7b",
   "metadata": {
    "ExecuteTime": {
     "end_time": "2023-12-14T16:54:37.815317300Z",
     "start_time": "2023-12-14T16:54:37.046166500Z"
    }
   },
   "outputs": [
    {
     "data": {
      "text/plain": "Identifier                                  0.000000\nNumber Of Trees                             0.490531\nSite Name                                   0.000000\nContract Area                               0.000000\nScientific Name                             0.000000\nInspection Date                             1.710459\nInspection Due Date                         1.710459\nHeight In Metres                            2.601945\nSpread In Metres                            3.049821\nDiameter In Centimetres At Breast Height    3.037024\nWard Code                                   0.963999\nWard Name                                   0.963999\nEasting                                     0.238867\nNorthing                                    0.238867\nLongitude                                   0.238867\nLatitude                                    0.238867\nLocation                                    0.238867\ndtype: float64"
     },
     "execution_count": 61,
     "metadata": {},
     "output_type": "execute_result"
    }
   ],
   "source": [
    "# Percentage of null and zero values\n",
    "percentZeroNullInTrees = (trees.isnull().sum() + trees.isin([0]).sum())/trees.shape[0] *100\n",
    "percentZeroNullInTrees"
   ]
  },
  {
   "cell_type": "code",
   "execution_count": 62,
   "id": "f43e38e0-00c6-4ebd-9899-8f91557becb7",
   "metadata": {
    "ExecuteTime": {
     "end_time": "2023-12-14T16:54:37.928049Z",
     "start_time": "2023-12-14T16:54:37.138312700Z"
    }
   },
   "outputs": [
    {
     "data": {
      "text/plain": "Identifier                                    0\nNumber Of Trees                             115\nSite Name                                     0\nContract Area                                 0\nScientific Name                               0\nInspection Date                             401\nInspection Due Date                         401\nHeight In Metres                            610\nSpread In Metres                            715\nDiameter In Centimetres At Breast Height    712\nWard Code                                   226\nWard Name                                   226\nEasting                                      56\nNorthing                                     56\nLongitude                                    56\nLatitude                                     56\nLocation                                     56\ndtype: int64"
     },
     "execution_count": 62,
     "metadata": {},
     "output_type": "execute_result"
    }
   ],
   "source": [
    "# Number of null and zero values\n",
    "numZeroNullInTrees = (trees.isnull().sum() + trees.isin([0]).sum())\n",
    "numZeroNullInTrees"
   ]
  },
  {
   "cell_type": "markdown",
   "id": "a7416001-4d63-4bd5-9bea-2412d322ed88",
   "metadata": {},
   "source": [
    "### 4.2 Missing Values for the Environmental Dataset\n",
    "Now repeat the missing values check for the environmental dataset.\n",
    "\n",
    "<div style=\"background-color:lemonchiffon; border:1px solid; padding:5px; margin:5px; font-weight:bold\"><font color=\"crimson\">\n",
    "TODO: Complete the following code cells\n",
    "    </font></div>"
   ]
  },
  {
   "cell_type": "code",
   "execution_count": 63,
   "id": "45971fda-0b80-4652-bc63-ed8baeaad087",
   "metadata": {
    "ExecuteTime": {
     "end_time": "2023-12-14T16:54:37.934141400Z",
     "start_time": "2023-12-14T16:54:37.295313400Z"
    }
   },
   "outputs": [
    {
     "data": {
      "text/plain": "Identifier                                           0.000000\nMaturity                                             1.746744\nPhysiological Condition                              2.015802\nTree Set To Be Removed                               0.000000\nRemoval Reason                                      99.641256\nCapital Asset Value For Amenity Trees                1.849242\nCarbon Storage In Kilograms                         12.214392\nGross Carbon Sequestration Per Year In Kilograms    12.214392\nPollution Removal Per Year In Grams                 12.214392\ndtype: float64"
     },
     "execution_count": 63,
     "metadata": {},
     "output_type": "execute_result"
    }
   ],
   "source": [
    "# Percentage of null values\n",
    "trees_environment.isnull().mean()*100"
   ]
  },
  {
   "cell_type": "code",
   "execution_count": 64,
   "id": "35471141-aca6-453d-afc8-babde8975f14",
   "metadata": {
    "ExecuteTime": {
     "end_time": "2023-12-14T16:54:37.934141400Z",
     "start_time": "2023-12-14T16:54:37.309005300Z"
    }
   },
   "outputs": [
    {
     "data": {
      "text/plain": "Identifier                                              0\nMaturity                                              409\nPhysiological Condition                               472\nTree Set To Be Removed                                  0\nRemoval Reason                                      23331\nCapital Asset Value For Amenity Trees                 433\nCarbon Storage In Kilograms                          2860\nGross Carbon Sequestration Per Year In Kilograms     2860\nPollution Removal Per Year In Grams                  2860\ndtype: int64"
     },
     "execution_count": 64,
     "metadata": {},
     "output_type": "execute_result"
    }
   ],
   "source": [
    "# Number of null values\n",
    "trees_environment.isnull().sum()"
   ]
  },
  {
   "cell_type": "code",
   "execution_count": 65,
   "id": "333f86d0-8443-48b5-ba17-6bb91cfd1190",
   "metadata": {
    "ExecuteTime": {
     "end_time": "2023-12-14T16:54:37.935147600Z",
     "start_time": "2023-12-14T16:54:37.327853800Z"
    }
   },
   "outputs": [
    {
     "data": {
      "text/plain": "Identifier                                          0.000000\nMaturity                                            0.000000\nPhysiological Condition                             0.000000\nTree Set To Be Removed                              0.000000\nRemoval Reason                                      0.000000\nCapital Asset Value For Amenity Trees               1.183002\nCarbon Storage In Kilograms                         0.000000\nGross Carbon Sequestration Per Year In Kilograms    0.025625\nPollution Removal Per Year In Grams                 0.000000\ndtype: float64"
     },
     "execution_count": 65,
     "metadata": {},
     "output_type": "execute_result"
    }
   ],
   "source": [
    "# Percentage of zero values\n",
    "trees_environment.isin([0]).mean()*100"
   ]
  },
  {
   "cell_type": "code",
   "execution_count": 66,
   "id": "809d3c20-113f-4665-b18d-cbdaa07b613c",
   "metadata": {
    "ExecuteTime": {
     "end_time": "2023-12-14T16:54:37.937443300Z",
     "start_time": "2023-12-14T16:54:37.357862600Z"
    }
   },
   "outputs": [
    {
     "data": {
      "text/plain": "Identifier                                            0\nMaturity                                              0\nPhysiological Condition                               0\nTree Set To Be Removed                                0\nRemoval Reason                                        0\nCapital Asset Value For Amenity Trees               277\nCarbon Storage In Kilograms                           0\nGross Carbon Sequestration Per Year In Kilograms      6\nPollution Removal Per Year In Grams                   0\ndtype: int64"
     },
     "execution_count": 66,
     "metadata": {},
     "output_type": "execute_result"
    }
   ],
   "source": [
    "# Number of zero values\n",
    "trees_environment.isin([0]).sum()"
   ]
  },
  {
   "cell_type": "code",
   "execution_count": 67,
   "id": "bbada47a-e7aa-43be-bfca-624feda60cb7",
   "metadata": {
    "ExecuteTime": {
     "end_time": "2023-12-14T16:54:37.937948700Z",
     "start_time": "2023-12-14T16:54:37.388387300Z"
    }
   },
   "outputs": [
    {
     "data": {
      "text/plain": "Identifier                                           0.000000\nMaturity                                             1.746744\nPhysiological Condition                              2.015802\nTree Set To Be Removed                               0.000000\nRemoval Reason                                      99.641256\nCapital Asset Value For Amenity Trees                3.032244\nCarbon Storage In Kilograms                         12.214392\nGross Carbon Sequestration Per Year In Kilograms    12.240017\nPollution Removal Per Year In Grams                 12.214392\ndtype: float64"
     },
     "execution_count": 67,
     "metadata": {},
     "output_type": "execute_result"
    }
   ],
   "source": [
    "# Percentage of null and zero values\n",
    "(trees_environment.isnull().sum() + trees_environment.isin([0]).sum())/trees_environment.shape[0] * 100"
   ]
  },
  {
   "cell_type": "code",
   "execution_count": 68,
   "id": "27dcd851-d4a3-4014-9167-9330c033738d",
   "metadata": {
    "ExecuteTime": {
     "end_time": "2023-12-14T16:54:37.939155400Z",
     "start_time": "2023-12-14T16:54:37.420177700Z"
    }
   },
   "outputs": [
    {
     "data": {
      "text/plain": "Identifier                                              0\nMaturity                                              409\nPhysiological Condition                               472\nTree Set To Be Removed                                  0\nRemoval Reason                                      23331\nCapital Asset Value For Amenity Trees                 710\nCarbon Storage In Kilograms                          2860\nGross Carbon Sequestration Per Year In Kilograms     2866\nPollution Removal Per Year In Grams                  2860\ndtype: int64"
     },
     "execution_count": 68,
     "metadata": {},
     "output_type": "execute_result"
    }
   ],
   "source": [
    "# Number of null and zero values\n",
    "(trees_environment.isnull().sum() + trees_environment.isin([0]).sum())"
   ]
  },
  {
   "cell_type": "markdown",
   "id": "cc5e09d4-fc27-454c-8462-f918e46a241e",
   "metadata": {},
   "source": [
    "<hr/>"
   ]
  },
  {
   "cell_type": "markdown",
   "id": "86bc5c0f-498e-47f1-b993-5ae66b325fc1",
   "metadata": {},
   "source": [
    "### 4.3 Missing Values for the Common Names Dataset\n",
    "Now repeat the missing values check for the common names' dataset.\n",
    "\n",
    "<div style=\"background-color:lemonchiffon; border:1px solid; padding:5px; margin:5px; font-weight:bold\"><font color=\"crimson\">\n",
    "TODO: Enter your code below.  Add as many cells as you need.\n",
    "    </font></div>"
   ]
  },
  {
   "cell_type": "code",
   "execution_count": 69,
   "id": "84581b31-98a4-4b20-a7b3-af1685cf0131",
   "metadata": {
    "ExecuteTime": {
     "end_time": "2023-12-14T16:54:37.939155400Z",
     "start_time": "2023-12-14T16:54:37.451155400Z"
    }
   },
   "outputs": [
    {
     "data": {
      "text/plain": "Scientific Name    0.000000\nCommon Name        4.074703\ndtype: float64"
     },
     "execution_count": 69,
     "metadata": {},
     "output_type": "execute_result"
    }
   ],
   "source": [
    "trees_names.isnull().mean()*100"
   ]
  },
  {
   "cell_type": "code",
   "execution_count": 70,
   "id": "b881b1d4-661d-46f6-943a-a5037f98facb",
   "metadata": {
    "ExecuteTime": {
     "end_time": "2023-12-14T16:54:37.939155400Z",
     "start_time": "2023-12-14T16:54:37.467756100Z"
    }
   },
   "outputs": [
    {
     "data": {
      "text/plain": "Scientific Name     0\nCommon Name        24\ndtype: int64"
     },
     "execution_count": 70,
     "metadata": {},
     "output_type": "execute_result"
    }
   ],
   "source": [
    "trees_names.isnull().sum()"
   ]
  },
  {
   "cell_type": "code",
   "execution_count": 71,
   "outputs": [
    {
     "data": {
      "text/plain": "Scientific Name    0.0\nCommon Name        0.0\ndtype: float64"
     },
     "execution_count": 71,
     "metadata": {},
     "output_type": "execute_result"
    }
   ],
   "source": [
    "trees_names.isin([0]).mean() * 100 "
   ],
   "metadata": {
    "collapsed": false,
    "ExecuteTime": {
     "end_time": "2023-12-14T16:54:37.940412800Z",
     "start_time": "2023-12-14T16:54:37.481202500Z"
    }
   },
   "id": "32723dee2c537f74"
  },
  {
   "cell_type": "code",
   "execution_count": 72,
   "outputs": [
    {
     "data": {
      "text/plain": "Scientific Name    0\nCommon Name        0\ndtype: int64"
     },
     "execution_count": 72,
     "metadata": {},
     "output_type": "execute_result"
    }
   ],
   "source": [
    "trees_names.isin([0]).sum()"
   ],
   "metadata": {
    "collapsed": false,
    "ExecuteTime": {
     "end_time": "2023-12-14T16:54:37.940412800Z",
     "start_time": "2023-12-14T16:54:37.497574300Z"
    }
   },
   "id": "4de126fee748d32c"
  },
  {
   "cell_type": "code",
   "execution_count": 73,
   "outputs": [
    {
     "data": {
      "text/plain": "Scientific Name    0.000000\nCommon Name        4.074703\ndtype: float64"
     },
     "execution_count": 73,
     "metadata": {},
     "output_type": "execute_result"
    }
   ],
   "source": [
    "(trees_names.isnull().sum() + trees_names.isin([0]).sum()) / trees_names.shape[0] * 100"
   ],
   "metadata": {
    "collapsed": false,
    "ExecuteTime": {
     "end_time": "2023-12-14T16:54:37.940921600Z",
     "start_time": "2023-12-14T16:54:37.515042400Z"
    }
   },
   "id": "e8d7b1efc091832d"
  },
  {
   "cell_type": "code",
   "execution_count": 74,
   "outputs": [
    {
     "data": {
      "text/plain": "Scientific Name     0\nCommon Name        24\ndtype: int64"
     },
     "execution_count": 74,
     "metadata": {},
     "output_type": "execute_result"
    }
   ],
   "source": [
    "(trees_names.isnull().sum() + trees_names.isin([0]).sum())"
   ],
   "metadata": {
    "collapsed": false,
    "ExecuteTime": {
     "end_time": "2023-12-14T16:54:37.940921600Z",
     "start_time": "2023-12-14T16:54:37.529088700Z"
    }
   },
   "id": "27403f0361129c9c"
  },
  {
   "cell_type": "markdown",
   "id": "fe30f689-88b0-4526-abae-1e19a320acf9",
   "metadata": {},
   "source": [
    "<hr/>\n",
    "\n",
    "### 4.4 Observations\n",
    "\n",
    "<div style=\"background-color:lemonchiffon; border:1px solid; padding:5px; margin:5px; font-weight:bold\"><font color=\"crimson\">\n",
    "TODO: Write down your observation about the state of missing values below and comment on the extent to which this might impact the ability to deliver on the council's initiatives.\n",
    "    </font></div>\n"
   ]
  },
  {
   "cell_type": "markdown",
   "id": "ec7ce6ee-8fd6-446a-a63a-08babd1e0390",
   "metadata": {},
   "source": [
    "\n",
    "poor quality(missing) Tree Name data  **concerns** Tree Walk Brochure\n",
    "    * Common Name > 4%\n",
    "poor quality(missing) environmental data **concerns** Environment Report  \n",
    "    * Carbon Storage In Kilograms > 12%\n",
    "    * Gross Carbon Sequestration Per Year In Kilograms > 12%\n",
    "    * Pollution Removal Per Year In Grams > 12%\n",
    "    * significant missing data for removal reason,  > 99% but this is only a concern if tree is set to be removed. *see search below showing no missing data\n",
    "poor quality(missing) tree data **concerns**  Tree Walks Brochures\n",
    "    * Spread In Metres > 3%\n",
    "    * Diameter In Centimetres At Breast Height >3%\n",
    "    \n",
    "    \n"
   ]
  },
  {
   "cell_type": "code",
   "execution_count": 75,
   "outputs": [
    {
     "data": {
      "text/plain": "Empty DataFrame\nColumns: [Identifier, Maturity, Physiological Condition, Tree Set To Be Removed, Removal Reason, Capital Asset Value For Amenity Trees, Carbon Storage In Kilograms, Gross Carbon Sequestration Per Year In Kilograms, Pollution Removal Per Year In Grams]\nIndex: []",
      "text/html": "<div>\n<style scoped>\n    .dataframe tbody tr th:only-of-type {\n        vertical-align: middle;\n    }\n\n    .dataframe tbody tr th {\n        vertical-align: top;\n    }\n\n    .dataframe thead th {\n        text-align: right;\n    }\n</style>\n<table border=\"1\" class=\"dataframe\">\n  <thead>\n    <tr style=\"text-align: right;\">\n      <th></th>\n      <th>Identifier</th>\n      <th>Maturity</th>\n      <th>Physiological Condition</th>\n      <th>Tree Set To Be Removed</th>\n      <th>Removal Reason</th>\n      <th>Capital Asset Value For Amenity Trees</th>\n      <th>Carbon Storage In Kilograms</th>\n      <th>Gross Carbon Sequestration Per Year In Kilograms</th>\n      <th>Pollution Removal Per Year In Grams</th>\n    </tr>\n  </thead>\n  <tbody>\n  </tbody>\n</table>\n</div>"
     },
     "execution_count": 75,
     "metadata": {},
     "output_type": "execute_result"
    }
   ],
   "source": [
    "result = trees_environment[(trees_environment[\"Tree Set To Be Removed\"] == 'yes') & pd.isna(trees_environment['Removal Reason'])]\n",
    "result"
   ],
   "metadata": {
    "collapsed": false,
    "ExecuteTime": {
     "end_time": "2023-12-14T16:54:37.941929200Z",
     "start_time": "2023-12-14T16:54:37.545367600Z"
    }
   },
   "id": "f9c3f7b121c711a0"
  },
  {
   "cell_type": "markdown",
   "id": "a4094437-06e3-4376-9c94-14e30a910c36",
   "metadata": {},
   "source": [
    "\n",
    "<hr/>"
   ]
  },
  {
   "cell_type": "markdown",
   "id": "33d42c68-e660-4892-b2de-0552a062c7ff",
   "metadata": {
    "tags": []
   },
   "source": [
    "## Task 5: Identify Outliers in the Trees Dimensions\n",
    "Outliers are values that are so unusual they are possibly incorrect!  We can use a boxplot to show the spread of data and any outliers.  Read the following section if you are unfamiliar with them:\n",
    "\n",
    "- [Box plots](https://openclassrooms.com/en/courses/6037301-perform-an-initial-data-analysis/6052306-calculate-the-value-spread-in-your-data#/id/r-6133902)\n",
    "\n",
    "Any circles represent what the boxplot considers outliers, but some of these might just be correct but extreme values.  We want to only highlight really *crazy* values which are clearly incorrect.\n",
    "\n",
    "We can use this function to draw boxplots:\n",
    "\n",
    "- [pandas.DataFrame.boxplot](https://pandas.pydata.org/pandas-docs/stable/reference/api/pandas.DataFrame.plot.html)\n",
    "\n",
    "Once we have found if there are outliers, it would be nice to show the rows containing the outliers.  The technique for filtering Pandas DataFrames is described here:\n",
    "\n",
    "- [Filtering Pandas DataFrames](https://pandas.pydata.org/pandas-docs/stable/getting_started/intro_tutorials/03_subset_data.html)\n",
    "\n",
    "The filtering technique creates a mask of rows that we want to select, e.g:\n",
    "\n",
    "`mask = df['mycolumn'] > 500`\n",
    "\n",
    "and then uses the mask to select rows:\n",
    "\n",
    "`df[mask]`\n",
    "\n",
    "Note that there is no absolute definition of what \"crazy\" means here.  You will need to make some judgements based on your understanding of the world (or specifically the world of trees in Camden!)."
   ]
  },
  {
   "cell_type": "markdown",
   "id": "52de8466-d0ed-4c29-af9a-bf7c79b80c09",
   "metadata": {},
   "source": [
    "### 5.1 Outliers for Height\n",
    "Find the outliers in the tree height column.\n",
    "<div style=\"background-color:lemonchiffon; border:1px solid; padding:5px; margin:5px; font-weight:bold\"><font color=\"crimson\">\n",
    "TODO: Complete the following code cells\n",
    "    </font></div>"
   ]
  },
  {
   "cell_type": "code",
   "execution_count": 76,
   "id": "ecaa87b9-9558-4fd6-8383-3a8046d26a5c",
   "metadata": {
    "ExecuteTime": {
     "end_time": "2023-12-14T16:54:38.170488Z",
     "start_time": "2023-12-14T16:54:37.561296900Z"
    }
   },
   "outputs": [
    {
     "data": {
      "text/plain": "Text(0, 0.5, 'Height In Metres')"
     },
     "execution_count": 76,
     "metadata": {},
     "output_type": "execute_result"
    },
    {
     "data": {
      "text/plain": "<Figure size 640x480 with 1 Axes>",
      "image/png": "[encoded data removed]"
     },
     "metadata": {},
     "output_type": "display_data"
    }
   ],
   "source": [
    "# Use a boxplot to find the outliers\n",
    "trees['Height In Metres'].plot(kind='box')\n",
    "plt.title('Boxplot of Height In Metres')\n",
    "plt.xlabel('Trees')\n",
    "plt.ylabel('Height In Metres')"
   ]
  },
  {
   "cell_type": "code",
   "execution_count": 77,
   "id": "7a614957-0a50-41f2-bebd-ca48e3660674",
   "metadata": {
    "ExecuteTime": {
     "end_time": "2023-12-14T16:54:38.172075100Z",
     "start_time": "2023-12-14T16:54:37.839741200Z"
    }
   },
   "outputs": [
    {
     "name": "stdout",
     "output_type": "stream",
     "text": [
      "\n",
      "Rows containing outliers:\n"
     ]
    },
    {
     "data": {
      "text/plain": "     Identifier  Number Of Trees               Site Name Contract Area  \\\n1356   00001547              1.0    Beaumont Walk Estate       Housing   \n1863   00013862              1.0  Maitland Park Estate 1       Housing   \n\n           Scientific Name Inspection Date Inspection Due Date  \\\n1356  Robinia pseudoacacia      2017-05-23           2020/2021   \n1863          Prunus avium      2017-05-16           2020/2021   \n\n      Height In Metres  Spread In Metres  \\\n1356              96.0              10.0   \n1863             127.0               9.0   \n\n      Diameter In Centimetres At Breast Height  Ward Code   Ward Name  \\\n1356                                      63.0  E05000136  Haverstock   \n1863                                      34.0  E05000136  Haverstock   \n\n      Easting  Northing  Longitude   Latitude                Location  \n1356   527847    184391  -0.157739  51.543941  (51.543941, -0.157739)  \n1863   527987    184901  -0.155534  51.548497  (51.548497, -0.155534)  ",
      "text/html": "<div>\n<style scoped>\n    .dataframe tbody tr th:only-of-type {\n        vertical-align: middle;\n    }\n\n    .dataframe tbody tr th {\n        vertical-align: top;\n    }\n\n    .dataframe thead th {\n        text-align: right;\n    }\n</style>\n<table border=\"1\" class=\"dataframe\">\n  <thead>\n    <tr style=\"text-align: right;\">\n      <th></th>\n      <th>Identifier</th>\n      <th>Number Of Trees</th>\n      <th>Site Name</th>\n      <th>Contract Area</th>\n      <th>Scientific Name</th>\n      <th>Inspection Date</th>\n      <th>Inspection Due Date</th>\n      <th>Height In Metres</th>\n      <th>Spread In Metres</th>\n      <th>Diameter In Centimetres At Breast Height</th>\n      <th>Ward Code</th>\n      <th>Ward Name</th>\n      <th>Easting</th>\n      <th>Northing</th>\n      <th>Longitude</th>\n      <th>Latitude</th>\n      <th>Location</th>\n    </tr>\n  </thead>\n  <tbody>\n    <tr>\n      <th>1356</th>\n      <td>00001547</td>\n      <td>1.0</td>\n      <td>Beaumont Walk Estate</td>\n      <td>Housing</td>\n      <td>Robinia pseudoacacia</td>\n      <td>2017-05-23</td>\n      <td>2020/2021</td>\n      <td>96.0</td>\n      <td>10.0</td>\n      <td>63.0</td>\n      <td>E05000136</td>\n      <td>Haverstock</td>\n      <td>527847</td>\n      <td>184391</td>\n      <td>-0.157739</td>\n      <td>51.543941</td>\n      <td>(51.543941, -0.157739)</td>\n    </tr>\n    <tr>\n      <th>1863</th>\n      <td>00013862</td>\n      <td>1.0</td>\n      <td>Maitland Park Estate 1</td>\n      <td>Housing</td>\n      <td>Prunus avium</td>\n      <td>2017-05-16</td>\n      <td>2020/2021</td>\n      <td>127.0</td>\n      <td>9.0</td>\n      <td>34.0</td>\n      <td>E05000136</td>\n      <td>Haverstock</td>\n      <td>527987</td>\n      <td>184901</td>\n      <td>-0.155534</td>\n      <td>51.548497</td>\n      <td>(51.548497, -0.155534)</td>\n    </tr>\n  </tbody>\n</table>\n</div>"
     },
     "execution_count": 77,
     "metadata": {},
     "output_type": "execute_result"
    }
   ],
   "source": [
    "# Select the crazy outlier rows\n",
    "print(\"\\nRows containing outliers:\")\n",
    "mask = trees['Height In Metres'] > 50\n",
    "trees[mask]"
   ]
  },
  {
   "cell_type": "markdown",
   "id": "c3e7ff2b-b69c-4095-a20d-bd6d2df1e68a",
   "metadata": {},
   "source": [
    "<hr/>"
   ]
  },
  {
   "cell_type": "markdown",
   "id": "f4d3025c-4a29-42e3-8821-8df2d8daa5e0",
   "metadata": {},
   "source": [
    "### 5.2 Outliers for Spread\n",
    "Now repeat the analysis for spread.\n",
    "<div style=\"background-color:lemonchiffon; border:1px solid; padding:5px; margin:5px; font-weight:bold\"><font color=\"crimson\">\n",
    "TODO: Complete the following code cells\n",
    "    </font></div>"
   ]
  },
  {
   "cell_type": "code",
   "execution_count": 78,
   "id": "ce6760cf-78d0-465d-b4a3-f199596983fa",
   "metadata": {
    "ExecuteTime": {
     "end_time": "2023-12-14T16:54:38.363175600Z",
     "start_time": "2023-12-14T16:54:37.870708700Z"
    }
   },
   "outputs": [
    {
     "data": {
      "text/plain": "Text(0, 0.5, 'Spread In Metres')"
     },
     "execution_count": 78,
     "metadata": {},
     "output_type": "execute_result"
    },
    {
     "data": {
      "text/plain": "<Figure size 640x480 with 1 Axes>",
      "image/png": "[encoded data removed]"
     },
     "metadata": {},
     "output_type": "display_data"
    }
   ],
   "source": [
    "# Use a boxplot to find the outliers\n",
    "trees['Spread In Metres'].plot(kind='box')\n",
    "plt.title('Boxplot of Spread In Metres')\n",
    "plt.xlabel('Trees')\n",
    "plt.ylabel('Spread In Metres')"
   ]
  },
  {
   "cell_type": "code",
   "execution_count": 79,
   "id": "6ab3697f-02f9-4e35-acd7-520ac7a1aa83",
   "metadata": {
    "ExecuteTime": {
     "end_time": "2023-12-14T16:54:38.365209200Z",
     "start_time": "2023-12-14T16:54:38.025819200Z"
    }
   },
   "outputs": [
    {
     "name": "stdout",
     "output_type": "stream",
     "text": [
      "\n",
      "Rows containing outliers:\n"
     ]
    },
    {
     "data": {
      "text/plain": "      Identifier  Number Of Trees            Site Name Contract Area  \\\n18567   00045515              1.0  Broadfield Estate 1       Housing   \n\n      Scientific Name Inspection Date Inspection Due Date  Height In Metres  \\\n18567   Quercus robur      2018-04-26           2021/2022               8.0   \n\n       Spread In Metres  Diameter In Centimetres At Breast Height  Ward Code  \\\n18567              88.0                                      17.0  E05000144   \n\n           Ward Name  Easting  Northing  Longitude   Latitude  \\\n18567  Swiss Cottage   525993    184693  -0.184348  51.547074   \n\n                     Location  \n18567  (51.547074, -0.184348)  ",
      "text/html": "<div>\n<style scoped>\n    .dataframe tbody tr th:only-of-type {\n        vertical-align: middle;\n    }\n\n    .dataframe tbody tr th {\n        vertical-align: top;\n    }\n\n    .dataframe thead th {\n        text-align: right;\n    }\n</style>\n<table border=\"1\" class=\"dataframe\">\n  <thead>\n    <tr style=\"text-align: right;\">\n      <th></th>\n      <th>Identifier</th>\n      <th>Number Of Trees</th>\n      <th>Site Name</th>\n      <th>Contract Area</th>\n      <th>Scientific Name</th>\n      <th>Inspection Date</th>\n      <th>Inspection Due Date</th>\n      <th>Height In Metres</th>\n      <th>Spread In Metres</th>\n      <th>Diameter In Centimetres At Breast Height</th>\n      <th>Ward Code</th>\n      <th>Ward Name</th>\n      <th>Easting</th>\n      <th>Northing</th>\n      <th>Longitude</th>\n      <th>Latitude</th>\n      <th>Location</th>\n    </tr>\n  </thead>\n  <tbody>\n    <tr>\n      <th>18567</th>\n      <td>00045515</td>\n      <td>1.0</td>\n      <td>Broadfield Estate 1</td>\n      <td>Housing</td>\n      <td>Quercus robur</td>\n      <td>2018-04-26</td>\n      <td>2021/2022</td>\n      <td>8.0</td>\n      <td>88.0</td>\n      <td>17.0</td>\n      <td>E05000144</td>\n      <td>Swiss Cottage</td>\n      <td>525993</td>\n      <td>184693</td>\n      <td>-0.184348</td>\n      <td>51.547074</td>\n      <td>(51.547074, -0.184348)</td>\n    </tr>\n  </tbody>\n</table>\n</div>"
     },
     "execution_count": 79,
     "metadata": {},
     "output_type": "execute_result"
    }
   ],
   "source": [
    "# Select the crazy outlier rows (if any)\n",
    "print(\"\\nRows containing outliers:\")\n",
    "mask = trees['Spread In Metres'] > 40\n",
    "trees[mask]"
   ]
  },
  {
   "cell_type": "markdown",
   "id": "70810045-0b5e-4dfe-bba1-fe6b0c2ea8d0",
   "metadata": {},
   "source": [
    "<hr/>"
   ]
  },
  {
   "cell_type": "markdown",
   "id": "cc0982a2-f528-49ee-ae07-6d611cb4c564",
   "metadata": {},
   "source": [
    "### 5.3 Outliers for Diameter\n",
    "Now repeat the analysis for diameter.\n",
    "<div style=\"background-color:lemonchiffon; border:1px solid; padding:5px; margin:5px; font-weight:bold\"><font color=\"crimson\">\n",
    "TODO: Complete the following code cells\n",
    "    </font></div>"
   ]
  },
  {
   "cell_type": "code",
   "execution_count": 80,
   "id": "f09b82f0-44c7-4b2c-b7d6-7b1059f8e424",
   "metadata": {
    "ExecuteTime": {
     "end_time": "2023-12-14T16:54:38.745724900Z",
     "start_time": "2023-12-14T16:54:38.058455700Z"
    }
   },
   "outputs": [
    {
     "data": {
      "text/plain": "Text(0, 0.5, 'Diameter In Centimetres')"
     },
     "execution_count": 80,
     "metadata": {},
     "output_type": "execute_result"
    },
    {
     "data": {
      "text/plain": "<Figure size 640x480 with 1 Axes>",
      "image/png": "[encoded data removed]"
     },
     "metadata": {},
     "output_type": "display_data"
    }
   ],
   "source": [
    "# Use a boxplot to find the outliers\n",
    "trees['Diameter In Centimetres At Breast Height'].plot(kind='box')\n",
    "plt.title('Boxplot of Diameter In Centimetres')\n",
    "plt.xlabel('Trees')\n",
    "plt.ylabel('Diameter In Centimetres')"
   ]
  },
  {
   "cell_type": "code",
   "execution_count": 81,
   "id": "6299642f-bf98-43da-a7bc-2880c88c002e",
   "metadata": {
    "ExecuteTime": {
     "end_time": "2023-12-14T16:54:38.746762500Z",
     "start_time": "2023-12-14T16:54:38.215847600Z"
    }
   },
   "outputs": [
    {
     "name": "stdout",
     "output_type": "stream",
     "text": [
      "\n",
      "Rows containing outliers:\n"
     ]
    },
    {
     "data": {
      "text/plain": "Empty DataFrame\nColumns: [Identifier, Number Of Trees, Site Name, Contract Area, Scientific Name, Inspection Date, Inspection Due Date, Height In Metres, Spread In Metres, Diameter In Centimetres At Breast Height, Ward Code, Ward Name, Easting, Northing, Longitude, Latitude, Location]\nIndex: []",
      "text/html": "<div>\n<style scoped>\n    .dataframe tbody tr th:only-of-type {\n        vertical-align: middle;\n    }\n\n    .dataframe tbody tr th {\n        vertical-align: top;\n    }\n\n    .dataframe thead th {\n        text-align: right;\n    }\n</style>\n<table border=\"1\" class=\"dataframe\">\n  <thead>\n    <tr style=\"text-align: right;\">\n      <th></th>\n      <th>Identifier</th>\n      <th>Number Of Trees</th>\n      <th>Site Name</th>\n      <th>Contract Area</th>\n      <th>Scientific Name</th>\n      <th>Inspection Date</th>\n      <th>Inspection Due Date</th>\n      <th>Height In Metres</th>\n      <th>Spread In Metres</th>\n      <th>Diameter In Centimetres At Breast Height</th>\n      <th>Ward Code</th>\n      <th>Ward Name</th>\n      <th>Easting</th>\n      <th>Northing</th>\n      <th>Longitude</th>\n      <th>Latitude</th>\n      <th>Location</th>\n    </tr>\n  </thead>\n  <tbody>\n  </tbody>\n</table>\n</div>"
     },
     "execution_count": 81,
     "metadata": {},
     "output_type": "execute_result"
    }
   ],
   "source": [
    "# Select the outlier rows (if any)\n",
    "print(\"\\nRows containing outliers:\")\n",
    "mask = trees['Diameter In Centimetres At Breast Height'] > 300\n",
    "trees[mask]"
   ]
  },
  {
   "cell_type": "markdown",
   "id": "12f67262-3fe4-4238-8e6f-e04382b8594d",
   "metadata": {},
   "source": [
    "# Observations\n",
    "It would be helpful to search and compare data to other trees with same scientific name. Based on the box plots, it is likely that all circumstance data is accurate but that spread and height have true outliers."
   ]
  },
  {
   "cell_type": "markdown",
   "id": "bd36393a-8904-4be8-affe-1a99e5d4e69f",
   "metadata": {},
   "source": [
    ".<hr/>"
   ]
  },
  {
   "cell_type": "markdown",
   "id": "a433b035-abc4-4ce2-b86e-484e698bd941",
   "metadata": {},
   "source": [
    "## Task 6: Identify Duplicates in the Trees Dataset\n",
    "Sometimes data has duplicate entries.  This is another sign of data quality issues!\n",
    "\n",
    "### 6.1 Find Duplicate Rows\n",
    "\n",
    "In our dataset the `Identifier` column should be unique.  Find out if it is!  We've already used a function that can count how many times each value in a column exists.  Use is to see if we have duplicates in the trees Dataframe.\n",
    "\n",
    "<div style=\"background-color:lemonchiffon; border:1px solid; padding:5px; margin:5px; font-weight:bold\"><font color=\"crimson\">\n",
    "TODO: Complete the following code cells\n",
    "    </font></div>"
   ]
  },
  {
   "cell_type": "code",
   "execution_count": 82,
   "id": "a40454f4-03e9-43b3-a0d8-6fcb756ba90b",
   "metadata": {
    "ExecuteTime": {
     "end_time": "2023-12-14T16:54:38.746762500Z",
     "start_time": "2023-12-14T16:54:38.230412300Z"
    }
   },
   "outputs": [
    {
     "name": "stdout",
     "output_type": "stream",
     "text": [
      "\n",
      "There are duplicates in the 'Identifier' column.\n"
     ]
    }
   ],
   "source": [
    "# Find out if we have any duplicates\n",
    "if any(identifier_counts > 1):\n",
    "    print(\"\\nThere are duplicates in the 'Identifier' column.\")\n",
    "else:\n",
    "    print(\"\\nThe 'Identifier' column has unique values.\")"
   ]
  },
  {
   "cell_type": "markdown",
   "id": "787be537-4f13-466e-9a65-108d93563fc8",
   "metadata": {},
   "source": [
    "Now see if you can select the rows from trees DataFrame that are duplicates.  You will need to use the output from the cell above and use it to filter the trees dataframe."
   ]
  },
  {
   "cell_type": "code",
   "execution_count": 83,
   "id": "3d2fbdbf-c839-4e84-ad7c-add0f4fa31ef",
   "metadata": {
    "ExecuteTime": {
     "end_time": "2023-12-14T16:54:38.748760700Z",
     "start_time": "2023-12-14T16:54:38.245791800Z"
    }
   },
   "outputs": [
    {
     "name": "stdout",
     "output_type": "stream",
     "text": [
      "\n",
      "Rows containing duplicates:\n"
     ]
    },
    {
     "data": {
      "text/plain": "      Identifier  Number Of Trees         Site Name Contract Area  \\\n1219    00060088              1.0  FREDERICK STREET      Highways   \n4388    00032549              1.0    NARCISSUS ROAD      Highways   \n5491    00000999              1.0       ALMA STREET      Highways   \n6111    00032549              1.0    NARCISSUS ROAD      Highways   \n7027    00022744              1.0          YORK WAY      Highways   \n9186    00022744              1.0          YORK WAY      Highways   \n9482    00022674              1.0     WOODSOME ROAD      Highways   \n10972   00060088              1.0  FREDERICK STREET      Highways   \n13098   00000999              1.0       ALMA STREET      Highways   \n13628   00022674              1.0     WOODSOME ROAD      Highways   \n15393   00060087              1.0     ARGYLE SQUARE      Highways   \n15653   00060087              1.0     ARGYLE SQUARE      Highways   \n\n                                         Scientific Name Inspection Date  \\\n1219                   Vacant Tree Pit (planned: Access)      2019-11-09   \n4388                           Betula albosinensis Fasc.      2018-09-19   \n5491                                   Sorbus hupehensis      2017-07-25   \n6111                           Betula albosinensis Fasc.      2018-09-19   \n7027                                 Ailanthus altissima      2019-10-30   \n9186                                 Ailanthus altissima      2019-10-30   \n9482                                              Sorbus      2017-10-07   \n10972  Vacant Tree Pit (planned: Acer campestre eco s...      2019-11-09   \n13098                                  Sorbus hupehensis      2017-07-25   \n13628                                             Sorbus      2017-10-07   \n15393                  Vacant Tree Pit (planned: Access)      2019-11-09   \n15653  Vacant Tree Pit (planned: Acer campestre eco s...      2019-11-09   \n\n      Inspection Due Date  Height In Metres  Spread In Metres  \\\n1219            2022/2023               NaN               NaN   \n4388            2021/2022               9.0               6.0   \n5491            2020/2021               5.0               4.0   \n6111            2021/2022               9.0               6.0   \n7027            2022/2023               7.5               3.0   \n9186            2022/2023               7.5               3.0   \n9482            2020/2021               7.0               6.0   \n10972           2022/2023               NaN               NaN   \n13098           2020/2021               5.0               4.0   \n13628           2020/2021               7.0               6.0   \n15393           2022/2023               NaN               NaN   \n15653           2022/2023               NaN               NaN   \n\n       Diameter In Centimetres At Breast Height  Ward Code       Ward Name  \\\n1219                                        NaN  E05000141    King's Cross   \n4388                                       19.0  E05000145  West Hampstead   \n5491                                       18.0  E05000139    Kentish Town   \n6111                                       19.0  E05000145  West Hampstead   \n7027                                       18.0  E05000131      Cantelowes   \n9186                                       18.0  E05000131      Cantelowes   \n9482                                       28.0  E05000137        Highgate   \n10972                                       NaN  E05000141    King's Cross   \n13098                                      18.0  E05000139    Kentish Town   \n13628                                      28.0  E05000137        Highgate   \n15393                                       NaN  E05000141    King's Cross   \n15653                                       NaN  E05000141    King's Cross   \n\n       Easting  Northing  Longitude   Latitude                Location  \n1219    530770    182696  -0.116241  51.528046  (51.528046, -0.116241)  \n4388    525185    185127  -0.195840  51.551159   (51.551159, -0.19584)  \n5491    528834    184856  -0.143337  51.547904  (51.547904, -0.143337)  \n6111    525185    185127  -0.195840  51.551159   (51.551159, -0.19584)  \n7027    529983    184724  -0.126837  51.546447  (51.546447, -0.126837)  \n9186    529983    184724  -0.126837  51.546447  (51.546447, -0.126837)  \n9482    528515    186109  -0.147481  51.559237  (51.559237, -0.147481)  \n10972   530770    182696  -0.116241  51.528046  (51.528046, -0.116241)  \n13098   528834    184856  -0.143337  51.547904  (51.547904, -0.143337)  \n13628   528515    186109  -0.147481  51.559237  (51.559237, -0.147481)  \n15393   530342    182839  -0.122352  51.529428  (51.529428, -0.122352)  \n15653   530342    182839  -0.122352  51.529428  (51.529428, -0.122352)  ",
      "text/html": "<div>\n<style scoped>\n    .dataframe tbody tr th:only-of-type {\n        vertical-align: middle;\n    }\n\n    .dataframe tbody tr th {\n        vertical-align: top;\n    }\n\n    .dataframe thead th {\n        text-align: right;\n    }\n</style>\n<table border=\"1\" class=\"dataframe\">\n  <thead>\n    <tr style=\"text-align: right;\">\n      <th></th>\n      <th>Identifier</th>\n      <th>Number Of Trees</th>\n      <th>Site Name</th>\n      <th>Contract Area</th>\n      <th>Scientific Name</th>\n      <th>Inspection Date</th>\n      <th>Inspection Due Date</th>\n      <th>Height In Metres</th>\n      <th>Spread In Metres</th>\n      <th>Diameter In Centimetres At Breast Height</th>\n      <th>Ward Code</th>\n      <th>Ward Name</th>\n      <th>Easting</th>\n      <th>Northing</th>\n      <th>Longitude</th>\n      <th>Latitude</th>\n      <th>Location</th>\n    </tr>\n  </thead>\n  <tbody>\n    <tr>\n      <th>1219</th>\n      <td>00060088</td>\n      <td>1.0</td>\n      <td>FREDERICK STREET</td>\n      <td>Highways</td>\n      <td>Vacant Tree Pit (planned: Access)</td>\n      <td>2019-11-09</td>\n      <td>2022/2023</td>\n      <td>NaN</td>\n      <td>NaN</td>\n      <td>NaN</td>\n      <td>E05000141</td>\n      <td>King's Cross</td>\n      <td>530770</td>\n      <td>182696</td>\n      <td>-0.116241</td>\n      <td>51.528046</td>\n      <td>(51.528046, -0.116241)</td>\n    </tr>\n    <tr>\n      <th>4388</th>\n      <td>00032549</td>\n      <td>1.0</td>\n      <td>NARCISSUS ROAD</td>\n      <td>Highways</td>\n      <td>Betula albosinensis Fasc.</td>\n      <td>2018-09-19</td>\n      <td>2021/2022</td>\n      <td>9.0</td>\n      <td>6.0</td>\n      <td>19.0</td>\n      <td>E05000145</td>\n      <td>West Hampstead</td>\n      <td>525185</td>\n      <td>185127</td>\n      <td>-0.195840</td>\n      <td>51.551159</td>\n      <td>(51.551159, -0.19584)</td>\n    </tr>\n    <tr>\n      <th>5491</th>\n      <td>00000999</td>\n      <td>1.0</td>\n      <td>ALMA STREET</td>\n      <td>Highways</td>\n      <td>Sorbus hupehensis</td>\n      <td>2017-07-25</td>\n      <td>2020/2021</td>\n      <td>5.0</td>\n      <td>4.0</td>\n      <td>18.0</td>\n      <td>E05000139</td>\n      <td>Kentish Town</td>\n      <td>528834</td>\n      <td>184856</td>\n      <td>-0.143337</td>\n      <td>51.547904</td>\n      <td>(51.547904, -0.143337)</td>\n    </tr>\n    <tr>\n      <th>6111</th>\n      <td>00032549</td>\n      <td>1.0</td>\n      <td>NARCISSUS ROAD</td>\n      <td>Highways</td>\n      <td>Betula albosinensis Fasc.</td>\n      <td>2018-09-19</td>\n      <td>2021/2022</td>\n      <td>9.0</td>\n      <td>6.0</td>\n      <td>19.0</td>\n      <td>E05000145</td>\n      <td>West Hampstead</td>\n      <td>525185</td>\n      <td>185127</td>\n      <td>-0.195840</td>\n      <td>51.551159</td>\n      <td>(51.551159, -0.19584)</td>\n    </tr>\n    <tr>\n      <th>7027</th>\n      <td>00022744</td>\n      <td>1.0</td>\n      <td>YORK WAY</td>\n      <td>Highways</td>\n      <td>Ailanthus altissima</td>\n      <td>2019-10-30</td>\n      <td>2022/2023</td>\n      <td>7.5</td>\n      <td>3.0</td>\n      <td>18.0</td>\n      <td>E05000131</td>\n      <td>Cantelowes</td>\n      <td>529983</td>\n      <td>184724</td>\n      <td>-0.126837</td>\n      <td>51.546447</td>\n      <td>(51.546447, -0.126837)</td>\n    </tr>\n    <tr>\n      <th>9186</th>\n      <td>00022744</td>\n      <td>1.0</td>\n      <td>YORK WAY</td>\n      <td>Highways</td>\n      <td>Ailanthus altissima</td>\n      <td>2019-10-30</td>\n      <td>2022/2023</td>\n      <td>7.5</td>\n      <td>3.0</td>\n      <td>18.0</td>\n      <td>E05000131</td>\n      <td>Cantelowes</td>\n      <td>529983</td>\n      <td>184724</td>\n      <td>-0.126837</td>\n      <td>51.546447</td>\n      <td>(51.546447, -0.126837)</td>\n    </tr>\n    <tr>\n      <th>9482</th>\n      <td>00022674</td>\n      <td>1.0</td>\n      <td>WOODSOME ROAD</td>\n      <td>Highways</td>\n      <td>Sorbus</td>\n      <td>2017-10-07</td>\n      <td>2020/2021</td>\n      <td>7.0</td>\n      <td>6.0</td>\n      <td>28.0</td>\n      <td>E05000137</td>\n      <td>Highgate</td>\n      <td>528515</td>\n      <td>186109</td>\n      <td>-0.147481</td>\n      <td>51.559237</td>\n      <td>(51.559237, -0.147481)</td>\n    </tr>\n    <tr>\n      <th>10972</th>\n      <td>00060088</td>\n      <td>1.0</td>\n      <td>FREDERICK STREET</td>\n      <td>Highways</td>\n      <td>Vacant Tree Pit (planned: Acer campestre eco s...</td>\n      <td>2019-11-09</td>\n      <td>2022/2023</td>\n      <td>NaN</td>\n      <td>NaN</td>\n      <td>NaN</td>\n      <td>E05000141</td>\n      <td>King's Cross</td>\n      <td>530770</td>\n      <td>182696</td>\n      <td>-0.116241</td>\n      <td>51.528046</td>\n      <td>(51.528046, -0.116241)</td>\n    </tr>\n    <tr>\n      <th>13098</th>\n      <td>00000999</td>\n      <td>1.0</td>\n      <td>ALMA STREET</td>\n      <td>Highways</td>\n      <td>Sorbus hupehensis</td>\n      <td>2017-07-25</td>\n      <td>2020/2021</td>\n      <td>5.0</td>\n      <td>4.0</td>\n      <td>18.0</td>\n      <td>E05000139</td>\n      <td>Kentish Town</td>\n      <td>528834</td>\n      <td>184856</td>\n      <td>-0.143337</td>\n      <td>51.547904</td>\n      <td>(51.547904, -0.143337)</td>\n    </tr>\n    <tr>\n      <th>13628</th>\n      <td>00022674</td>\n      <td>1.0</td>\n      <td>WOODSOME ROAD</td>\n      <td>Highways</td>\n      <td>Sorbus</td>\n      <td>2017-10-07</td>\n      <td>2020/2021</td>\n      <td>7.0</td>\n      <td>6.0</td>\n      <td>28.0</td>\n      <td>E05000137</td>\n      <td>Highgate</td>\n      <td>528515</td>\n      <td>186109</td>\n      <td>-0.147481</td>\n      <td>51.559237</td>\n      <td>(51.559237, -0.147481)</td>\n    </tr>\n    <tr>\n      <th>15393</th>\n      <td>00060087</td>\n      <td>1.0</td>\n      <td>ARGYLE SQUARE</td>\n      <td>Highways</td>\n      <td>Vacant Tree Pit (planned: Access)</td>\n      <td>2019-11-09</td>\n      <td>2022/2023</td>\n      <td>NaN</td>\n      <td>NaN</td>\n      <td>NaN</td>\n      <td>E05000141</td>\n      <td>King's Cross</td>\n      <td>530342</td>\n      <td>182839</td>\n      <td>-0.122352</td>\n      <td>51.529428</td>\n      <td>(51.529428, -0.122352)</td>\n    </tr>\n    <tr>\n      <th>15653</th>\n      <td>00060087</td>\n      <td>1.0</td>\n      <td>ARGYLE SQUARE</td>\n      <td>Highways</td>\n      <td>Vacant Tree Pit (planned: Acer campestre eco s...</td>\n      <td>2019-11-09</td>\n      <td>2022/2023</td>\n      <td>NaN</td>\n      <td>NaN</td>\n      <td>NaN</td>\n      <td>E05000141</td>\n      <td>King's Cross</td>\n      <td>530342</td>\n      <td>182839</td>\n      <td>-0.122352</td>\n      <td>51.529428</td>\n      <td>(51.529428, -0.122352)</td>\n    </tr>\n  </tbody>\n</table>\n</div>"
     },
     "execution_count": 83,
     "metadata": {},
     "output_type": "execute_result"
    }
   ],
   "source": [
    "# Select the rows that are duplicated\n",
    "# Identify the duplicate values\n",
    "duplicates = identifier_counts[identifier_counts > 1].index\n",
    "\n",
    "# Select rows with duplicate values in the 'Identifier' column\n",
    "duplicate_rows = trees[trees['Identifier'].isin(duplicates)]\n",
    "\n",
    "# Display the rows containing duplicates\n",
    "print(\"\\nRows containing duplicates:\")\n",
    "duplicate_rows"
   ]
  },
  {
   "cell_type": "markdown",
   "id": "a74e447b-7ae5-43f3-a189-94c066fe6fc0",
   "metadata": {},
   "source": [
    "<hr/>\n",
    "\n",
    "### 6.2 Observations\n",
    "\n",
    "<div style=\"background-color:lemonchiffon; border:1px solid; padding:5px; margin:5px; font-weight:bold\"><font color=\"crimson\">\n",
    "TODO: Write down your observations about duplicates in trees.\n",
    "    </font></div>\n"
   ]
  },
  {
   "cell_type": "markdown",
   "id": "7aaa910b-ccc4-4f78-80cd-467b683fe2e1",
   "metadata": {},
   "source": [
    "ENTER MARKDOWN HERE\n",
    "There are six duplicated tree rows for a total of 12 rows."
   ]
  },
  {
   "cell_type": "markdown",
   "id": "d0f41ea4-112c-4ea9-96a5-ca76e4b972b3",
   "metadata": {},
   "source": [
    "<hr/>"
   ]
  },
  {
   "cell_type": "markdown",
   "id": "59990f3e-6f73-46ee-8644-2dc503baa93a",
   "metadata": {},
   "source": [
    "## Task 7: Identify Geolocation Issues\n",
    "The geographic coordinates (Easting and Northing) can be used to plot the trees on a map.  We can use this approach to see if there are any unusual tree locations!\n",
    "\n",
    "We will make a copy of the original trees dataset and remove any rows that have a missing easting or northing as these can't be plotted on the map.\n",
    "\n",
    "We can copy the DataFrame using:\n",
    "\n",
    "- [pandas.DataFrame.copy](https://pandas.pydata.org/pandas-docs/stable/reference/api/pandas.DataFrame.copy.html)\n",
    "\n",
    "We can use the DataFrame filtering technique we saw before to remove the missing values.  E.g. the following code filters out rows where the value for 'mycolumn' is 100:\n",
    "\n",
    "    mask = df['mycolumn'] != 100\n",
    "    df = df[mask]\n",
    "\n",
    "You can also create masks using a function, e.g. this creates a mask which excludes nulls:\n",
    "\n",
    "    mask = df['mycolumn'].isnull()\n",
    "\n",
    "We can use this function to plot the trees on a map. Set x to \"Easting\" and y to \"Northing\" and set a figsize parameter to (6, 6) to get a square aspect ratio:\n",
    "\n",
    "- [pandas.DataFrame.plot.scatter](https://pandas.pydata.org/pandas-docs/version/0.25.0/reference/api/pandas.DataFrame.plot.scatter.html)\n",
    "\n",
    "\n"
   ]
  },
  {
   "cell_type": "markdown",
   "id": "0bdaf281-68a3-43d4-abb6-f3c42a088f7f",
   "metadata": {},
   "source": [
    "### 7.1 Remove Trees with Missing Geo-coordinates\n",
    "Check if there are any rows with null or 0 geo-coordinates.  If there are, remove them as we can't plot these.\n",
    "\n",
    "<div style=\"background-color:lemonchiffon; border:1px solid; padding:5px; margin:5px; font-weight:bold\"><font color=\"crimson\">\n",
    "TODO: Complete the following code cells\n",
    "    </font></div>"
   ]
  },
  {
   "cell_type": "code",
   "execution_count": 84,
   "id": "913c1d69-b105-44aa-be2f-73b537313c6e",
   "metadata": {
    "ExecuteTime": {
     "end_time": "2023-12-14T16:54:38.748760700Z",
     "start_time": "2023-12-14T16:54:38.281047100Z"
    }
   },
   "outputs": [],
   "source": [
    "# Make a copy of the trees\n",
    "geo_trees = trees.copy()"
   ]
  },
  {
   "cell_type": "code",
   "execution_count": 85,
   "id": "3a9b5bf6-bda3-472f-9796-060023cff4e8",
   "metadata": {
    "ExecuteTime": {
     "end_time": "2023-12-14T16:54:38.748760700Z",
     "start_time": "2023-12-14T16:54:38.300799900Z"
    }
   },
   "outputs": [
    {
     "data": {
      "text/plain": "      Identifier  Number Of Trees                         Site Name  \\\n0       00060053              1.0          Russell Nurseries Estate   \n1       00057855              1.0                 BRECKNOCK JMI (E)   \n2       00059953              1.0        Estate 51 Ravenshaw Street   \n3       00059915              1.0                 ROSARY RC JMI (E)   \n4       00010762              1.0                Holly Lodge Estate   \n...          ...              ...                               ...   \n23439   00057455              1.0  KILBURN GRANGE, MESSINA AVE (LS)   \n23440   00015494              1.0                  OSSULSTON STREET   \n23441   00001693              1.0                    BELMONT STREET   \n23442   00020342              1.0              Templar House Estate   \n23443   00013369              1.0                    LYNDHURST ROAD   \n\n      Contract Area          Scientific Name Inspection Date  \\\n0           Housing          Vacant Tree Pit             NaT   \n1         Education          Vacant Tree Pit      2019-07-17   \n2           Housing             Ficus carica             NaT   \n3         Education      Betula jacquemontii             NaT   \n4           Housing     Ilex x altaclarensis      2017-06-14   \n...             ...                      ...             ...   \n23439         Parks              Sorbus aria      2017-03-28   \n23440      Highways  Sorbus aria 'Majestica'      2019-10-28   \n23441      Highways     Platanus x hispanica      2017-07-31   \n23442       Housing           Tilia europaea      2018-11-05   \n23443      Highways           Tilia europaea      2018-06-08   \n\n      Inspection Due Date  Height In Metres  Spread In Metres  \\\n0                     NaN               NaN               NaN   \n1               2022/2023               NaN               NaN   \n2                     NaN               5.0               4.0   \n3                     NaN               4.0               1.0   \n4               2020/2021              14.0               6.0   \n...                   ...               ...               ...   \n23439           2019/2020               2.0               1.0   \n23440           2022/2023              12.0               6.0   \n23441           2020/2021              18.0              10.0   \n23442           2021/2022              20.0               8.0   \n23443           2021/2022              15.0               6.0   \n\n       Diameter In Centimetres At Breast Height  Ward Code  \\\n0                                           NaN  E05000135   \n1                                           NaN  E05000131   \n2                                          10.0        NaN   \n3                                           6.0  E05000135   \n4                                          26.0  E05000137   \n...                                         ...        ...   \n23439                                       6.0  E05000140   \n23440                                      48.0  E05000143   \n23441                                      57.0  E05000136   \n23442                                      40.0  E05000132   \n23443                                      77.0  E05000135   \n\n                        Ward Name  Easting  Northing  Longitude   Latitude  \\\n0                  Hampstead Town   527305    185240  -0.165240  51.551693   \n1                      Cantelowes   529923    184782  -0.127681  51.546984   \n2                             NaN        0         0        NaN        NaN   \n3                  Hampstead Town   527249    185261  -0.166051  51.551901   \n4                        Highgate   528414    186770  -0.148704  51.565198   \n...                           ...      ...       ...        ...        ...   \n23439                     Kilburn   525130    184418  -0.196884  51.544796   \n23440  St Pancras and Somers Town   529758    183095  -0.130667  51.531863   \n23441                  Haverstock   528302    184457  -0.151163  51.544432   \n23442               Fortune Green   524615    184714  -0.204206  51.547573   \n23443              Hampstead Town   526738    185304  -0.173397  51.552397   \n\n                     Location  \n0       (51.551693, -0.16524)  \n1      (51.546984, -0.127681)  \n2                         NaN  \n3      (51.551901, -0.166051)  \n4      (51.565198, -0.148704)  \n...                       ...  \n23439  (51.544796, -0.196884)  \n23440  (51.531863, -0.130667)  \n23441  (51.544432, -0.151163)  \n23442  (51.547573, -0.204206)  \n23443  (51.552397, -0.173397)  \n\n[23444 rows x 17 columns]",
      "text/html": "<div>\n<style scoped>\n    .dataframe tbody tr th:only-of-type {\n        vertical-align: middle;\n    }\n\n    .dataframe tbody tr th {\n        vertical-align: top;\n    }\n\n    .dataframe thead th {\n        text-align: right;\n    }\n</style>\n<table border=\"1\" class=\"dataframe\">\n  <thead>\n    <tr style=\"text-align: right;\">\n      <th></th>\n      <th>Identifier</th>\n      <th>Number Of Trees</th>\n      <th>Site Name</th>\n      <th>Contract Area</th>\n      <th>Scientific Name</th>\n      <th>Inspection Date</th>\n      <th>Inspection Due Date</th>\n      <th>Height In Metres</th>\n      <th>Spread In Metres</th>\n      <th>Diameter In Centimetres At Breast Height</th>\n      <th>Ward Code</th>\n      <th>Ward Name</th>\n      <th>Easting</th>\n      <th>Northing</th>\n      <th>Longitude</th>\n      <th>Latitude</th>\n      <th>Location</th>\n    </tr>\n  </thead>\n  <tbody>\n    <tr>\n      <th>0</th>\n      <td>00060053</td>\n      <td>1.0</td>\n      <td>Russell Nurseries Estate</td>\n      <td>Housing</td>\n      <td>Vacant Tree Pit</td>\n      <td>NaT</td>\n      <td>NaN</td>\n      <td>NaN</td>\n      <td>NaN</td>\n      <td>NaN</td>\n      <td>E05000135</td>\n      <td>Hampstead Town</td>\n      <td>527305</td>\n      <td>185240</td>\n      <td>-0.165240</td>\n      <td>51.551693</td>\n      <td>(51.551693, -0.16524)</td>\n    </tr>\n    <tr>\n      <th>1</th>\n      <td>00057855</td>\n      <td>1.0</td>\n      <td>BRECKNOCK JMI (E)</td>\n      <td>Education</td>\n      <td>Vacant Tree Pit</td>\n      <td>2019-07-17</td>\n      <td>2022/2023</td>\n      <td>NaN</td>\n      <td>NaN</td>\n      <td>NaN</td>\n      <td>E05000131</td>\n      <td>Cantelowes</td>\n      <td>529923</td>\n      <td>184782</td>\n      <td>-0.127681</td>\n      <td>51.546984</td>\n      <td>(51.546984, -0.127681)</td>\n    </tr>\n    <tr>\n      <th>2</th>\n      <td>00059953</td>\n      <td>1.0</td>\n      <td>Estate 51 Ravenshaw Street</td>\n      <td>Housing</td>\n      <td>Ficus carica</td>\n      <td>NaT</td>\n      <td>NaN</td>\n      <td>5.0</td>\n      <td>4.0</td>\n      <td>10.0</td>\n      <td>NaN</td>\n      <td>NaN</td>\n      <td>0</td>\n      <td>0</td>\n      <td>NaN</td>\n      <td>NaN</td>\n      <td>NaN</td>\n    </tr>\n    <tr>\n      <th>3</th>\n      <td>00059915</td>\n      <td>1.0</td>\n      <td>ROSARY RC JMI (E)</td>\n      <td>Education</td>\n      <td>Betula jacquemontii</td>\n      <td>NaT</td>\n      <td>NaN</td>\n      <td>4.0</td>\n      <td>1.0</td>\n      <td>6.0</td>\n      <td>E05000135</td>\n      <td>Hampstead Town</td>\n      <td>527249</td>\n      <td>185261</td>\n      <td>-0.166051</td>\n      <td>51.551901</td>\n      <td>(51.551901, -0.166051)</td>\n    </tr>\n    <tr>\n      <th>4</th>\n      <td>00010762</td>\n      <td>1.0</td>\n      <td>Holly Lodge Estate</td>\n      <td>Housing</td>\n      <td>Ilex x altaclarensis</td>\n      <td>2017-06-14</td>\n      <td>2020/2021</td>\n      <td>14.0</td>\n      <td>6.0</td>\n      <td>26.0</td>\n      <td>E05000137</td>\n      <td>Highgate</td>\n      <td>528414</td>\n      <td>186770</td>\n      <td>-0.148704</td>\n      <td>51.565198</td>\n      <td>(51.565198, -0.148704)</td>\n    </tr>\n    <tr>\n      <th>...</th>\n      <td>...</td>\n      <td>...</td>\n      <td>...</td>\n      <td>...</td>\n      <td>...</td>\n      <td>...</td>\n      <td>...</td>\n      <td>...</td>\n      <td>...</td>\n      <td>...</td>\n      <td>...</td>\n      <td>...</td>\n      <td>...</td>\n      <td>...</td>\n      <td>...</td>\n      <td>...</td>\n      <td>...</td>\n    </tr>\n    <tr>\n      <th>23439</th>\n      <td>00057455</td>\n      <td>1.0</td>\n      <td>KILBURN GRANGE, MESSINA AVE (LS)</td>\n      <td>Parks</td>\n      <td>Sorbus aria</td>\n      <td>2017-03-28</td>\n      <td>2019/2020</td>\n      <td>2.0</td>\n      <td>1.0</td>\n      <td>6.0</td>\n      <td>E05000140</td>\n      <td>Kilburn</td>\n      <td>525130</td>\n      <td>184418</td>\n      <td>-0.196884</td>\n      <td>51.544796</td>\n      <td>(51.544796, -0.196884)</td>\n    </tr>\n    <tr>\n      <th>23440</th>\n      <td>00015494</td>\n      <td>1.0</td>\n      <td>OSSULSTON STREET</td>\n      <td>Highways</td>\n      <td>Sorbus aria 'Majestica'</td>\n      <td>2019-10-28</td>\n      <td>2022/2023</td>\n      <td>12.0</td>\n      <td>6.0</td>\n      <td>48.0</td>\n      <td>E05000143</td>\n      <td>St Pancras and Somers Town</td>\n      <td>529758</td>\n      <td>183095</td>\n      <td>-0.130667</td>\n      <td>51.531863</td>\n      <td>(51.531863, -0.130667)</td>\n    </tr>\n    <tr>\n      <th>23441</th>\n      <td>00001693</td>\n      <td>1.0</td>\n      <td>BELMONT STREET</td>\n      <td>Highways</td>\n      <td>Platanus x hispanica</td>\n      <td>2017-07-31</td>\n      <td>2020/2021</td>\n      <td>18.0</td>\n      <td>10.0</td>\n      <td>57.0</td>\n      <td>E05000136</td>\n      <td>Haverstock</td>\n      <td>528302</td>\n      <td>184457</td>\n      <td>-0.151163</td>\n      <td>51.544432</td>\n      <td>(51.544432, -0.151163)</td>\n    </tr>\n    <tr>\n      <th>23442</th>\n      <td>00020342</td>\n      <td>1.0</td>\n      <td>Templar House Estate</td>\n      <td>Housing</td>\n      <td>Tilia europaea</td>\n      <td>2018-11-05</td>\n      <td>2021/2022</td>\n      <td>20.0</td>\n      <td>8.0</td>\n      <td>40.0</td>\n      <td>E05000132</td>\n      <td>Fortune Green</td>\n      <td>524615</td>\n      <td>184714</td>\n      <td>-0.204206</td>\n      <td>51.547573</td>\n      <td>(51.547573, -0.204206)</td>\n    </tr>\n    <tr>\n      <th>23443</th>\n      <td>00013369</td>\n      <td>1.0</td>\n      <td>LYNDHURST ROAD</td>\n      <td>Highways</td>\n      <td>Tilia europaea</td>\n      <td>2018-06-08</td>\n      <td>2021/2022</td>\n      <td>15.0</td>\n      <td>6.0</td>\n      <td>77.0</td>\n      <td>E05000135</td>\n      <td>Hampstead Town</td>\n      <td>526738</td>\n      <td>185304</td>\n      <td>-0.173397</td>\n      <td>51.552397</td>\n      <td>(51.552397, -0.173397)</td>\n    </tr>\n  </tbody>\n</table>\n<p>23444 rows × 17 columns</p>\n</div>"
     },
     "execution_count": 85,
     "metadata": {},
     "output_type": "execute_result"
    }
   ],
   "source": [
    "# Remove null Eastings\n",
    "geo_trees = geo_trees.dropna(subset=['Easting'])\n",
    "geo_trees"
   ]
  },
  {
   "cell_type": "code",
   "execution_count": 86,
   "id": "7f77324a-f2e4-4d69-a0fe-1d71757c6f6e",
   "metadata": {
    "ExecuteTime": {
     "end_time": "2023-12-14T16:54:38.750314100Z",
     "start_time": "2023-12-14T16:54:38.324937200Z"
    }
   },
   "outputs": [
    {
     "data": {
      "text/plain": "      Identifier  Number Of Trees                         Site Name  \\\n0       00060053              1.0          Russell Nurseries Estate   \n1       00057855              1.0                 BRECKNOCK JMI (E)   \n3       00059915              1.0                 ROSARY RC JMI (E)   \n4       00010762              1.0                Holly Lodge Estate   \n5       00007523              1.0                Westcroft Estate 1   \n...          ...              ...                               ...   \n23439   00057455              1.0  KILBURN GRANGE, MESSINA AVE (LS)   \n23440   00015494              1.0                  OSSULSTON STREET   \n23441   00001693              1.0                    BELMONT STREET   \n23442   00020342              1.0              Templar House Estate   \n23443   00013369              1.0                    LYNDHURST ROAD   \n\n      Contract Area          Scientific Name Inspection Date  \\\n0           Housing          Vacant Tree Pit             NaT   \n1         Education          Vacant Tree Pit      2019-07-17   \n3         Education      Betula jacquemontii             NaT   \n4           Housing     Ilex x altaclarensis      2017-06-14   \n5           Housing           Betula pendula      2018-08-06   \n...             ...                      ...             ...   \n23439         Parks              Sorbus aria      2017-03-28   \n23440      Highways  Sorbus aria 'Majestica'      2019-10-28   \n23441      Highways     Platanus x hispanica      2017-07-31   \n23442       Housing           Tilia europaea      2018-11-05   \n23443      Highways           Tilia europaea      2018-06-08   \n\n      Inspection Due Date  Height In Metres  Spread In Metres  \\\n0                     NaN               NaN               NaN   \n1               2022/2023               NaN               NaN   \n3                     NaN               4.0               1.0   \n4               2020/2021              14.0               6.0   \n5               2021/2022               9.0               7.0   \n...                   ...               ...               ...   \n23439           2019/2020               2.0               1.0   \n23440           2022/2023              12.0               6.0   \n23441           2020/2021              18.0              10.0   \n23442           2021/2022              20.0               8.0   \n23443           2021/2022              15.0               6.0   \n\n       Diameter In Centimetres At Breast Height  Ward Code  \\\n0                                           NaN  E05000135   \n1                                           NaN  E05000131   \n3                                           6.0  E05000135   \n4                                          26.0  E05000137   \n5                                          29.0        NaN   \n...                                         ...        ...   \n23439                                       6.0  E05000140   \n23440                                      48.0  E05000143   \n23441                                      57.0  E05000136   \n23442                                      40.0  E05000132   \n23443                                      77.0  E05000135   \n\n                        Ward Name  Easting  Northing  Longitude   Latitude  \\\n0                  Hampstead Town   527305    185240  -0.165240  51.551693   \n1                      Cantelowes   529923    184782  -0.127681  51.546984   \n3                  Hampstead Town   527249    185261  -0.166051  51.551901   \n4                        Highgate   528414    186770  -0.148704  51.565198   \n5                             NaN   524253    185982  -0.208975  51.559049   \n...                           ...      ...       ...        ...        ...   \n23439                     Kilburn   525130    184418  -0.196884  51.544796   \n23440  St Pancras and Somers Town   529758    183095  -0.130667  51.531863   \n23441                  Haverstock   528302    184457  -0.151163  51.544432   \n23442               Fortune Green   524615    184714  -0.204206  51.547573   \n23443              Hampstead Town   526738    185304  -0.173397  51.552397   \n\n                     Location  \n0       (51.551693, -0.16524)  \n1      (51.546984, -0.127681)  \n3      (51.551901, -0.166051)  \n4      (51.565198, -0.148704)  \n5      (51.559049, -0.208975)  \n...                       ...  \n23439  (51.544796, -0.196884)  \n23440  (51.531863, -0.130667)  \n23441  (51.544432, -0.151163)  \n23442  (51.547573, -0.204206)  \n23443  (51.552397, -0.173397)  \n\n[23388 rows x 17 columns]",
      "text/html": "<div>\n<style scoped>\n    .dataframe tbody tr th:only-of-type {\n        vertical-align: middle;\n    }\n\n    .dataframe tbody tr th {\n        vertical-align: top;\n    }\n\n    .dataframe thead th {\n        text-align: right;\n    }\n</style>\n<table border=\"1\" class=\"dataframe\">\n  <thead>\n    <tr style=\"text-align: right;\">\n      <th></th>\n      <th>Identifier</th>\n      <th>Number Of Trees</th>\n      <th>Site Name</th>\n      <th>Contract Area</th>\n      <th>Scientific Name</th>\n      <th>Inspection Date</th>\n      <th>Inspection Due Date</th>\n      <th>Height In Metres</th>\n      <th>Spread In Metres</th>\n      <th>Diameter In Centimetres At Breast Height</th>\n      <th>Ward Code</th>\n      <th>Ward Name</th>\n      <th>Easting</th>\n      <th>Northing</th>\n      <th>Longitude</th>\n      <th>Latitude</th>\n      <th>Location</th>\n    </tr>\n  </thead>\n  <tbody>\n    <tr>\n      <th>0</th>\n      <td>00060053</td>\n      <td>1.0</td>\n      <td>Russell Nurseries Estate</td>\n      <td>Housing</td>\n      <td>Vacant Tree Pit</td>\n      <td>NaT</td>\n      <td>NaN</td>\n      <td>NaN</td>\n      <td>NaN</td>\n      <td>NaN</td>\n      <td>E05000135</td>\n      <td>Hampstead Town</td>\n      <td>527305</td>\n      <td>185240</td>\n      <td>-0.165240</td>\n      <td>51.551693</td>\n      <td>(51.551693, -0.16524)</td>\n    </tr>\n    <tr>\n      <th>1</th>\n      <td>00057855</td>\n      <td>1.0</td>\n      <td>BRECKNOCK JMI (E)</td>\n      <td>Education</td>\n      <td>Vacant Tree Pit</td>\n      <td>2019-07-17</td>\n      <td>2022/2023</td>\n      <td>NaN</td>\n      <td>NaN</td>\n      <td>NaN</td>\n      <td>E05000131</td>\n      <td>Cantelowes</td>\n      <td>529923</td>\n      <td>184782</td>\n      <td>-0.127681</td>\n      <td>51.546984</td>\n      <td>(51.546984, -0.127681)</td>\n    </tr>\n    <tr>\n      <th>3</th>\n      <td>00059915</td>\n      <td>1.0</td>\n      <td>ROSARY RC JMI (E)</td>\n      <td>Education</td>\n      <td>Betula jacquemontii</td>\n      <td>NaT</td>\n      <td>NaN</td>\n      <td>4.0</td>\n      <td>1.0</td>\n      <td>6.0</td>\n      <td>E05000135</td>\n      <td>Hampstead Town</td>\n      <td>527249</td>\n      <td>185261</td>\n      <td>-0.166051</td>\n      <td>51.551901</td>\n      <td>(51.551901, -0.166051)</td>\n    </tr>\n    <tr>\n      <th>4</th>\n      <td>00010762</td>\n      <td>1.0</td>\n      <td>Holly Lodge Estate</td>\n      <td>Housing</td>\n      <td>Ilex x altaclarensis</td>\n      <td>2017-06-14</td>\n      <td>2020/2021</td>\n      <td>14.0</td>\n      <td>6.0</td>\n      <td>26.0</td>\n      <td>E05000137</td>\n      <td>Highgate</td>\n      <td>528414</td>\n      <td>186770</td>\n      <td>-0.148704</td>\n      <td>51.565198</td>\n      <td>(51.565198, -0.148704)</td>\n    </tr>\n    <tr>\n      <th>5</th>\n      <td>00007523</td>\n      <td>1.0</td>\n      <td>Westcroft Estate 1</td>\n      <td>Housing</td>\n      <td>Betula pendula</td>\n      <td>2018-08-06</td>\n      <td>2021/2022</td>\n      <td>9.0</td>\n      <td>7.0</td>\n      <td>29.0</td>\n      <td>NaN</td>\n      <td>NaN</td>\n      <td>524253</td>\n      <td>185982</td>\n      <td>-0.208975</td>\n      <td>51.559049</td>\n      <td>(51.559049, -0.208975)</td>\n    </tr>\n    <tr>\n      <th>...</th>\n      <td>...</td>\n      <td>...</td>\n      <td>...</td>\n      <td>...</td>\n      <td>...</td>\n      <td>...</td>\n      <td>...</td>\n      <td>...</td>\n      <td>...</td>\n      <td>...</td>\n      <td>...</td>\n      <td>...</td>\n      <td>...</td>\n      <td>...</td>\n      <td>...</td>\n      <td>...</td>\n      <td>...</td>\n    </tr>\n    <tr>\n      <th>23439</th>\n      <td>00057455</td>\n      <td>1.0</td>\n      <td>KILBURN GRANGE, MESSINA AVE (LS)</td>\n      <td>Parks</td>\n      <td>Sorbus aria</td>\n      <td>2017-03-28</td>\n      <td>2019/2020</td>\n      <td>2.0</td>\n      <td>1.0</td>\n      <td>6.0</td>\n      <td>E05000140</td>\n      <td>Kilburn</td>\n      <td>525130</td>\n      <td>184418</td>\n      <td>-0.196884</td>\n      <td>51.544796</td>\n      <td>(51.544796, -0.196884)</td>\n    </tr>\n    <tr>\n      <th>23440</th>\n      <td>00015494</td>\n      <td>1.0</td>\n      <td>OSSULSTON STREET</td>\n      <td>Highways</td>\n      <td>Sorbus aria 'Majestica'</td>\n      <td>2019-10-28</td>\n      <td>2022/2023</td>\n      <td>12.0</td>\n      <td>6.0</td>\n      <td>48.0</td>\n      <td>E05000143</td>\n      <td>St Pancras and Somers Town</td>\n      <td>529758</td>\n      <td>183095</td>\n      <td>-0.130667</td>\n      <td>51.531863</td>\n      <td>(51.531863, -0.130667)</td>\n    </tr>\n    <tr>\n      <th>23441</th>\n      <td>00001693</td>\n      <td>1.0</td>\n      <td>BELMONT STREET</td>\n      <td>Highways</td>\n      <td>Platanus x hispanica</td>\n      <td>2017-07-31</td>\n      <td>2020/2021</td>\n      <td>18.0</td>\n      <td>10.0</td>\n      <td>57.0</td>\n      <td>E05000136</td>\n      <td>Haverstock</td>\n      <td>528302</td>\n      <td>184457</td>\n      <td>-0.151163</td>\n      <td>51.544432</td>\n      <td>(51.544432, -0.151163)</td>\n    </tr>\n    <tr>\n      <th>23442</th>\n      <td>00020342</td>\n      <td>1.0</td>\n      <td>Templar House Estate</td>\n      <td>Housing</td>\n      <td>Tilia europaea</td>\n      <td>2018-11-05</td>\n      <td>2021/2022</td>\n      <td>20.0</td>\n      <td>8.0</td>\n      <td>40.0</td>\n      <td>E05000132</td>\n      <td>Fortune Green</td>\n      <td>524615</td>\n      <td>184714</td>\n      <td>-0.204206</td>\n      <td>51.547573</td>\n      <td>(51.547573, -0.204206)</td>\n    </tr>\n    <tr>\n      <th>23443</th>\n      <td>00013369</td>\n      <td>1.0</td>\n      <td>LYNDHURST ROAD</td>\n      <td>Highways</td>\n      <td>Tilia europaea</td>\n      <td>2018-06-08</td>\n      <td>2021/2022</td>\n      <td>15.0</td>\n      <td>6.0</td>\n      <td>77.0</td>\n      <td>E05000135</td>\n      <td>Hampstead Town</td>\n      <td>526738</td>\n      <td>185304</td>\n      <td>-0.173397</td>\n      <td>51.552397</td>\n      <td>(51.552397, -0.173397)</td>\n    </tr>\n  </tbody>\n</table>\n<p>23388 rows × 17 columns</p>\n</div>"
     },
     "execution_count": 86,
     "metadata": {},
     "output_type": "execute_result"
    }
   ],
   "source": [
    "# Remove 0 Eastings.  \n",
    "geo_trees = geo_trees[geo_trees['Easting'] != 0]\n",
    "geo_trees"
   ]
  },
  {
   "cell_type": "code",
   "execution_count": 87,
   "id": "40ccb789-0cab-4218-9caa-e7e08b2b71ae",
   "metadata": {
    "ExecuteTime": {
     "end_time": "2023-12-14T16:54:38.824975600Z",
     "start_time": "2023-12-14T16:54:38.354565300Z"
    }
   },
   "outputs": [
    {
     "data": {
      "text/plain": "      Identifier  Number Of Trees                         Site Name  \\\n0       00060053              1.0          Russell Nurseries Estate   \n1       00057855              1.0                 BRECKNOCK JMI (E)   \n3       00059915              1.0                 ROSARY RC JMI (E)   \n4       00010762              1.0                Holly Lodge Estate   \n5       00007523              1.0                Westcroft Estate 1   \n...          ...              ...                               ...   \n23439   00057455              1.0  KILBURN GRANGE, MESSINA AVE (LS)   \n23440   00015494              1.0                  OSSULSTON STREET   \n23441   00001693              1.0                    BELMONT STREET   \n23442   00020342              1.0              Templar House Estate   \n23443   00013369              1.0                    LYNDHURST ROAD   \n\n      Contract Area          Scientific Name Inspection Date  \\\n0           Housing          Vacant Tree Pit             NaT   \n1         Education          Vacant Tree Pit      2019-07-17   \n3         Education      Betula jacquemontii             NaT   \n4           Housing     Ilex x altaclarensis      2017-06-14   \n5           Housing           Betula pendula      2018-08-06   \n...             ...                      ...             ...   \n23439         Parks              Sorbus aria      2017-03-28   \n23440      Highways  Sorbus aria 'Majestica'      2019-10-28   \n23441      Highways     Platanus x hispanica      2017-07-31   \n23442       Housing           Tilia europaea      2018-11-05   \n23443      Highways           Tilia europaea      2018-06-08   \n\n      Inspection Due Date  Height In Metres  Spread In Metres  \\\n0                     NaN               NaN               NaN   \n1               2022/2023               NaN               NaN   \n3                     NaN               4.0               1.0   \n4               2020/2021              14.0               6.0   \n5               2021/2022               9.0               7.0   \n...                   ...               ...               ...   \n23439           2019/2020               2.0               1.0   \n23440           2022/2023              12.0               6.0   \n23441           2020/2021              18.0              10.0   \n23442           2021/2022              20.0               8.0   \n23443           2021/2022              15.0               6.0   \n\n       Diameter In Centimetres At Breast Height  Ward Code  \\\n0                                           NaN  E05000135   \n1                                           NaN  E05000131   \n3                                           6.0  E05000135   \n4                                          26.0  E05000137   \n5                                          29.0        NaN   \n...                                         ...        ...   \n23439                                       6.0  E05000140   \n23440                                      48.0  E05000143   \n23441                                      57.0  E05000136   \n23442                                      40.0  E05000132   \n23443                                      77.0  E05000135   \n\n                        Ward Name  Easting  Northing  Longitude   Latitude  \\\n0                  Hampstead Town   527305    185240  -0.165240  51.551693   \n1                      Cantelowes   529923    184782  -0.127681  51.546984   \n3                  Hampstead Town   527249    185261  -0.166051  51.551901   \n4                        Highgate   528414    186770  -0.148704  51.565198   \n5                             NaN   524253    185982  -0.208975  51.559049   \n...                           ...      ...       ...        ...        ...   \n23439                     Kilburn   525130    184418  -0.196884  51.544796   \n23440  St Pancras and Somers Town   529758    183095  -0.130667  51.531863   \n23441                  Haverstock   528302    184457  -0.151163  51.544432   \n23442               Fortune Green   524615    184714  -0.204206  51.547573   \n23443              Hampstead Town   526738    185304  -0.173397  51.552397   \n\n                     Location  \n0       (51.551693, -0.16524)  \n1      (51.546984, -0.127681)  \n3      (51.551901, -0.166051)  \n4      (51.565198, -0.148704)  \n5      (51.559049, -0.208975)  \n...                       ...  \n23439  (51.544796, -0.196884)  \n23440  (51.531863, -0.130667)  \n23441  (51.544432, -0.151163)  \n23442  (51.547573, -0.204206)  \n23443  (51.552397, -0.173397)  \n\n[23388 rows x 17 columns]",
      "text/html": "<div>\n<style scoped>\n    .dataframe tbody tr th:only-of-type {\n        vertical-align: middle;\n    }\n\n    .dataframe tbody tr th {\n        vertical-align: top;\n    }\n\n    .dataframe thead th {\n        text-align: right;\n    }\n</style>\n<table border=\"1\" class=\"dataframe\">\n  <thead>\n    <tr style=\"text-align: right;\">\n      <th></th>\n      <th>Identifier</th>\n      <th>Number Of Trees</th>\n      <th>Site Name</th>\n      <th>Contract Area</th>\n      <th>Scientific Name</th>\n      <th>Inspection Date</th>\n      <th>Inspection Due Date</th>\n      <th>Height In Metres</th>\n      <th>Spread In Metres</th>\n      <th>Diameter In Centimetres At Breast Height</th>\n      <th>Ward Code</th>\n      <th>Ward Name</th>\n      <th>Easting</th>\n      <th>Northing</th>\n      <th>Longitude</th>\n      <th>Latitude</th>\n      <th>Location</th>\n    </tr>\n  </thead>\n  <tbody>\n    <tr>\n      <th>0</th>\n      <td>00060053</td>\n      <td>1.0</td>\n      <td>Russell Nurseries Estate</td>\n      <td>Housing</td>\n      <td>Vacant Tree Pit</td>\n      <td>NaT</td>\n      <td>NaN</td>\n      <td>NaN</td>\n      <td>NaN</td>\n      <td>NaN</td>\n      <td>E05000135</td>\n      <td>Hampstead Town</td>\n      <td>527305</td>\n      <td>185240</td>\n      <td>-0.165240</td>\n      <td>51.551693</td>\n      <td>(51.551693, -0.16524)</td>\n    </tr>\n    <tr>\n      <th>1</th>\n      <td>00057855</td>\n      <td>1.0</td>\n      <td>BRECKNOCK JMI (E)</td>\n      <td>Education</td>\n      <td>Vacant Tree Pit</td>\n      <td>2019-07-17</td>\n      <td>2022/2023</td>\n      <td>NaN</td>\n      <td>NaN</td>\n      <td>NaN</td>\n      <td>E05000131</td>\n      <td>Cantelowes</td>\n      <td>529923</td>\n      <td>184782</td>\n      <td>-0.127681</td>\n      <td>51.546984</td>\n      <td>(51.546984, -0.127681)</td>\n    </tr>\n    <tr>\n      <th>3</th>\n      <td>00059915</td>\n      <td>1.0</td>\n      <td>ROSARY RC JMI (E)</td>\n      <td>Education</td>\n      <td>Betula jacquemontii</td>\n      <td>NaT</td>\n      <td>NaN</td>\n      <td>4.0</td>\n      <td>1.0</td>\n      <td>6.0</td>\n      <td>E05000135</td>\n      <td>Hampstead Town</td>\n      <td>527249</td>\n      <td>185261</td>\n      <td>-0.166051</td>\n      <td>51.551901</td>\n      <td>(51.551901, -0.166051)</td>\n    </tr>\n    <tr>\n      <th>4</th>\n      <td>00010762</td>\n      <td>1.0</td>\n      <td>Holly Lodge Estate</td>\n      <td>Housing</td>\n      <td>Ilex x altaclarensis</td>\n      <td>2017-06-14</td>\n      <td>2020/2021</td>\n      <td>14.0</td>\n      <td>6.0</td>\n      <td>26.0</td>\n      <td>E05000137</td>\n      <td>Highgate</td>\n      <td>528414</td>\n      <td>186770</td>\n      <td>-0.148704</td>\n      <td>51.565198</td>\n      <td>(51.565198, -0.148704)</td>\n    </tr>\n    <tr>\n      <th>5</th>\n      <td>00007523</td>\n      <td>1.0</td>\n      <td>Westcroft Estate 1</td>\n      <td>Housing</td>\n      <td>Betula pendula</td>\n      <td>2018-08-06</td>\n      <td>2021/2022</td>\n      <td>9.0</td>\n      <td>7.0</td>\n      <td>29.0</td>\n      <td>NaN</td>\n      <td>NaN</td>\n      <td>524253</td>\n      <td>185982</td>\n      <td>-0.208975</td>\n      <td>51.559049</td>\n      <td>(51.559049, -0.208975)</td>\n    </tr>\n    <tr>\n      <th>...</th>\n      <td>...</td>\n      <td>...</td>\n      <td>...</td>\n      <td>...</td>\n      <td>...</td>\n      <td>...</td>\n      <td>...</td>\n      <td>...</td>\n      <td>...</td>\n      <td>...</td>\n      <td>...</td>\n      <td>...</td>\n      <td>...</td>\n      <td>...</td>\n      <td>...</td>\n      <td>...</td>\n      <td>...</td>\n    </tr>\n    <tr>\n      <th>23439</th>\n      <td>00057455</td>\n      <td>1.0</td>\n      <td>KILBURN GRANGE, MESSINA AVE (LS)</td>\n      <td>Parks</td>\n      <td>Sorbus aria</td>\n      <td>2017-03-28</td>\n      <td>2019/2020</td>\n      <td>2.0</td>\n      <td>1.0</td>\n      <td>6.0</td>\n      <td>E05000140</td>\n      <td>Kilburn</td>\n      <td>525130</td>\n      <td>184418</td>\n      <td>-0.196884</td>\n      <td>51.544796</td>\n      <td>(51.544796, -0.196884)</td>\n    </tr>\n    <tr>\n      <th>23440</th>\n      <td>00015494</td>\n      <td>1.0</td>\n      <td>OSSULSTON STREET</td>\n      <td>Highways</td>\n      <td>Sorbus aria 'Majestica'</td>\n      <td>2019-10-28</td>\n      <td>2022/2023</td>\n      <td>12.0</td>\n      <td>6.0</td>\n      <td>48.0</td>\n      <td>E05000143</td>\n      <td>St Pancras and Somers Town</td>\n      <td>529758</td>\n      <td>183095</td>\n      <td>-0.130667</td>\n      <td>51.531863</td>\n      <td>(51.531863, -0.130667)</td>\n    </tr>\n    <tr>\n      <th>23441</th>\n      <td>00001693</td>\n      <td>1.0</td>\n      <td>BELMONT STREET</td>\n      <td>Highways</td>\n      <td>Platanus x hispanica</td>\n      <td>2017-07-31</td>\n      <td>2020/2021</td>\n      <td>18.0</td>\n      <td>10.0</td>\n      <td>57.0</td>\n      <td>E05000136</td>\n      <td>Haverstock</td>\n      <td>528302</td>\n      <td>184457</td>\n      <td>-0.151163</td>\n      <td>51.544432</td>\n      <td>(51.544432, -0.151163)</td>\n    </tr>\n    <tr>\n      <th>23442</th>\n      <td>00020342</td>\n      <td>1.0</td>\n      <td>Templar House Estate</td>\n      <td>Housing</td>\n      <td>Tilia europaea</td>\n      <td>2018-11-05</td>\n      <td>2021/2022</td>\n      <td>20.0</td>\n      <td>8.0</td>\n      <td>40.0</td>\n      <td>E05000132</td>\n      <td>Fortune Green</td>\n      <td>524615</td>\n      <td>184714</td>\n      <td>-0.204206</td>\n      <td>51.547573</td>\n      <td>(51.547573, -0.204206)</td>\n    </tr>\n    <tr>\n      <th>23443</th>\n      <td>00013369</td>\n      <td>1.0</td>\n      <td>LYNDHURST ROAD</td>\n      <td>Highways</td>\n      <td>Tilia europaea</td>\n      <td>2018-06-08</td>\n      <td>2021/2022</td>\n      <td>15.0</td>\n      <td>6.0</td>\n      <td>77.0</td>\n      <td>E05000135</td>\n      <td>Hampstead Town</td>\n      <td>526738</td>\n      <td>185304</td>\n      <td>-0.173397</td>\n      <td>51.552397</td>\n      <td>(51.552397, -0.173397)</td>\n    </tr>\n  </tbody>\n</table>\n<p>23388 rows × 17 columns</p>\n</div>"
     },
     "execution_count": 87,
     "metadata": {},
     "output_type": "execute_result"
    }
   ],
   "source": [
    "# Remove null Northings\n",
    "geo_trees.dropna(subset=['Northing'])\n",
    "geo_trees"
   ]
  },
  {
   "cell_type": "code",
   "execution_count": 88,
   "id": "c77858c5-99e7-4f1f-affa-bd2370b9aed8",
   "metadata": {
    "ExecuteTime": {
     "end_time": "2023-12-14T16:54:38.865700400Z",
     "start_time": "2023-12-14T16:54:38.387595500Z"
    }
   },
   "outputs": [
    {
     "data": {
      "text/plain": "      Identifier  Number Of Trees                         Site Name  \\\n0       00060053              1.0          Russell Nurseries Estate   \n1       00057855              1.0                 BRECKNOCK JMI (E)   \n3       00059915              1.0                 ROSARY RC JMI (E)   \n4       00010762              1.0                Holly Lodge Estate   \n5       00007523              1.0                Westcroft Estate 1   \n...          ...              ...                               ...   \n23439   00057455              1.0  KILBURN GRANGE, MESSINA AVE (LS)   \n23440   00015494              1.0                  OSSULSTON STREET   \n23441   00001693              1.0                    BELMONT STREET   \n23442   00020342              1.0              Templar House Estate   \n23443   00013369              1.0                    LYNDHURST ROAD   \n\n      Contract Area          Scientific Name Inspection Date  \\\n0           Housing          Vacant Tree Pit             NaT   \n1         Education          Vacant Tree Pit      2019-07-17   \n3         Education      Betula jacquemontii             NaT   \n4           Housing     Ilex x altaclarensis      2017-06-14   \n5           Housing           Betula pendula      2018-08-06   \n...             ...                      ...             ...   \n23439         Parks              Sorbus aria      2017-03-28   \n23440      Highways  Sorbus aria 'Majestica'      2019-10-28   \n23441      Highways     Platanus x hispanica      2017-07-31   \n23442       Housing           Tilia europaea      2018-11-05   \n23443      Highways           Tilia europaea      2018-06-08   \n\n      Inspection Due Date  Height In Metres  Spread In Metres  \\\n0                     NaN               NaN               NaN   \n1               2022/2023               NaN               NaN   \n3                     NaN               4.0               1.0   \n4               2020/2021              14.0               6.0   \n5               2021/2022               9.0               7.0   \n...                   ...               ...               ...   \n23439           2019/2020               2.0               1.0   \n23440           2022/2023              12.0               6.0   \n23441           2020/2021              18.0              10.0   \n23442           2021/2022              20.0               8.0   \n23443           2021/2022              15.0               6.0   \n\n       Diameter In Centimetres At Breast Height  Ward Code  \\\n0                                           NaN  E05000135   \n1                                           NaN  E05000131   \n3                                           6.0  E05000135   \n4                                          26.0  E05000137   \n5                                          29.0        NaN   \n...                                         ...        ...   \n23439                                       6.0  E05000140   \n23440                                      48.0  E05000143   \n23441                                      57.0  E05000136   \n23442                                      40.0  E05000132   \n23443                                      77.0  E05000135   \n\n                        Ward Name  Easting  Northing  Longitude   Latitude  \\\n0                  Hampstead Town   527305    185240  -0.165240  51.551693   \n1                      Cantelowes   529923    184782  -0.127681  51.546984   \n3                  Hampstead Town   527249    185261  -0.166051  51.551901   \n4                        Highgate   528414    186770  -0.148704  51.565198   \n5                             NaN   524253    185982  -0.208975  51.559049   \n...                           ...      ...       ...        ...        ...   \n23439                     Kilburn   525130    184418  -0.196884  51.544796   \n23440  St Pancras and Somers Town   529758    183095  -0.130667  51.531863   \n23441                  Haverstock   528302    184457  -0.151163  51.544432   \n23442               Fortune Green   524615    184714  -0.204206  51.547573   \n23443              Hampstead Town   526738    185304  -0.173397  51.552397   \n\n                     Location  \n0       (51.551693, -0.16524)  \n1      (51.546984, -0.127681)  \n3      (51.551901, -0.166051)  \n4      (51.565198, -0.148704)  \n5      (51.559049, -0.208975)  \n...                       ...  \n23439  (51.544796, -0.196884)  \n23440  (51.531863, -0.130667)  \n23441  (51.544432, -0.151163)  \n23442  (51.547573, -0.204206)  \n23443  (51.552397, -0.173397)  \n\n[23388 rows x 17 columns]",
      "text/html": "<div>\n<style scoped>\n    .dataframe tbody tr th:only-of-type {\n        vertical-align: middle;\n    }\n\n    .dataframe tbody tr th {\n        vertical-align: top;\n    }\n\n    .dataframe thead th {\n        text-align: right;\n    }\n</style>\n<table border=\"1\" class=\"dataframe\">\n  <thead>\n    <tr style=\"text-align: right;\">\n      <th></th>\n      <th>Identifier</th>\n      <th>Number Of Trees</th>\n      <th>Site Name</th>\n      <th>Contract Area</th>\n      <th>Scientific Name</th>\n      <th>Inspection Date</th>\n      <th>Inspection Due Date</th>\n      <th>Height In Metres</th>\n      <th>Spread In Metres</th>\n      <th>Diameter In Centimetres At Breast Height</th>\n      <th>Ward Code</th>\n      <th>Ward Name</th>\n      <th>Easting</th>\n      <th>Northing</th>\n      <th>Longitude</th>\n      <th>Latitude</th>\n      <th>Location</th>\n    </tr>\n  </thead>\n  <tbody>\n    <tr>\n      <th>0</th>\n      <td>00060053</td>\n      <td>1.0</td>\n      <td>Russell Nurseries Estate</td>\n      <td>Housing</td>\n      <td>Vacant Tree Pit</td>\n      <td>NaT</td>\n      <td>NaN</td>\n      <td>NaN</td>\n      <td>NaN</td>\n      <td>NaN</td>\n      <td>E05000135</td>\n      <td>Hampstead Town</td>\n      <td>527305</td>\n      <td>185240</td>\n      <td>-0.165240</td>\n      <td>51.551693</td>\n      <td>(51.551693, -0.16524)</td>\n    </tr>\n    <tr>\n      <th>1</th>\n      <td>00057855</td>\n      <td>1.0</td>\n      <td>BRECKNOCK JMI (E)</td>\n      <td>Education</td>\n      <td>Vacant Tree Pit</td>\n      <td>2019-07-17</td>\n      <td>2022/2023</td>\n      <td>NaN</td>\n      <td>NaN</td>\n      <td>NaN</td>\n      <td>E05000131</td>\n      <td>Cantelowes</td>\n      <td>529923</td>\n      <td>184782</td>\n      <td>-0.127681</td>\n      <td>51.546984</td>\n      <td>(51.546984, -0.127681)</td>\n    </tr>\n    <tr>\n      <th>3</th>\n      <td>00059915</td>\n      <td>1.0</td>\n      <td>ROSARY RC JMI (E)</td>\n      <td>Education</td>\n      <td>Betula jacquemontii</td>\n      <td>NaT</td>\n      <td>NaN</td>\n      <td>4.0</td>\n      <td>1.0</td>\n      <td>6.0</td>\n      <td>E05000135</td>\n      <td>Hampstead Town</td>\n      <td>527249</td>\n      <td>185261</td>\n      <td>-0.166051</td>\n      <td>51.551901</td>\n      <td>(51.551901, -0.166051)</td>\n    </tr>\n    <tr>\n      <th>4</th>\n      <td>00010762</td>\n      <td>1.0</td>\n      <td>Holly Lodge Estate</td>\n      <td>Housing</td>\n      <td>Ilex x altaclarensis</td>\n      <td>2017-06-14</td>\n      <td>2020/2021</td>\n      <td>14.0</td>\n      <td>6.0</td>\n      <td>26.0</td>\n      <td>E05000137</td>\n      <td>Highgate</td>\n      <td>528414</td>\n      <td>186770</td>\n      <td>-0.148704</td>\n      <td>51.565198</td>\n      <td>(51.565198, -0.148704)</td>\n    </tr>\n    <tr>\n      <th>5</th>\n      <td>00007523</td>\n      <td>1.0</td>\n      <td>Westcroft Estate 1</td>\n      <td>Housing</td>\n      <td>Betula pendula</td>\n      <td>2018-08-06</td>\n      <td>2021/2022</td>\n      <td>9.0</td>\n      <td>7.0</td>\n      <td>29.0</td>\n      <td>NaN</td>\n      <td>NaN</td>\n      <td>524253</td>\n      <td>185982</td>\n      <td>-0.208975</td>\n      <td>51.559049</td>\n      <td>(51.559049, -0.208975)</td>\n    </tr>\n    <tr>\n      <th>...</th>\n      <td>...</td>\n      <td>...</td>\n      <td>...</td>\n      <td>...</td>\n      <td>...</td>\n      <td>...</td>\n      <td>...</td>\n      <td>...</td>\n      <td>...</td>\n      <td>...</td>\n      <td>...</td>\n      <td>...</td>\n      <td>...</td>\n      <td>...</td>\n      <td>...</td>\n      <td>...</td>\n      <td>...</td>\n    </tr>\n    <tr>\n      <th>23439</th>\n      <td>00057455</td>\n      <td>1.0</td>\n      <td>KILBURN GRANGE, MESSINA AVE (LS)</td>\n      <td>Parks</td>\n      <td>Sorbus aria</td>\n      <td>2017-03-28</td>\n      <td>2019/2020</td>\n      <td>2.0</td>\n      <td>1.0</td>\n      <td>6.0</td>\n      <td>E05000140</td>\n      <td>Kilburn</td>\n      <td>525130</td>\n      <td>184418</td>\n      <td>-0.196884</td>\n      <td>51.544796</td>\n      <td>(51.544796, -0.196884)</td>\n    </tr>\n    <tr>\n      <th>23440</th>\n      <td>00015494</td>\n      <td>1.0</td>\n      <td>OSSULSTON STREET</td>\n      <td>Highways</td>\n      <td>Sorbus aria 'Majestica'</td>\n      <td>2019-10-28</td>\n      <td>2022/2023</td>\n      <td>12.0</td>\n      <td>6.0</td>\n      <td>48.0</td>\n      <td>E05000143</td>\n      <td>St Pancras and Somers Town</td>\n      <td>529758</td>\n      <td>183095</td>\n      <td>-0.130667</td>\n      <td>51.531863</td>\n      <td>(51.531863, -0.130667)</td>\n    </tr>\n    <tr>\n      <th>23441</th>\n      <td>00001693</td>\n      <td>1.0</td>\n      <td>BELMONT STREET</td>\n      <td>Highways</td>\n      <td>Platanus x hispanica</td>\n      <td>2017-07-31</td>\n      <td>2020/2021</td>\n      <td>18.0</td>\n      <td>10.0</td>\n      <td>57.0</td>\n      <td>E05000136</td>\n      <td>Haverstock</td>\n      <td>528302</td>\n      <td>184457</td>\n      <td>-0.151163</td>\n      <td>51.544432</td>\n      <td>(51.544432, -0.151163)</td>\n    </tr>\n    <tr>\n      <th>23442</th>\n      <td>00020342</td>\n      <td>1.0</td>\n      <td>Templar House Estate</td>\n      <td>Housing</td>\n      <td>Tilia europaea</td>\n      <td>2018-11-05</td>\n      <td>2021/2022</td>\n      <td>20.0</td>\n      <td>8.0</td>\n      <td>40.0</td>\n      <td>E05000132</td>\n      <td>Fortune Green</td>\n      <td>524615</td>\n      <td>184714</td>\n      <td>-0.204206</td>\n      <td>51.547573</td>\n      <td>(51.547573, -0.204206)</td>\n    </tr>\n    <tr>\n      <th>23443</th>\n      <td>00013369</td>\n      <td>1.0</td>\n      <td>LYNDHURST ROAD</td>\n      <td>Highways</td>\n      <td>Tilia europaea</td>\n      <td>2018-06-08</td>\n      <td>2021/2022</td>\n      <td>15.0</td>\n      <td>6.0</td>\n      <td>77.0</td>\n      <td>E05000135</td>\n      <td>Hampstead Town</td>\n      <td>526738</td>\n      <td>185304</td>\n      <td>-0.173397</td>\n      <td>51.552397</td>\n      <td>(51.552397, -0.173397)</td>\n    </tr>\n  </tbody>\n</table>\n<p>23388 rows × 17 columns</p>\n</div>"
     },
     "execution_count": 88,
     "metadata": {},
     "output_type": "execute_result"
    }
   ],
   "source": [
    "# Remove 0 Northings.  \n",
    "geo_trees = geo_trees[geo_trees['Northing'] != 0]\n",
    "geo_trees"
   ]
  },
  {
   "cell_type": "code",
   "execution_count": 89,
   "id": "616a5473-5d71-486a-9ea0-c401fc7f4428",
   "metadata": {
    "ExecuteTime": {
     "end_time": "2023-12-14T16:54:38.867235800Z",
     "start_time": "2023-12-14T16:54:38.416737Z"
    }
   },
   "outputs": [
    {
     "name": "stdout",
     "output_type": "stream",
     "text": [
      "Number of rows before removal: 23444\n",
      "After removal of 0 and null geolocation data: 23388\n"
     ]
    },
    {
     "data": {
      "text/plain": "23388"
     },
     "execution_count": 89,
     "metadata": {},
     "output_type": "execute_result"
    }
   ],
   "source": [
    "# Confirm how many rows we have\n",
    "print(f\"Number of rows before removal: {trees.shape[0]}\\nAfter removal of 0 and null geolocation data: {geo_trees.shape[0]}\")\n",
    "geo_trees.shape[0]"
   ]
  },
  {
   "cell_type": "markdown",
   "id": "a63dbcfc-e781-4812-9a10-1cf5be028dae",
   "metadata": {},
   "source": [
    "<hr/>"
   ]
  },
  {
   "cell_type": "markdown",
   "id": "d1e84a3c-7eed-408a-a724-3944d89e0755",
   "metadata": {},
   "source": [
    "### 7.2 Plot Map of Trees\n",
    "Now make the plot.  Do a scatter plot of Northing vs Easting. You should obtain an outline of the map of Camden. Compare that outline with a real map of Camden (use good old Google Maps!). You’ll be able to spot the trees that should not be in that dataset from there!\n",
    "\n",
    "<div style=\"background-color:lemonchiffon; border:1px solid; padding:5px; margin:5px; font-weight:bold\"><font color=\"crimson\">\n",
    "TODO: Complete the following code cell\n",
    "    </font></div>"
   ]
  },
  {
   "cell_type": "code",
   "execution_count": 90,
   "id": "b51e227f-bd09-4064-9f60-be766962646d",
   "metadata": {
    "ExecuteTime": {
     "end_time": "2023-12-14T16:54:39.117572Z",
     "start_time": "2023-12-14T16:54:38.433329600Z"
    }
   },
   "outputs": [
    {
     "data": {
      "text/plain": "<Figure size 640x480 with 1 Axes>",
      "image/png": "[encoded data removed]"
     },
     "metadata": {},
     "output_type": "display_data"
    }
   ],
   "source": [
    "# Plot the trees on a map\n",
    "plt.scatter(geo_trees['Easting'], geo_trees['Northing'] )\n",
    "plt.title('Scatter Plot of Trees in Camden')\n",
    "plt.xlabel('Easting')\n",
    "plt.ylabel('Northing')\n",
    "plt.grid(True)"
   ]
  },
  {
   "cell_type": "markdown",
   "id": "6914e59e-aaeb-4b9b-8a84-b4007e2ad747",
   "metadata": {},
   "source": [
    "### 7.3 Find Trees Outside Camden\n",
    "From the scatter plot, you should be able to determine how to select the rows from the trees data set containing the offending trees (using the Easting and Northing values)\n",
    "\n",
    "Select the rows containing trees outside of Camden.  Use the filter technique again.\n",
    "\n",
    "<div style=\"background-color:lemonchiffon; border:1px solid; padding:5px; margin:5px; font-weight:bold\"><font color=\"crimson\">\n",
    "TODO: Complete the following code cells\n",
    "    </font></div>"
   ]
  },
  {
   "cell_type": "code",
   "execution_count": 91,
   "id": "4b992a8f-d5be-4adb-a383-4f8e5505b2ed",
   "metadata": {
    "ExecuteTime": {
     "end_time": "2023-12-14T16:54:39.404466800Z",
     "start_time": "2023-12-14T16:54:38.762441600Z"
    }
   },
   "outputs": [
    {
     "name": "stdout",
     "output_type": "stream",
     "text": [
      "Rows containing trees inside of Camden:\n"
     ]
    },
    {
     "data": {
      "text/plain": "      Identifier  Number Of Trees                         Site Name  \\\n0       00060053              1.0          Russell Nurseries Estate   \n1       00057855              1.0                 BRECKNOCK JMI (E)   \n3       00059915              1.0                 ROSARY RC JMI (E)   \n4       00010762              1.0                Holly Lodge Estate   \n5       00007523              1.0                Westcroft Estate 1   \n...          ...              ...                               ...   \n23439   00057455              1.0  KILBURN GRANGE, MESSINA AVE (LS)   \n23440   00015494              1.0                  OSSULSTON STREET   \n23441   00001693              1.0                    BELMONT STREET   \n23442   00020342              1.0              Templar House Estate   \n23443   00013369              1.0                    LYNDHURST ROAD   \n\n      Contract Area          Scientific Name Inspection Date  \\\n0           Housing          Vacant Tree Pit             NaT   \n1         Education          Vacant Tree Pit      2019-07-17   \n3         Education      Betula jacquemontii             NaT   \n4           Housing     Ilex x altaclarensis      2017-06-14   \n5           Housing           Betula pendula      2018-08-06   \n...             ...                      ...             ...   \n23439         Parks              Sorbus aria      2017-03-28   \n23440      Highways  Sorbus aria 'Majestica'      2019-10-28   \n23441      Highways     Platanus x hispanica      2017-07-31   \n23442       Housing           Tilia europaea      2018-11-05   \n23443      Highways           Tilia europaea      2018-06-08   \n\n      Inspection Due Date  Height In Metres  Spread In Metres  \\\n0                     NaN               NaN               NaN   \n1               2022/2023               NaN               NaN   \n3                     NaN               4.0               1.0   \n4               2020/2021              14.0               6.0   \n5               2021/2022               9.0               7.0   \n...                   ...               ...               ...   \n23439           2019/2020               2.0               1.0   \n23440           2022/2023              12.0               6.0   \n23441           2020/2021              18.0              10.0   \n23442           2021/2022              20.0               8.0   \n23443           2021/2022              15.0               6.0   \n\n       Diameter In Centimetres At Breast Height  Ward Code  \\\n0                                           NaN  E05000135   \n1                                           NaN  E05000131   \n3                                           6.0  E05000135   \n4                                          26.0  E05000137   \n5                                          29.0        NaN   \n...                                         ...        ...   \n23439                                       6.0  E05000140   \n23440                                      48.0  E05000143   \n23441                                      57.0  E05000136   \n23442                                      40.0  E05000132   \n23443                                      77.0  E05000135   \n\n                        Ward Name  Easting  Northing  Longitude   Latitude  \\\n0                  Hampstead Town   527305    185240  -0.165240  51.551693   \n1                      Cantelowes   529923    184782  -0.127681  51.546984   \n3                  Hampstead Town   527249    185261  -0.166051  51.551901   \n4                        Highgate   528414    186770  -0.148704  51.565198   \n5                             NaN   524253    185982  -0.208975  51.559049   \n...                           ...      ...       ...        ...        ...   \n23439                     Kilburn   525130    184418  -0.196884  51.544796   \n23440  St Pancras and Somers Town   529758    183095  -0.130667  51.531863   \n23441                  Haverstock   528302    184457  -0.151163  51.544432   \n23442               Fortune Green   524615    184714  -0.204206  51.547573   \n23443              Hampstead Town   526738    185304  -0.173397  51.552397   \n\n                     Location  \n0       (51.551693, -0.16524)  \n1      (51.546984, -0.127681)  \n3      (51.551901, -0.166051)  \n4      (51.565198, -0.148704)  \n5      (51.559049, -0.208975)  \n...                       ...  \n23439  (51.544796, -0.196884)  \n23440  (51.531863, -0.130667)  \n23441  (51.544432, -0.151163)  \n23442  (51.547573, -0.204206)  \n23443  (51.552397, -0.173397)  \n\n[23380 rows x 17 columns]",
      "text/html": "<div>\n<style scoped>\n    .dataframe tbody tr th:only-of-type {\n        vertical-align: middle;\n    }\n\n    .dataframe tbody tr th {\n        vertical-align: top;\n    }\n\n    .dataframe thead th {\n        text-align: right;\n    }\n</style>\n<table border=\"1\" class=\"dataframe\">\n  <thead>\n    <tr style=\"text-align: right;\">\n      <th></th>\n      <th>Identifier</th>\n      <th>Number Of Trees</th>\n      <th>Site Name</th>\n      <th>Contract Area</th>\n      <th>Scientific Name</th>\n      <th>Inspection Date</th>\n      <th>Inspection Due Date</th>\n      <th>Height In Metres</th>\n      <th>Spread In Metres</th>\n      <th>Diameter In Centimetres At Breast Height</th>\n      <th>Ward Code</th>\n      <th>Ward Name</th>\n      <th>Easting</th>\n      <th>Northing</th>\n      <th>Longitude</th>\n      <th>Latitude</th>\n      <th>Location</th>\n    </tr>\n  </thead>\n  <tbody>\n    <tr>\n      <th>0</th>\n      <td>00060053</td>\n      <td>1.0</td>\n      <td>Russell Nurseries Estate</td>\n      <td>Housing</td>\n      <td>Vacant Tree Pit</td>\n      <td>NaT</td>\n      <td>NaN</td>\n      <td>NaN</td>\n      <td>NaN</td>\n      <td>NaN</td>\n      <td>E05000135</td>\n      <td>Hampstead Town</td>\n      <td>527305</td>\n      <td>185240</td>\n      <td>-0.165240</td>\n      <td>51.551693</td>\n      <td>(51.551693, -0.16524)</td>\n    </tr>\n    <tr>\n      <th>1</th>\n      <td>00057855</td>\n      <td>1.0</td>\n      <td>BRECKNOCK JMI (E)</td>\n      <td>Education</td>\n      <td>Vacant Tree Pit</td>\n      <td>2019-07-17</td>\n      <td>2022/2023</td>\n      <td>NaN</td>\n      <td>NaN</td>\n      <td>NaN</td>\n      <td>E05000131</td>\n      <td>Cantelowes</td>\n      <td>529923</td>\n      <td>184782</td>\n      <td>-0.127681</td>\n      <td>51.546984</td>\n      <td>(51.546984, -0.127681)</td>\n    </tr>\n    <tr>\n      <th>3</th>\n      <td>00059915</td>\n      <td>1.0</td>\n      <td>ROSARY RC JMI (E)</td>\n      <td>Education</td>\n      <td>Betula jacquemontii</td>\n      <td>NaT</td>\n      <td>NaN</td>\n      <td>4.0</td>\n      <td>1.0</td>\n      <td>6.0</td>\n      <td>E05000135</td>\n      <td>Hampstead Town</td>\n      <td>527249</td>\n      <td>185261</td>\n      <td>-0.166051</td>\n      <td>51.551901</td>\n      <td>(51.551901, -0.166051)</td>\n    </tr>\n    <tr>\n      <th>4</th>\n      <td>00010762</td>\n      <td>1.0</td>\n      <td>Holly Lodge Estate</td>\n      <td>Housing</td>\n      <td>Ilex x altaclarensis</td>\n      <td>2017-06-14</td>\n      <td>2020/2021</td>\n      <td>14.0</td>\n      <td>6.0</td>\n      <td>26.0</td>\n      <td>E05000137</td>\n      <td>Highgate</td>\n      <td>528414</td>\n      <td>186770</td>\n      <td>-0.148704</td>\n      <td>51.565198</td>\n      <td>(51.565198, -0.148704)</td>\n    </tr>\n    <tr>\n      <th>5</th>\n      <td>00007523</td>\n      <td>1.0</td>\n      <td>Westcroft Estate 1</td>\n      <td>Housing</td>\n      <td>Betula pendula</td>\n      <td>2018-08-06</td>\n      <td>2021/2022</td>\n      <td>9.0</td>\n      <td>7.0</td>\n      <td>29.0</td>\n      <td>NaN</td>\n      <td>NaN</td>\n      <td>524253</td>\n      <td>185982</td>\n      <td>-0.208975</td>\n      <td>51.559049</td>\n      <td>(51.559049, -0.208975)</td>\n    </tr>\n    <tr>\n      <th>...</th>\n      <td>...</td>\n      <td>...</td>\n      <td>...</td>\n      <td>...</td>\n      <td>...</td>\n      <td>...</td>\n      <td>...</td>\n      <td>...</td>\n      <td>...</td>\n      <td>...</td>\n      <td>...</td>\n      <td>...</td>\n      <td>...</td>\n      <td>...</td>\n      <td>...</td>\n      <td>...</td>\n      <td>...</td>\n    </tr>\n    <tr>\n      <th>23439</th>\n      <td>00057455</td>\n      <td>1.0</td>\n      <td>KILBURN GRANGE, MESSINA AVE (LS)</td>\n      <td>Parks</td>\n      <td>Sorbus aria</td>\n      <td>2017-03-28</td>\n      <td>2019/2020</td>\n      <td>2.0</td>\n      <td>1.0</td>\n      <td>6.0</td>\n      <td>E05000140</td>\n      <td>Kilburn</td>\n      <td>525130</td>\n      <td>184418</td>\n      <td>-0.196884</td>\n      <td>51.544796</td>\n      <td>(51.544796, -0.196884)</td>\n    </tr>\n    <tr>\n      <th>23440</th>\n      <td>00015494</td>\n      <td>1.0</td>\n      <td>OSSULSTON STREET</td>\n      <td>Highways</td>\n      <td>Sorbus aria 'Majestica'</td>\n      <td>2019-10-28</td>\n      <td>2022/2023</td>\n      <td>12.0</td>\n      <td>6.0</td>\n      <td>48.0</td>\n      <td>E05000143</td>\n      <td>St Pancras and Somers Town</td>\n      <td>529758</td>\n      <td>183095</td>\n      <td>-0.130667</td>\n      <td>51.531863</td>\n      <td>(51.531863, -0.130667)</td>\n    </tr>\n    <tr>\n      <th>23441</th>\n      <td>00001693</td>\n      <td>1.0</td>\n      <td>BELMONT STREET</td>\n      <td>Highways</td>\n      <td>Platanus x hispanica</td>\n      <td>2017-07-31</td>\n      <td>2020/2021</td>\n      <td>18.0</td>\n      <td>10.0</td>\n      <td>57.0</td>\n      <td>E05000136</td>\n      <td>Haverstock</td>\n      <td>528302</td>\n      <td>184457</td>\n      <td>-0.151163</td>\n      <td>51.544432</td>\n      <td>(51.544432, -0.151163)</td>\n    </tr>\n    <tr>\n      <th>23442</th>\n      <td>00020342</td>\n      <td>1.0</td>\n      <td>Templar House Estate</td>\n      <td>Housing</td>\n      <td>Tilia europaea</td>\n      <td>2018-11-05</td>\n      <td>2021/2022</td>\n      <td>20.0</td>\n      <td>8.0</td>\n      <td>40.0</td>\n      <td>E05000132</td>\n      <td>Fortune Green</td>\n      <td>524615</td>\n      <td>184714</td>\n      <td>-0.204206</td>\n      <td>51.547573</td>\n      <td>(51.547573, -0.204206)</td>\n    </tr>\n    <tr>\n      <th>23443</th>\n      <td>00013369</td>\n      <td>1.0</td>\n      <td>LYNDHURST ROAD</td>\n      <td>Highways</td>\n      <td>Tilia europaea</td>\n      <td>2018-06-08</td>\n      <td>2021/2022</td>\n      <td>15.0</td>\n      <td>6.0</td>\n      <td>77.0</td>\n      <td>E05000135</td>\n      <td>Hampstead Town</td>\n      <td>526738</td>\n      <td>185304</td>\n      <td>-0.173397</td>\n      <td>51.552397</td>\n      <td>(51.552397, -0.173397)</td>\n    </tr>\n  </tbody>\n</table>\n<p>23380 rows × 17 columns</p>\n</div>"
     },
     "execution_count": 91,
     "metadata": {},
     "output_type": "execute_result"
    }
   ],
   "source": [
    "# Select the outlier rows\n",
    "camden_boundary = {'min_easting': 523000, 'max_easting': 532000,\n",
    "                   'min_northing': 180000, 'max_northing': 188000}\n",
    "\n",
    "# Filter rows outside of Camden\n",
    "inside_camden = geo_trees[\n",
    "    (geo_trees['Easting'] > camden_boundary['min_easting']) &\n",
    "    (geo_trees['Easting'] < camden_boundary['max_easting']) &\n",
    "    (geo_trees['Northing'] > camden_boundary['min_northing']) &\n",
    "    (geo_trees['Northing'] < camden_boundary['max_northing'])\n",
    "]\n",
    "\n",
    "print(\"Rows containing trees inside of Camden:\")\n",
    "inside_camden"
   ]
  },
  {
   "cell_type": "code",
   "execution_count": 92,
   "outputs": [
    {
     "name": "stdout",
     "output_type": "stream",
     "text": [
      "Rows containing trees outside of Camden:\n"
     ]
    },
    {
     "data": {
      "text/plain": "      Identifier  Number Of Trees                  Site Name Contract Area  \\\n78      00044991              1.0          Bells Hill Estate       Housing   \n298     00045000              1.0  Estate 167 Furzehill Road       Housing   \n660     00044992              1.0          Bells Hill Estate       Housing   \n1526    00044995              1.0          Bells Hill Estate       Housing   \n5392    00044990              1.0          Bells Hill Estate       Housing   \n18069   00044993              1.0          Bells Hill Estate       Housing   \n18078   00044601              1.0          Bells Hill Estate       Housing   \n19532   00044988              1.0          Bells Hill Estate       Housing   \n\n              Scientific Name Inspection Date Inspection Due Date  \\\n78         Fraxinus excelsior      2017-04-28           2020/2021   \n298          Pinus sylvestris      2017-04-28           2020/2021   \n660        Crataegus monogyna      2017-04-28           2020/2021   \n1526       Fraxinus excelsior      2017-04-28           2020/2021   \n5392   Aesculus hippocastanum      2017-04-28           2020/2021   \n18069           Tilia cordata      2017-04-28           2020/2021   \n18078           Tilia cordata      2017-04-28           2020/2021   \n19532           Tilia cordata      2017-04-28           2020/2021   \n\n       Height In Metres  Spread In Metres  \\\n78                 20.0              10.0   \n298                10.0               3.0   \n660                 4.0               4.0   \n1526               18.0              12.0   \n5392               22.0              12.0   \n18069              23.0              14.0   \n18078              21.0              12.0   \n19532              21.0              12.0   \n\n       Diameter In Centimetres At Breast Height Ward Code Ward Name  Easting  \\\n78                                         49.0       NaN       NaN   523883   \n298                                        41.0       NaN       NaN   520367   \n660                                         7.0       NaN       NaN   523875   \n1526                                       54.0       NaN       NaN   523936   \n5392                                       67.0       NaN       NaN   523889   \n18069                                      89.0       NaN       NaN   523867   \n18078                                      56.0       NaN       NaN   523905   \n19532                                      65.0       NaN       NaN   523909   \n\n       Northing  Longitude   Latitude                Location  \n78       196179  -0.210713  51.650765  (51.650765, -0.210713)  \n298      195595  -0.261719  51.646283  (51.646283, -0.261719)  \n660      196170  -0.210830  51.650690    (51.65069, -0.21083)  \n1526     196127  -0.209969  51.650287  (51.650287, -0.209969)  \n5392     196188  -0.210618  51.650843  (51.650843, -0.210618)  \n18069    196159  -0.210957  51.650590   (51.65059, -0.210957)  \n18078    196174  -0.210394  51.650719  (51.650719, -0.210394)  \n19532    196169  -0.210340  51.650676   (51.650676, -0.21034)  ",
      "text/html": "<div>\n<style scoped>\n    .dataframe tbody tr th:only-of-type {\n        vertical-align: middle;\n    }\n\n    .dataframe tbody tr th {\n        vertical-align: top;\n    }\n\n    .dataframe thead th {\n        text-align: right;\n    }\n</style>\n<table border=\"1\" class=\"dataframe\">\n  <thead>\n    <tr style=\"text-align: right;\">\n      <th></th>\n      <th>Identifier</th>\n      <th>Number Of Trees</th>\n      <th>Site Name</th>\n      <th>Contract Area</th>\n      <th>Scientific Name</th>\n      <th>Inspection Date</th>\n      <th>Inspection Due Date</th>\n      <th>Height In Metres</th>\n      <th>Spread In Metres</th>\n      <th>Diameter In Centimetres At Breast Height</th>\n      <th>Ward Code</th>\n      <th>Ward Name</th>\n      <th>Easting</th>\n      <th>Northing</th>\n      <th>Longitude</th>\n      <th>Latitude</th>\n      <th>Location</th>\n    </tr>\n  </thead>\n  <tbody>\n    <tr>\n      <th>78</th>\n      <td>00044991</td>\n      <td>1.0</td>\n      <td>Bells Hill Estate</td>\n      <td>Housing</td>\n      <td>Fraxinus excelsior</td>\n      <td>2017-04-28</td>\n      <td>2020/2021</td>\n      <td>20.0</td>\n      <td>10.0</td>\n      <td>49.0</td>\n      <td>NaN</td>\n      <td>NaN</td>\n      <td>523883</td>\n      <td>196179</td>\n      <td>-0.210713</td>\n      <td>51.650765</td>\n      <td>(51.650765, -0.210713)</td>\n    </tr>\n    <tr>\n      <th>298</th>\n      <td>00045000</td>\n      <td>1.0</td>\n      <td>Estate 167 Furzehill Road</td>\n      <td>Housing</td>\n      <td>Pinus sylvestris</td>\n      <td>2017-04-28</td>\n      <td>2020/2021</td>\n      <td>10.0</td>\n      <td>3.0</td>\n      <td>41.0</td>\n      <td>NaN</td>\n      <td>NaN</td>\n      <td>520367</td>\n      <td>195595</td>\n      <td>-0.261719</td>\n      <td>51.646283</td>\n      <td>(51.646283, -0.261719)</td>\n    </tr>\n    <tr>\n      <th>660</th>\n      <td>00044992</td>\n      <td>1.0</td>\n      <td>Bells Hill Estate</td>\n      <td>Housing</td>\n      <td>Crataegus monogyna</td>\n      <td>2017-04-28</td>\n      <td>2020/2021</td>\n      <td>4.0</td>\n      <td>4.0</td>\n      <td>7.0</td>\n      <td>NaN</td>\n      <td>NaN</td>\n      <td>523875</td>\n      <td>196170</td>\n      <td>-0.210830</td>\n      <td>51.650690</td>\n      <td>(51.65069, -0.21083)</td>\n    </tr>\n    <tr>\n      <th>1526</th>\n      <td>00044995</td>\n      <td>1.0</td>\n      <td>Bells Hill Estate</td>\n      <td>Housing</td>\n      <td>Fraxinus excelsior</td>\n      <td>2017-04-28</td>\n      <td>2020/2021</td>\n      <td>18.0</td>\n      <td>12.0</td>\n      <td>54.0</td>\n      <td>NaN</td>\n      <td>NaN</td>\n      <td>523936</td>\n      <td>196127</td>\n      <td>-0.209969</td>\n      <td>51.650287</td>\n      <td>(51.650287, -0.209969)</td>\n    </tr>\n    <tr>\n      <th>5392</th>\n      <td>00044990</td>\n      <td>1.0</td>\n      <td>Bells Hill Estate</td>\n      <td>Housing</td>\n      <td>Aesculus hippocastanum</td>\n      <td>2017-04-28</td>\n      <td>2020/2021</td>\n      <td>22.0</td>\n      <td>12.0</td>\n      <td>67.0</td>\n      <td>NaN</td>\n      <td>NaN</td>\n      <td>523889</td>\n      <td>196188</td>\n      <td>-0.210618</td>\n      <td>51.650843</td>\n      <td>(51.650843, -0.210618)</td>\n    </tr>\n    <tr>\n      <th>18069</th>\n      <td>00044993</td>\n      <td>1.0</td>\n      <td>Bells Hill Estate</td>\n      <td>Housing</td>\n      <td>Tilia cordata</td>\n      <td>2017-04-28</td>\n      <td>2020/2021</td>\n      <td>23.0</td>\n      <td>14.0</td>\n      <td>89.0</td>\n      <td>NaN</td>\n      <td>NaN</td>\n      <td>523867</td>\n      <td>196159</td>\n      <td>-0.210957</td>\n      <td>51.650590</td>\n      <td>(51.65059, -0.210957)</td>\n    </tr>\n    <tr>\n      <th>18078</th>\n      <td>00044601</td>\n      <td>1.0</td>\n      <td>Bells Hill Estate</td>\n      <td>Housing</td>\n      <td>Tilia cordata</td>\n      <td>2017-04-28</td>\n      <td>2020/2021</td>\n      <td>21.0</td>\n      <td>12.0</td>\n      <td>56.0</td>\n      <td>NaN</td>\n      <td>NaN</td>\n      <td>523905</td>\n      <td>196174</td>\n      <td>-0.210394</td>\n      <td>51.650719</td>\n      <td>(51.650719, -0.210394)</td>\n    </tr>\n    <tr>\n      <th>19532</th>\n      <td>00044988</td>\n      <td>1.0</td>\n      <td>Bells Hill Estate</td>\n      <td>Housing</td>\n      <td>Tilia cordata</td>\n      <td>2017-04-28</td>\n      <td>2020/2021</td>\n      <td>21.0</td>\n      <td>12.0</td>\n      <td>65.0</td>\n      <td>NaN</td>\n      <td>NaN</td>\n      <td>523909</td>\n      <td>196169</td>\n      <td>-0.210340</td>\n      <td>51.650676</td>\n      <td>(51.650676, -0.21034)</td>\n    </tr>\n  </tbody>\n</table>\n</div>"
     },
     "execution_count": 92,
     "metadata": {},
     "output_type": "execute_result"
    }
   ],
   "source": [
    "print(\"Rows containing trees outside of Camden:\")\n",
    "geo_trees[~geo_trees['Identifier'].isin(inside_camden['Identifier'])]"
   ],
   "metadata": {
    "collapsed": false,
    "ExecuteTime": {
     "end_time": "2023-12-14T16:54:39.405502600Z",
     "start_time": "2023-12-14T16:54:38.810502Z"
    }
   },
   "id": "48181c7842fff059"
  },
  {
   "cell_type": "code",
   "execution_count": 93,
   "id": "0270dae9-9bcf-4b63-95cf-13b7c5184424",
   "metadata": {
    "ExecuteTime": {
     "end_time": "2023-12-14T16:54:39.437821600Z",
     "start_time": "2023-12-14T16:54:38.824975600Z"
    }
   },
   "outputs": [
    {
     "name": "stdout",
     "output_type": "stream",
     "text": [
      "Number of rows containing trees outside of Camden: 8\n",
      "Number of rows containing trees inside of Camden: 23380\n"
     ]
    }
   ],
   "source": [
    "# Confirm how many rows we have\n",
    "\n",
    "outside_camden = geo_trees.shape[0] - inside_camden.shape[0]\n",
    "print(f\"Number of rows containing trees outside of Camden: {outside_camden}\")\n",
    "print(f\"Number of rows containing trees inside of Camden: {inside_camden.shape[0]}\")"
   ]
  },
  {
   "cell_type": "code",
   "execution_count": 94,
   "outputs": [
    {
     "data": {
      "text/plain": "<Figure size 640x480 with 1 Axes>",
      "image/png": "[encoded data removed]"
     },
     "metadata": {},
     "output_type": "display_data"
    }
   ],
   "source": [
    "# Plot the trees on a map\n",
    "plt.scatter(inside_camden['Easting'], inside_camden['Northing'])\n",
    "plt.title('Scatter Plot of Trees in Camden')\n",
    "plt.xlabel('Easting')\n",
    "plt.ylabel('Northing')\n",
    "plt.grid(True)"
   ],
   "metadata": {
    "collapsed": false,
    "ExecuteTime": {
     "end_time": "2023-12-14T16:54:39.580355700Z",
     "start_time": "2023-12-14T16:54:38.840294900Z"
    }
   },
   "id": "7b780503ec105cde"
  },
  {
   "cell_type": "markdown",
   "id": "ee3f0cff-17bb-4f75-a92c-876c56e230c5",
   "metadata": {},
   "source": [
    "<hr/>\n",
    "\n",
    "### 7.4 Observations\n",
    "\n",
    "\n",
    "<div style=\"background-color:lemonchiffon; border:1px solid; padding:5px; margin:5px; font-weight:bold\"><font color=\"crimson\">\n",
    "TODO: Write down your observation about geolocation issues.\n",
    "    </font></div>\n"
   ]
  },
  {
   "cell_type": "markdown",
   "id": "3f5a1605-de7e-4cb7-8190-c643122c104e",
   "metadata": {},
   "source": [
    "ENTER MARKDOWN HERE\n",
    "I filtered out data that seemed tobe out of bounds according to google maps. I then confirmed with a scatter plot of the filtered data. The second plot confirmed my choices and it more closely resembled the reference on Google Maps."
   ]
  },
  {
   "cell_type": "markdown",
   "id": "0680cf79-2a3a-4e9c-8332-609680b69040",
   "metadata": {},
   "source": [
    "<hr/>"
   ]
  },
  {
   "cell_type": "markdown",
   "id": "2c6f941f-e14a-4a51-aa29-66010910009a",
   "metadata": {
    "tags": []
   },
   "source": [
    "## Task 8: Identify Unmatched Data\n",
    "We have multiple datasets that will need to be joined together to produce the analyses required by the Camden Parks and Open Spaces team.  The data will need to be joined in the following way:\n",
    "\n",
    "- Use the `Identifier` column in the trees dataset to match to the `Identifier` column in the environmental data set (so we can bring in the environmental data for each tree)\n",
    "- Use the `Scientific Name` column in the trees dataset to match to the `Scientific Name` column in the common names data set (so we can look up the `Common Name`)\n",
    "\n",
    "There may be mismatches in the data.  Of particular concern we want to check\n",
    "\n",
    "- That every tree in the trees dataset has matching environmental data in the environmental data set\n",
    "- That every environmental row in the environmental dataset has matching tree data in the tree data set\n",
    "- That every scientific name in the trees dataset has a matching common name in the common names data set\n",
    "\n",
    "We aren't too concerned about the reverse of the last scenario (if we have extra names in the common names dataset that aren't in the trees data set).  We don't expect Camden to have a specimen of every tree that exists!  \n",
    "\n",
    "There are a few ways this can be done, but one technique is to use the `isin` function to check if some column in one dataframe contains values that are in another column in another dataframe.  This creates a mask containing rows that match between the two dataframes:\n",
    "\n",
    "    mask = df1['column_name1'].isin(df2['column_name2'])\n",
    "    \n",
    "To select the non-matching rows, we can use Python's bitwise not operator ~:\n",
    "\n",
    "    mask = ~df1['column_name1'].isin(df2['column_name2'])\n",
    "    \n",
    "As we have seen before, the mask can be used to select that subset of rows back from the original dataframe."
   ]
  },
  {
   "cell_type": "markdown",
   "id": "1f5064f7-e956-4420-b80c-f14c2d2d3427",
   "metadata": {},
   "source": [
    "### 8.1 Find Trees that Don't have Matching Environmental Data\n",
    "<div style=\"background-color:lemonchiffon; border:1px solid; padding:5px; margin:5px; font-weight:bold\"><font color=\"crimson\">\n",
    "TODO: Complete the following code cells\n",
    "    </font></div>"
   ]
  },
  {
   "cell_type": "code",
   "execution_count": 95,
   "id": "ec5e5506-1c6f-4f33-92d1-420ea57b6da5",
   "metadata": {
    "ExecuteTime": {
     "end_time": "2023-12-14T16:54:39.651727800Z",
     "start_time": "2023-12-14T16:54:39.167392200Z"
    }
   },
   "outputs": [
    {
     "name": "stdout",
     "output_type": "stream",
     "text": [
      "Trees without matching environmental data:\n"
     ]
    },
    {
     "data": {
      "text/plain": "      Identifier  Number Of Trees                                Site Name  \\\n66      00059712              1.0                       Maiden Lane Estate   \n125     00048578              1.0                              BUCK STREET   \n1148    00006577              1.0                              FAWLEY ROAD   \n1998    00007366              1.0        FORTUNE GREEN RD, OPEN SPACE (LS)   \n2246    00014633              1.0                          Mortimer Estate   \n5478    00060382              1.0                       SHAFTESBURY AVENUE   \n10637   00002874              1.0                            BURGHLEY ROAD   \n10977   00055227              1.0                            BURGHLEY ROAD   \n11795   00016702              1.0            RED LION SQUARE, GARDENS (LS)   \n11856   00054744              1.0          Carrol & Sanderson Close Estate   \n12056   00003694              1.0              Estate 1-161 Burnham (cons)   \n12936   00054558              1.0        ST. MARY'S KILBURN C OF E JMI (E)   \n13248   00059317              1.0                ADELAIDE ROAD NATURE AREA   \n16815   00055884              1.0                         HONEYBOURNE ROAD   \n18690   00059963              1.0                   Ampthill Square Estate   \n18958   00059246              1.0  Belsize nature reserve, Russell Nursery   \n19606   00005127              1.0       CUMBERLAND MARKET, OPEN SPACE (LS)   \n20169   00017912              1.0                            SHERRIFF ROAD   \n20226   00047080              1.0                   Ampthill Square Estate   \n21287   00029059              1.0         Estate 1-20 Marrick House (cons)   \n22470   00012126              1.0                       KINGS COLLEGE ROAD   \n23301   00010784              1.0                       Holly Lodge Estate   \n23315   00056485              1.0                       WATERLOW PARK (LS)   \n\n      Contract Area                                    Scientific Name  \\\n66          Housing                                   Acer saccharinum   \n125        Highways                                   Sorbus aucuparia   \n1148       Highways                                     Tilia euchlora   \n1998          Parks                                    Ilex aquifolium   \n2246        Housing                                     Tilia europaea   \n5478       Highways                                    Vacant Tree Pit   \n10637      Highways                               Platanus x hispanica   \n10977      Highways                              Amelanchier lamarckii   \n11795         Parks                               Platanus x hispanica   \n11856       Housing                        Prunus unidentified species   \n12056       Housing                                   Acer platanoides   \n12936     Education                              Amelanchier lamarckii   \n13248         Parks                                         Stump Only   \n16815      Highways                     Acer pseudoplatanus 'Brilliant   \n18690       Housing  Vacant Tree Pit (planned: Parrotia persica van...   \n18958         Parks                                      Ulmus procera   \n19606         Parks                               Platanus x hispanica   \n20169      Highways                                 Tilia platyphyllos   \n20226       Housing                         Malus unidentified species   \n21287       Housing                                     Sambucus nigra   \n22470      Highways                                 Fraxinus excelsior   \n23301       Housing                                    Ilex aquifolium   \n23315         Parks                                 Fraxinus excelsior   \n\n      Inspection Date Inspection Due Date  Height In Metres  Spread In Metres  \\\n66         2019-05-28           2022/2023              12.0               5.0   \n125        2017-07-19           2020/2021               6.0               2.0   \n1148       2018-09-28           2021/2022              15.0               6.0   \n1998       2017-03-21           2019/2020               9.0               6.0   \n2246       2019-01-29           2021/2022              16.0              12.0   \n5478              NaT                 NaN               NaN               NaN   \n10637      2017-08-14           2020/2021              20.0               8.0   \n10977      2017-08-14           2020/2021               3.0               2.0   \n11795      2018-06-04           2021/2022              30.0              23.0   \n11856      2017-01-06           2020/2021               3.0               3.0   \n12056      2018-04-17           2021/2022               3.0               1.0   \n12936      2019-10-07           2022/2023               4.0               2.0   \n13248      2019-01-31           2021/2022               0.0               5.0   \n16815      2018-05-10           2021/2022               2.0               1.0   \n18690      2019-01-08           2022/2023               NaN               NaN   \n18958      2019-01-29           2021/2022               5.0               4.0   \n19606      2018-03-13           2020/2021              10.0               8.0   \n20169      2018-10-09           2021/2022               9.0               5.0   \n20226      2019-01-08           2022/2023               5.0               3.0   \n21287      2018-06-19           2021/2022               6.0               6.0   \n22470      2018-07-13           2021/2022              18.0              12.0   \n23301      2017-06-14           2020/2021               7.0               5.0   \n23315      2019-05-24           2022/2023              12.0               5.0   \n\n       Diameter In Centimetres At Breast Height  Ward Code  \\\n66                                         20.0  E05000131   \n125                                        10.0  E05000130   \n1148                                       38.0  E05000145   \n1998                                       44.0  E05000132   \n2246                                       47.0  E05000140   \n5478                                        NaN  E05000138   \n10637                                      52.0  E05000139   \n10977                                       5.0  E05000139   \n11795                                     165.0  E05000138   \n11856                                      13.0  E05000137   \n12056                                       6.0  E05000128   \n12936                                       8.0  E05000140   \n13248                                      50.0  E05000128   \n16815                                       4.0  E05000145   \n18690                                       NaN  E05000143   \n18958                                      11.0  E05000134   \n19606                                      38.0  E05000142   \n20169                                      42.0  E05000145   \n20226                                      16.0  E05000143   \n21287                                      39.0  E05000140   \n22470                                      48.0  E05000128   \n23301                                      20.0  E05000137   \n23315                                      16.0  E05000137   \n\n                            Ward Name  Easting  Northing  Longitude  \\\n66                         Cantelowes   529795    184142  -0.129750   \n125    Camden Town with Primrose Hill   528900    184020  -0.142698   \n1148                   West Hampstead   525572    185015  -0.190313   \n1998                    Fortune Green   525074    185541  -0.197304   \n2246                          Kilburn   525763    183613  -0.188060   \n5478        Holborn and Covent Garden   530073    181247  -0.126813   \n10637                    Kentish Town   529119    185889  -0.138863   \n10977                    Kentish Town   528920    185694  -0.141802   \n11795       Holborn and Covent Garden   530572    181701  -0.119460   \n11856                        Highgate   528661    185556  -0.145585   \n12056                         Belsize   527015    184315  -0.169763   \n12936                         Kilburn   525443    183919  -0.192552   \n13248                         Belsize   527577    184297  -0.161664   \n16815                  West Hampstead   525593    185050  -0.189987   \n18690      St Pancras and Somers Town   529216    183103  -0.138479   \n18958                      Gospel Oak   527523    185233  -0.162101   \n19606                   Regent's Park   528913    182814  -0.142959   \n20169                  West Hampstead   525265    184543  -0.194897   \n20226      St Pancras and Somers Town   529279    183106  -0.137573   \n21287                         Kilburn   525832    183583  -0.187075   \n22470                         Belsize   526999    184416  -0.169957   \n23301                        Highgate   528472    186812  -0.147845   \n23315                        Highgate   528730    187264  -0.143955   \n\n        Latitude                Location  \n66     51.541266   (51.541266, -0.12975)  \n125    51.540371  (51.540371, -0.142698)  \n1148   51.550062  (51.550062, -0.190313)  \n1998   51.554901  (51.554901, -0.197304)  \n2246   51.537424   (51.537424, -0.18806)  \n5478   51.515186  (51.515186, -0.126813)  \n10637  51.557120   (51.55712, -0.138863)  \n10977  51.555408  (51.555408, -0.141802)  \n11795  51.519146   (51.519146, -0.11946)  \n11856  51.554226  (51.554226, -0.145585)  \n12056  51.543451  (51.543451, -0.169763)  \n12936  51.540245  (51.540245, -0.192552)  \n13248  51.543163  (51.543163, -0.161664)  \n16815  51.550377  (51.550377, -0.189987)  \n18690  51.532058  (51.532058, -0.138479)  \n18958  51.551587  (51.551587, -0.162101)  \n19606  51.529527  (51.529527, -0.142959)  \n20169  51.545886  (51.545886, -0.194897)  \n20226  51.532073  (51.532073, -0.137573)  \n21287  51.537139  (51.537139, -0.187075)  \n22470  51.544363  (51.544363, -0.169957)  \n23301  51.565562  (51.565562, -0.147845)  \n23315  51.569567  (51.569567, -0.143955)  ",
      "text/html": "<div>\n<style scoped>\n    .dataframe tbody tr th:only-of-type {\n        vertical-align: middle;\n    }\n\n    .dataframe tbody tr th {\n        vertical-align: top;\n    }\n\n    .dataframe thead th {\n        text-align: right;\n    }\n</style>\n<table border=\"1\" class=\"dataframe\">\n  <thead>\n    <tr style=\"text-align: right;\">\n      <th></th>\n      <th>Identifier</th>\n      <th>Number Of Trees</th>\n      <th>Site Name</th>\n      <th>Contract Area</th>\n      <th>Scientific Name</th>\n      <th>Inspection Date</th>\n      <th>Inspection Due Date</th>\n      <th>Height In Metres</th>\n      <th>Spread In Metres</th>\n      <th>Diameter In Centimetres At Breast Height</th>\n      <th>Ward Code</th>\n      <th>Ward Name</th>\n      <th>Easting</th>\n      <th>Northing</th>\n      <th>Longitude</th>\n      <th>Latitude</th>\n      <th>Location</th>\n    </tr>\n  </thead>\n  <tbody>\n    <tr>\n      <th>66</th>\n      <td>00059712</td>\n      <td>1.0</td>\n      <td>Maiden Lane Estate</td>\n      <td>Housing</td>\n      <td>Acer saccharinum</td>\n      <td>2019-05-28</td>\n      <td>2022/2023</td>\n      <td>12.0</td>\n      <td>5.0</td>\n      <td>20.0</td>\n      <td>E05000131</td>\n      <td>Cantelowes</td>\n      <td>529795</td>\n      <td>184142</td>\n      <td>-0.129750</td>\n      <td>51.541266</td>\n      <td>(51.541266, -0.12975)</td>\n    </tr>\n    <tr>\n      <th>125</th>\n      <td>00048578</td>\n      <td>1.0</td>\n      <td>BUCK STREET</td>\n      <td>Highways</td>\n      <td>Sorbus aucuparia</td>\n      <td>2017-07-19</td>\n      <td>2020/2021</td>\n      <td>6.0</td>\n      <td>2.0</td>\n      <td>10.0</td>\n      <td>E05000130</td>\n      <td>Camden Town with Primrose Hill</td>\n      <td>528900</td>\n      <td>184020</td>\n      <td>-0.142698</td>\n      <td>51.540371</td>\n      <td>(51.540371, -0.142698)</td>\n    </tr>\n    <tr>\n      <th>1148</th>\n      <td>00006577</td>\n      <td>1.0</td>\n      <td>FAWLEY ROAD</td>\n      <td>Highways</td>\n      <td>Tilia euchlora</td>\n      <td>2018-09-28</td>\n      <td>2021/2022</td>\n      <td>15.0</td>\n      <td>6.0</td>\n      <td>38.0</td>\n      <td>E05000145</td>\n      <td>West Hampstead</td>\n      <td>525572</td>\n      <td>185015</td>\n      <td>-0.190313</td>\n      <td>51.550062</td>\n      <td>(51.550062, -0.190313)</td>\n    </tr>\n    <tr>\n      <th>1998</th>\n      <td>00007366</td>\n      <td>1.0</td>\n      <td>FORTUNE GREEN RD, OPEN SPACE (LS)</td>\n      <td>Parks</td>\n      <td>Ilex aquifolium</td>\n      <td>2017-03-21</td>\n      <td>2019/2020</td>\n      <td>9.0</td>\n      <td>6.0</td>\n      <td>44.0</td>\n      <td>E05000132</td>\n      <td>Fortune Green</td>\n      <td>525074</td>\n      <td>185541</td>\n      <td>-0.197304</td>\n      <td>51.554901</td>\n      <td>(51.554901, -0.197304)</td>\n    </tr>\n    <tr>\n      <th>2246</th>\n      <td>00014633</td>\n      <td>1.0</td>\n      <td>Mortimer Estate</td>\n      <td>Housing</td>\n      <td>Tilia europaea</td>\n      <td>2019-01-29</td>\n      <td>2021/2022</td>\n      <td>16.0</td>\n      <td>12.0</td>\n      <td>47.0</td>\n      <td>E05000140</td>\n      <td>Kilburn</td>\n      <td>525763</td>\n      <td>183613</td>\n      <td>-0.188060</td>\n      <td>51.537424</td>\n      <td>(51.537424, -0.18806)</td>\n    </tr>\n    <tr>\n      <th>5478</th>\n      <td>00060382</td>\n      <td>1.0</td>\n      <td>SHAFTESBURY AVENUE</td>\n      <td>Highways</td>\n      <td>Vacant Tree Pit</td>\n      <td>NaT</td>\n      <td>NaN</td>\n      <td>NaN</td>\n      <td>NaN</td>\n      <td>NaN</td>\n      <td>E05000138</td>\n      <td>Holborn and Covent Garden</td>\n      <td>530073</td>\n      <td>181247</td>\n      <td>-0.126813</td>\n      <td>51.515186</td>\n      <td>(51.515186, -0.126813)</td>\n    </tr>\n    <tr>\n      <th>10637</th>\n      <td>00002874</td>\n      <td>1.0</td>\n      <td>BURGHLEY ROAD</td>\n      <td>Highways</td>\n      <td>Platanus x hispanica</td>\n      <td>2017-08-14</td>\n      <td>2020/2021</td>\n      <td>20.0</td>\n      <td>8.0</td>\n      <td>52.0</td>\n      <td>E05000139</td>\n      <td>Kentish Town</td>\n      <td>529119</td>\n      <td>185889</td>\n      <td>-0.138863</td>\n      <td>51.557120</td>\n      <td>(51.55712, -0.138863)</td>\n    </tr>\n    <tr>\n      <th>10977</th>\n      <td>00055227</td>\n      <td>1.0</td>\n      <td>BURGHLEY ROAD</td>\n      <td>Highways</td>\n      <td>Amelanchier lamarckii</td>\n      <td>2017-08-14</td>\n      <td>2020/2021</td>\n      <td>3.0</td>\n      <td>2.0</td>\n      <td>5.0</td>\n      <td>E05000139</td>\n      <td>Kentish Town</td>\n      <td>528920</td>\n      <td>185694</td>\n      <td>-0.141802</td>\n      <td>51.555408</td>\n      <td>(51.555408, -0.141802)</td>\n    </tr>\n    <tr>\n      <th>11795</th>\n      <td>00016702</td>\n      <td>1.0</td>\n      <td>RED LION SQUARE, GARDENS (LS)</td>\n      <td>Parks</td>\n      <td>Platanus x hispanica</td>\n      <td>2018-06-04</td>\n      <td>2021/2022</td>\n      <td>30.0</td>\n      <td>23.0</td>\n      <td>165.0</td>\n      <td>E05000138</td>\n      <td>Holborn and Covent Garden</td>\n      <td>530572</td>\n      <td>181701</td>\n      <td>-0.119460</td>\n      <td>51.519146</td>\n      <td>(51.519146, -0.11946)</td>\n    </tr>\n    <tr>\n      <th>11856</th>\n      <td>00054744</td>\n      <td>1.0</td>\n      <td>Carrol &amp; Sanderson Close Estate</td>\n      <td>Housing</td>\n      <td>Prunus unidentified species</td>\n      <td>2017-01-06</td>\n      <td>2020/2021</td>\n      <td>3.0</td>\n      <td>3.0</td>\n      <td>13.0</td>\n      <td>E05000137</td>\n      <td>Highgate</td>\n      <td>528661</td>\n      <td>185556</td>\n      <td>-0.145585</td>\n      <td>51.554226</td>\n      <td>(51.554226, -0.145585)</td>\n    </tr>\n    <tr>\n      <th>12056</th>\n      <td>00003694</td>\n      <td>1.0</td>\n      <td>Estate 1-161 Burnham (cons)</td>\n      <td>Housing</td>\n      <td>Acer platanoides</td>\n      <td>2018-04-17</td>\n      <td>2021/2022</td>\n      <td>3.0</td>\n      <td>1.0</td>\n      <td>6.0</td>\n      <td>E05000128</td>\n      <td>Belsize</td>\n      <td>527015</td>\n      <td>184315</td>\n      <td>-0.169763</td>\n      <td>51.543451</td>\n      <td>(51.543451, -0.169763)</td>\n    </tr>\n    <tr>\n      <th>12936</th>\n      <td>00054558</td>\n      <td>1.0</td>\n      <td>ST. MARY'S KILBURN C OF E JMI (E)</td>\n      <td>Education</td>\n      <td>Amelanchier lamarckii</td>\n      <td>2019-10-07</td>\n      <td>2022/2023</td>\n      <td>4.0</td>\n      <td>2.0</td>\n      <td>8.0</td>\n      <td>E05000140</td>\n      <td>Kilburn</td>\n      <td>525443</td>\n      <td>183919</td>\n      <td>-0.192552</td>\n      <td>51.540245</td>\n      <td>(51.540245, -0.192552)</td>\n    </tr>\n    <tr>\n      <th>13248</th>\n      <td>00059317</td>\n      <td>1.0</td>\n      <td>ADELAIDE ROAD NATURE AREA</td>\n      <td>Parks</td>\n      <td>Stump Only</td>\n      <td>2019-01-31</td>\n      <td>2021/2022</td>\n      <td>0.0</td>\n      <td>5.0</td>\n      <td>50.0</td>\n      <td>E05000128</td>\n      <td>Belsize</td>\n      <td>527577</td>\n      <td>184297</td>\n      <td>-0.161664</td>\n      <td>51.543163</td>\n      <td>(51.543163, -0.161664)</td>\n    </tr>\n    <tr>\n      <th>16815</th>\n      <td>00055884</td>\n      <td>1.0</td>\n      <td>HONEYBOURNE ROAD</td>\n      <td>Highways</td>\n      <td>Acer pseudoplatanus 'Brilliant</td>\n      <td>2018-05-10</td>\n      <td>2021/2022</td>\n      <td>2.0</td>\n      <td>1.0</td>\n      <td>4.0</td>\n      <td>E05000145</td>\n      <td>West Hampstead</td>\n      <td>525593</td>\n      <td>185050</td>\n      <td>-0.189987</td>\n      <td>51.550377</td>\n      <td>(51.550377, -0.189987)</td>\n    </tr>\n    <tr>\n      <th>18690</th>\n      <td>00059963</td>\n      <td>1.0</td>\n      <td>Ampthill Square Estate</td>\n      <td>Housing</td>\n      <td>Vacant Tree Pit (planned: Parrotia persica van...</td>\n      <td>2019-01-08</td>\n      <td>2022/2023</td>\n      <td>NaN</td>\n      <td>NaN</td>\n      <td>NaN</td>\n      <td>E05000143</td>\n      <td>St Pancras and Somers Town</td>\n      <td>529216</td>\n      <td>183103</td>\n      <td>-0.138479</td>\n      <td>51.532058</td>\n      <td>(51.532058, -0.138479)</td>\n    </tr>\n    <tr>\n      <th>18958</th>\n      <td>00059246</td>\n      <td>1.0</td>\n      <td>Belsize nature reserve, Russell Nursery</td>\n      <td>Parks</td>\n      <td>Ulmus procera</td>\n      <td>2019-01-29</td>\n      <td>2021/2022</td>\n      <td>5.0</td>\n      <td>4.0</td>\n      <td>11.0</td>\n      <td>E05000134</td>\n      <td>Gospel Oak</td>\n      <td>527523</td>\n      <td>185233</td>\n      <td>-0.162101</td>\n      <td>51.551587</td>\n      <td>(51.551587, -0.162101)</td>\n    </tr>\n    <tr>\n      <th>19606</th>\n      <td>00005127</td>\n      <td>1.0</td>\n      <td>CUMBERLAND MARKET, OPEN SPACE (LS)</td>\n      <td>Parks</td>\n      <td>Platanus x hispanica</td>\n      <td>2018-03-13</td>\n      <td>2020/2021</td>\n      <td>10.0</td>\n      <td>8.0</td>\n      <td>38.0</td>\n      <td>E05000142</td>\n      <td>Regent's Park</td>\n      <td>528913</td>\n      <td>182814</td>\n      <td>-0.142959</td>\n      <td>51.529527</td>\n      <td>(51.529527, -0.142959)</td>\n    </tr>\n    <tr>\n      <th>20169</th>\n      <td>00017912</td>\n      <td>1.0</td>\n      <td>SHERRIFF ROAD</td>\n      <td>Highways</td>\n      <td>Tilia platyphyllos</td>\n      <td>2018-10-09</td>\n      <td>2021/2022</td>\n      <td>9.0</td>\n      <td>5.0</td>\n      <td>42.0</td>\n      <td>E05000145</td>\n      <td>West Hampstead</td>\n      <td>525265</td>\n      <td>184543</td>\n      <td>-0.194897</td>\n      <td>51.545886</td>\n      <td>(51.545886, -0.194897)</td>\n    </tr>\n    <tr>\n      <th>20226</th>\n      <td>00047080</td>\n      <td>1.0</td>\n      <td>Ampthill Square Estate</td>\n      <td>Housing</td>\n      <td>Malus unidentified species</td>\n      <td>2019-01-08</td>\n      <td>2022/2023</td>\n      <td>5.0</td>\n      <td>3.0</td>\n      <td>16.0</td>\n      <td>E05000143</td>\n      <td>St Pancras and Somers Town</td>\n      <td>529279</td>\n      <td>183106</td>\n      <td>-0.137573</td>\n      <td>51.532073</td>\n      <td>(51.532073, -0.137573)</td>\n    </tr>\n    <tr>\n      <th>21287</th>\n      <td>00029059</td>\n      <td>1.0</td>\n      <td>Estate 1-20 Marrick House (cons)</td>\n      <td>Housing</td>\n      <td>Sambucus nigra</td>\n      <td>2018-06-19</td>\n      <td>2021/2022</td>\n      <td>6.0</td>\n      <td>6.0</td>\n      <td>39.0</td>\n      <td>E05000140</td>\n      <td>Kilburn</td>\n      <td>525832</td>\n      <td>183583</td>\n      <td>-0.187075</td>\n      <td>51.537139</td>\n      <td>(51.537139, -0.187075)</td>\n    </tr>\n    <tr>\n      <th>22470</th>\n      <td>00012126</td>\n      <td>1.0</td>\n      <td>KINGS COLLEGE ROAD</td>\n      <td>Highways</td>\n      <td>Fraxinus excelsior</td>\n      <td>2018-07-13</td>\n      <td>2021/2022</td>\n      <td>18.0</td>\n      <td>12.0</td>\n      <td>48.0</td>\n      <td>E05000128</td>\n      <td>Belsize</td>\n      <td>526999</td>\n      <td>184416</td>\n      <td>-0.169957</td>\n      <td>51.544363</td>\n      <td>(51.544363, -0.169957)</td>\n    </tr>\n    <tr>\n      <th>23301</th>\n      <td>00010784</td>\n      <td>1.0</td>\n      <td>Holly Lodge Estate</td>\n      <td>Housing</td>\n      <td>Ilex aquifolium</td>\n      <td>2017-06-14</td>\n      <td>2020/2021</td>\n      <td>7.0</td>\n      <td>5.0</td>\n      <td>20.0</td>\n      <td>E05000137</td>\n      <td>Highgate</td>\n      <td>528472</td>\n      <td>186812</td>\n      <td>-0.147845</td>\n      <td>51.565562</td>\n      <td>(51.565562, -0.147845)</td>\n    </tr>\n    <tr>\n      <th>23315</th>\n      <td>00056485</td>\n      <td>1.0</td>\n      <td>WATERLOW PARK (LS)</td>\n      <td>Parks</td>\n      <td>Fraxinus excelsior</td>\n      <td>2019-05-24</td>\n      <td>2022/2023</td>\n      <td>12.0</td>\n      <td>5.0</td>\n      <td>16.0</td>\n      <td>E05000137</td>\n      <td>Highgate</td>\n      <td>528730</td>\n      <td>187264</td>\n      <td>-0.143955</td>\n      <td>51.569567</td>\n      <td>(51.569567, -0.143955)</td>\n    </tr>\n  </tbody>\n</table>\n</div>"
     },
     "execution_count": 95,
     "metadata": {},
     "output_type": "execute_result"
    }
   ],
   "source": [
    "# Find trees that don't have matching environmental data\n",
    "non_matching_trees = trees[~trees['Identifier'].isin(trees_environment['Identifier'])]\n",
    "print(\"Trees without matching environmental data:\")\n",
    "non_matching_trees"
   ]
  },
  {
   "cell_type": "code",
   "execution_count": 96,
   "id": "36cabc0b-2d67-4a8d-8d85-6d3d3b40acfb",
   "metadata": {
    "ExecuteTime": {
     "end_time": "2023-12-14T16:54:39.652776800Z",
     "start_time": "2023-12-14T16:54:39.199875300Z"
    }
   },
   "outputs": [
    {
     "name": "stdout",
     "output_type": "stream",
     "text": [
      "Number of rows without matching data:\n"
     ]
    },
    {
     "data": {
      "text/plain": "23"
     },
     "execution_count": 96,
     "metadata": {},
     "output_type": "execute_result"
    }
   ],
   "source": [
    "# Confirm how many rows we have\n",
    "print(\"Number of rows without matching data:\")\n",
    "non_matching_trees.shape[0]"
   ]
  },
  {
   "cell_type": "markdown",
   "id": "163e0301-fae2-41cc-a7a7-11a31b9e0499",
   "metadata": {},
   "source": [
    "### 8.2 Find Environmental Data that Doesn't have Matching Tree Data\n",
    "<div style=\"background-color:lemonchiffon; border:1px solid; padding:5px; margin:5px; font-weight:bold\"><font color=\"crimson\">\n",
    "TODO: Complete the following code cells\n",
    "    </font></div>"
   ]
  },
  {
   "cell_type": "code",
   "execution_count": 97,
   "id": "17727576-c7c3-487a-87d1-d27d326f661c",
   "metadata": {
    "ExecuteTime": {
     "end_time": "2023-12-14T16:54:39.696505100Z",
     "start_time": "2023-12-14T16:54:39.213185800Z"
    }
   },
   "outputs": [
    {
     "name": "stdout",
     "output_type": "stream",
     "text": [
      "Environmental data without matching trees:\n"
     ]
    },
    {
     "data": {
      "text/plain": "Empty DataFrame\nColumns: [Identifier, Maturity, Physiological Condition, Tree Set To Be Removed, Removal Reason, Capital Asset Value For Amenity Trees, Carbon Storage In Kilograms, Gross Carbon Sequestration Per Year In Kilograms, Pollution Removal Per Year In Grams]\nIndex: []",
      "text/html": "<div>\n<style scoped>\n    .dataframe tbody tr th:only-of-type {\n        vertical-align: middle;\n    }\n\n    .dataframe tbody tr th {\n        vertical-align: top;\n    }\n\n    .dataframe thead th {\n        text-align: right;\n    }\n</style>\n<table border=\"1\" class=\"dataframe\">\n  <thead>\n    <tr style=\"text-align: right;\">\n      <th></th>\n      <th>Identifier</th>\n      <th>Maturity</th>\n      <th>Physiological Condition</th>\n      <th>Tree Set To Be Removed</th>\n      <th>Removal Reason</th>\n      <th>Capital Asset Value For Amenity Trees</th>\n      <th>Carbon Storage In Kilograms</th>\n      <th>Gross Carbon Sequestration Per Year In Kilograms</th>\n      <th>Pollution Removal Per Year In Grams</th>\n    </tr>\n  </thead>\n  <tbody>\n  </tbody>\n</table>\n</div>"
     },
     "execution_count": 97,
     "metadata": {},
     "output_type": "execute_result"
    }
   ],
   "source": [
    "# Find environmental data that doesn't have matching tree data\n",
    "non_matching_trees_environment = trees_environment[~trees_environment['Identifier'].isin(trees['Identifier'])]\n",
    "print(\"Environmental data without matching trees:\")\n",
    "non_matching_trees_environment"
   ]
  },
  {
   "cell_type": "code",
   "execution_count": 98,
   "id": "7c562a4f-6a70-4e53-8dc5-c2ebd3a1417f",
   "metadata": {
    "ExecuteTime": {
     "end_time": "2023-12-14T16:54:39.718243100Z",
     "start_time": "2023-12-14T16:54:39.229947100Z"
    }
   },
   "outputs": [
    {
     "name": "stdout",
     "output_type": "stream",
     "text": [
      "Number of rows without matching data:\n"
     ]
    },
    {
     "data": {
      "text/plain": "0"
     },
     "execution_count": 98,
     "metadata": {},
     "output_type": "execute_result"
    }
   ],
   "source": [
    "# Confirm how many rows we have\n",
    "print(\"Number of rows without matching data:\")\n",
    "non_matching_trees_environment.shape[0]"
   ]
  },
  {
   "cell_type": "markdown",
   "id": "ce4445b4-53db-4d95-82b6-4af1088046bf",
   "metadata": {},
   "source": [
    "### 8.3 Find Trees that Don't have Matching Common Names Data\n",
    "<div style=\"background-color:lemonchiffon; border:1px solid; padding:5px; margin:5px; font-weight:bold\"><font color=\"crimson\">\n",
    "TODO: Complete the following code cells\n",
    "    </font></div>"
   ]
  },
  {
   "cell_type": "code",
   "execution_count": 99,
   "id": "f66f9bfd-6bfc-4faf-946e-d5d8f6cbb4b6",
   "metadata": {
    "ExecuteTime": {
     "end_time": "2023-12-14T16:54:39.886277300Z",
     "start_time": "2023-12-14T16:54:39.270736200Z"
    }
   },
   "outputs": [
    {
     "name": "stdout",
     "output_type": "stream",
     "text": [
      "Trees without matching common name data:\n"
     ]
    },
    {
     "data": {
      "text/plain": "      Identifier  Number Of Trees                             Site Name  \\\n151     00051832              1.0                           ARGYLE WALK   \n384     00053954              1.0                        CHURCHILL ROAD   \n495     00047497              1.0                        PATSHULL PLACE   \n611     00055434              1.0                  SHARPLES HALL STREET   \n653     00055289              1.0                      QUEEN'S CRESCENT   \n...          ...              ...                                   ...   \n21826   00050835              1.0                           INGESTRE RD   \n22948   00052341              1.0                    NEW COMPTON STREET   \n23266   00048846              1.0                           ASMARA ROAD   \n23335   00048705              1.0                     GOLDINGTON STREET   \n23372   00031627              1.0  ST. GEORGE THE MARTYR C OF E JMI (E)   \n\n      Contract Area                Scientific Name Inspection Date  \\\n151        Highways  Sorbus aucuparia 'Streetwise'      2019-02-10   \n384        Highways  Sorbus aucuparia 'Streetwise'      2017-10-07   \n495        Highways  Sorbus aucuparia 'Streetwise'      2017-06-22   \n611        Highways  Sorbus aucuparia 'Streetwise'      2019-09-30   \n653        Highways  Sorbus aucuparia 'Streetwise'      2017-07-08   \n...             ...                            ...             ...   \n21826      Highways  Sorbus aucuparia 'Streetwise'      2017-08-18   \n22948      Highways  Sorbus aucuparia 'Streetwise'      2019-07-08   \n23266      Highways  Sorbus aucuparia 'Streetwise'      2018-08-28   \n23335      Highways  Sorbus aucuparia 'Streetwise'      2019-10-23   \n23372     Education       Cotoneaster salicifolius      2018-07-23   \n\n      Inspection Due Date  Height In Metres  Spread In Metres  \\\n151             2022/2023               7.0               3.0   \n384             2020/2021               3.0               2.0   \n495             2020/2021               5.0               3.0   \n611             2022/2023               2.0               2.0   \n653             2020/2021               4.0               1.0   \n...                   ...               ...               ...   \n21826           2020/2021               3.0               1.0   \n22948           2022/2023               4.0               3.0   \n23266           2021/2022               5.0               3.0   \n23335           2022/2023               6.0               2.0   \n23372           2021/2022               5.0               5.0   \n\n       Diameter In Centimetres At Breast Height  Ward Code  \\\n151                                        12.0  E05000141   \n384                                         5.0  E05000139   \n495                                        11.0  E05000131   \n611                                         4.0  E05000130   \n653                                         7.0  E05000136   \n...                                         ...        ...   \n21826                                       7.0  E05000139   \n22948                                       6.0  E05000138   \n23266                                       8.0  E05000132   \n23335                                      12.0  E05000143   \n23372                                       8.0  E05000138   \n\n                            Ward Name  Easting  Northing  Longitude  \\\n151                      King's Cross   530227    182706  -0.124054   \n384                      Kentish Town   529007    185975  -0.140440   \n495                        Cantelowes   529202    184717  -0.138094   \n611    Camden Town with Primrose Hill   527962    184050  -0.156202   \n653                        Haverstock   528072    184723  -0.154369   \n...                               ...      ...       ...        ...   \n21826                    Kentish Town   528962    185826  -0.141137   \n22948       Holborn and Covent Garden   529976    181160  -0.128249   \n23266                   Fortune Green   524568    185347  -0.204661   \n23335      St Pancras and Somers Town   529662    183417  -0.131941   \n23372       Holborn and Covent Garden   530742    182119  -0.116856   \n\n        Latitude                Location  \n151    51.528257  (51.528257, -0.124054)  \n384    51.557913   (51.557913, -0.14044)  \n495    51.546569  (51.546569, -0.138094)  \n611    51.540853  (51.540853, -0.156202)  \n653    51.546881  (51.546881, -0.154369)  \n...          ...                     ...  \n21826  51.556589  (51.556589, -0.141137)  \n22948  51.514422  (51.514422, -0.128249)  \n23266  51.553268  (51.553268, -0.204661)  \n23335  51.534780   (51.53478, -0.131941)  \n23372  51.522865  (51.522865, -0.116856)  \n\n[76 rows x 17 columns]",
      "text/html": "<div>\n<style scoped>\n    .dataframe tbody tr th:only-of-type {\n        vertical-align: middle;\n    }\n\n    .dataframe tbody tr th {\n        vertical-align: top;\n    }\n\n    .dataframe thead th {\n        text-align: right;\n    }\n</style>\n<table border=\"1\" class=\"dataframe\">\n  <thead>\n    <tr style=\"text-align: right;\">\n      <th></th>\n      <th>Identifier</th>\n      <th>Number Of Trees</th>\n      <th>Site Name</th>\n      <th>Contract Area</th>\n      <th>Scientific Name</th>\n      <th>Inspection Date</th>\n      <th>Inspection Due Date</th>\n      <th>Height In Metres</th>\n      <th>Spread In Metres</th>\n      <th>Diameter In Centimetres At Breast Height</th>\n      <th>Ward Code</th>\n      <th>Ward Name</th>\n      <th>Easting</th>\n      <th>Northing</th>\n      <th>Longitude</th>\n      <th>Latitude</th>\n      <th>Location</th>\n    </tr>\n  </thead>\n  <tbody>\n    <tr>\n      <th>151</th>\n      <td>00051832</td>\n      <td>1.0</td>\n      <td>ARGYLE WALK</td>\n      <td>Highways</td>\n      <td>Sorbus aucuparia 'Streetwise'</td>\n      <td>2019-02-10</td>\n      <td>2022/2023</td>\n      <td>7.0</td>\n      <td>3.0</td>\n      <td>12.0</td>\n      <td>E05000141</td>\n      <td>King's Cross</td>\n      <td>530227</td>\n      <td>182706</td>\n      <td>-0.124054</td>\n      <td>51.528257</td>\n      <td>(51.528257, -0.124054)</td>\n    </tr>\n    <tr>\n      <th>384</th>\n      <td>00053954</td>\n      <td>1.0</td>\n      <td>CHURCHILL ROAD</td>\n      <td>Highways</td>\n      <td>Sorbus aucuparia 'Streetwise'</td>\n      <td>2017-10-07</td>\n      <td>2020/2021</td>\n      <td>3.0</td>\n      <td>2.0</td>\n      <td>5.0</td>\n      <td>E05000139</td>\n      <td>Kentish Town</td>\n      <td>529007</td>\n      <td>185975</td>\n      <td>-0.140440</td>\n      <td>51.557913</td>\n      <td>(51.557913, -0.14044)</td>\n    </tr>\n    <tr>\n      <th>495</th>\n      <td>00047497</td>\n      <td>1.0</td>\n      <td>PATSHULL PLACE</td>\n      <td>Highways</td>\n      <td>Sorbus aucuparia 'Streetwise'</td>\n      <td>2017-06-22</td>\n      <td>2020/2021</td>\n      <td>5.0</td>\n      <td>3.0</td>\n      <td>11.0</td>\n      <td>E05000131</td>\n      <td>Cantelowes</td>\n      <td>529202</td>\n      <td>184717</td>\n      <td>-0.138094</td>\n      <td>51.546569</td>\n      <td>(51.546569, -0.138094)</td>\n    </tr>\n    <tr>\n      <th>611</th>\n      <td>00055434</td>\n      <td>1.0</td>\n      <td>SHARPLES HALL STREET</td>\n      <td>Highways</td>\n      <td>Sorbus aucuparia 'Streetwise'</td>\n      <td>2019-09-30</td>\n      <td>2022/2023</td>\n      <td>2.0</td>\n      <td>2.0</td>\n      <td>4.0</td>\n      <td>E05000130</td>\n      <td>Camden Town with Primrose Hill</td>\n      <td>527962</td>\n      <td>184050</td>\n      <td>-0.156202</td>\n      <td>51.540853</td>\n      <td>(51.540853, -0.156202)</td>\n    </tr>\n    <tr>\n      <th>653</th>\n      <td>00055289</td>\n      <td>1.0</td>\n      <td>QUEEN'S CRESCENT</td>\n      <td>Highways</td>\n      <td>Sorbus aucuparia 'Streetwise'</td>\n      <td>2017-07-08</td>\n      <td>2020/2021</td>\n      <td>4.0</td>\n      <td>1.0</td>\n      <td>7.0</td>\n      <td>E05000136</td>\n      <td>Haverstock</td>\n      <td>528072</td>\n      <td>184723</td>\n      <td>-0.154369</td>\n      <td>51.546881</td>\n      <td>(51.546881, -0.154369)</td>\n    </tr>\n    <tr>\n      <th>...</th>\n      <td>...</td>\n      <td>...</td>\n      <td>...</td>\n      <td>...</td>\n      <td>...</td>\n      <td>...</td>\n      <td>...</td>\n      <td>...</td>\n      <td>...</td>\n      <td>...</td>\n      <td>...</td>\n      <td>...</td>\n      <td>...</td>\n      <td>...</td>\n      <td>...</td>\n      <td>...</td>\n      <td>...</td>\n    </tr>\n    <tr>\n      <th>21826</th>\n      <td>00050835</td>\n      <td>1.0</td>\n      <td>INGESTRE RD</td>\n      <td>Highways</td>\n      <td>Sorbus aucuparia 'Streetwise'</td>\n      <td>2017-08-18</td>\n      <td>2020/2021</td>\n      <td>3.0</td>\n      <td>1.0</td>\n      <td>7.0</td>\n      <td>E05000139</td>\n      <td>Kentish Town</td>\n      <td>528962</td>\n      <td>185826</td>\n      <td>-0.141137</td>\n      <td>51.556589</td>\n      <td>(51.556589, -0.141137)</td>\n    </tr>\n    <tr>\n      <th>22948</th>\n      <td>00052341</td>\n      <td>1.0</td>\n      <td>NEW COMPTON STREET</td>\n      <td>Highways</td>\n      <td>Sorbus aucuparia 'Streetwise'</td>\n      <td>2019-07-08</td>\n      <td>2022/2023</td>\n      <td>4.0</td>\n      <td>3.0</td>\n      <td>6.0</td>\n      <td>E05000138</td>\n      <td>Holborn and Covent Garden</td>\n      <td>529976</td>\n      <td>181160</td>\n      <td>-0.128249</td>\n      <td>51.514422</td>\n      <td>(51.514422, -0.128249)</td>\n    </tr>\n    <tr>\n      <th>23266</th>\n      <td>00048846</td>\n      <td>1.0</td>\n      <td>ASMARA ROAD</td>\n      <td>Highways</td>\n      <td>Sorbus aucuparia 'Streetwise'</td>\n      <td>2018-08-28</td>\n      <td>2021/2022</td>\n      <td>5.0</td>\n      <td>3.0</td>\n      <td>8.0</td>\n      <td>E05000132</td>\n      <td>Fortune Green</td>\n      <td>524568</td>\n      <td>185347</td>\n      <td>-0.204661</td>\n      <td>51.553268</td>\n      <td>(51.553268, -0.204661)</td>\n    </tr>\n    <tr>\n      <th>23335</th>\n      <td>00048705</td>\n      <td>1.0</td>\n      <td>GOLDINGTON STREET</td>\n      <td>Highways</td>\n      <td>Sorbus aucuparia 'Streetwise'</td>\n      <td>2019-10-23</td>\n      <td>2022/2023</td>\n      <td>6.0</td>\n      <td>2.0</td>\n      <td>12.0</td>\n      <td>E05000143</td>\n      <td>St Pancras and Somers Town</td>\n      <td>529662</td>\n      <td>183417</td>\n      <td>-0.131941</td>\n      <td>51.534780</td>\n      <td>(51.53478, -0.131941)</td>\n    </tr>\n    <tr>\n      <th>23372</th>\n      <td>00031627</td>\n      <td>1.0</td>\n      <td>ST. GEORGE THE MARTYR C OF E JMI (E)</td>\n      <td>Education</td>\n      <td>Cotoneaster salicifolius</td>\n      <td>2018-07-23</td>\n      <td>2021/2022</td>\n      <td>5.0</td>\n      <td>5.0</td>\n      <td>8.0</td>\n      <td>E05000138</td>\n      <td>Holborn and Covent Garden</td>\n      <td>530742</td>\n      <td>182119</td>\n      <td>-0.116856</td>\n      <td>51.522865</td>\n      <td>(51.522865, -0.116856)</td>\n    </tr>\n  </tbody>\n</table>\n<p>76 rows × 17 columns</p>\n</div>"
     },
     "execution_count": 99,
     "metadata": {},
     "output_type": "execute_result"
    }
   ],
   "source": [
    "# Find trees with scientific names that don't have matching common names data\n",
    "non_matching_trees_names = trees[~trees['Scientific Name'].isin(trees_names['Scientific Name'])]\n",
    "print(\"Trees without matching common name data:\")\n",
    "non_matching_trees_names"
   ]
  },
  {
   "cell_type": "code",
   "execution_count": 100,
   "id": "183f5951-2c4e-486a-beb9-68abc8be8674",
   "metadata": {
    "ExecuteTime": {
     "end_time": "2023-12-14T16:54:39.887266400Z",
     "start_time": "2023-12-14T16:54:39.279315800Z"
    }
   },
   "outputs": [
    {
     "name": "stdout",
     "output_type": "stream",
     "text": [
      "Number of rows without matching data:\n"
     ]
    },
    {
     "data": {
      "text/plain": "76"
     },
     "execution_count": 100,
     "metadata": {},
     "output_type": "execute_result"
    }
   ],
   "source": [
    "# Confirm how many rows we have\n",
    "print(\"Number of rows without matching data:\")\n",
    "non_matching_trees_names.shape[0]"
   ]
  },
  {
   "cell_type": "markdown",
   "id": "28a9ce1a-e0d6-42b2-b83a-bfb1c1a21f75",
   "metadata": {},
   "source": [
    "<hr/>\n",
    "\n",
    "### 8.4 Observations\n",
    "\n",
    "<div style=\"background-color:lemonchiffon; border:1px solid; padding:5px; margin:5px; font-weight:bold\"><font color=\"crimson\">\n",
    "TODO: Write down your observation about unmatched data issues.\n",
    "    </font></div>\n"
   ]
  },
  {
   "cell_type": "markdown",
   "id": "80b550e2-3d7e-44af-990a-cc59b070c269",
   "metadata": {},
   "source": [
    "ENTER MARKDOWN HERE\n",
    "\n",
    "All the environmental data has matching tree data. We do have 23 rows of tree data that is missing name and environmental data."
   ]
  },
  {
   "cell_type": "markdown",
   "id": "663f0130-1aee-4590-b6d3-ddc531035415",
   "metadata": {},
   "source": [
    "<hr/>"
   ]
  },
  {
   "cell_type": "markdown",
   "id": "ecb4c78f-147a-4cb7-b646-1de2d365c5e5",
   "metadata": {},
   "source": [
    "# END OF NOTEBOOK"
   ]
  },
  {
   "cell_type": "code",
   "execution_count": 100,
   "id": "23027640-3750-4ea5-9057-e81626698bdb",
   "metadata": {
    "ExecuteTime": {
     "end_time": "2023-12-14T16:54:39.887266400Z",
     "start_time": "2023-12-14T16:54:39.294746900Z"
    }
   },
   "outputs": [],
   "source": []
  }
 ],
 "metadata": {
  "kernelspec": {
   "display_name": "Python 3 (ipykernel)",
   "language": "python",
   "name": "python3"
  },
  "language_info": {
   "codemirror_mode": {
    "name": "ipython",
    "version": 3
   },
   "file_extension": ".py",
   "mimetype": "text/x-python",
   "name": "python",
   "nbconvert_exporter": "python",
   "pygments_lexer": "ipython3",
   "version": "3.9.7"
  }
 },
 "nbformat": 4,
 "nbformat_minor": 5
}
